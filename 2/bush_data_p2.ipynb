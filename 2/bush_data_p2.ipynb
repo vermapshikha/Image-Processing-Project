{
 "cells": [
  {
   "cell_type": "code",
   "execution_count": 2,
   "metadata": {},
   "outputs": [],
   "source": [
    "import pandas as pd\n",
    "import pickle\n",
    "import numpy as np\n",
    "import matplotlib.pyplot as plt\n",
    "from sklearn.neighbors import KNeighborsClassifier\n",
    "from sklearn.decomposition import PCA\n",
    "from sklearn.model_selection import cross_validate,StratifiedKFold\n",
    "from sklearn import svm"
   ]
  },
  {
   "cell_type": "code",
   "execution_count": 3,
   "metadata": {},
   "outputs": [
    {
     "name": "stdout",
     "output_type": "stream",
     "text": [
      "(13233, 4096)\n",
      "530\n"
     ]
    }
   ],
   "source": [
    "X=pd.read_csv(\"data\\X.csv\", sep=' ',header=None, dtype=float)\n",
    "X=X.values\n",
    "Y=pd.read_csv(\"data\\y_bush_vs_others.csv\", header=None)\n",
    "y_bush = Y.values.ravel()\n",
    "print(X.shape)\n",
    "print(np.sum(y_bush))"
   ]
  },
  {
   "cell_type": "code",
   "execution_count": 3,
   "metadata": {},
   "outputs": [],
   "source": [
    "pca = PCA(n_components=100)\n",
    "X_n=pca.fit(X)"
   ]
  },
  {
   "cell_type": "code",
   "execution_count": 4,
   "metadata": {},
   "outputs": [
    {
     "name": "stdout",
     "output_type": "stream",
     "text": [
      "(100, 4096)\n"
     ]
    }
   ],
   "source": [
    "print(pca.components_.shape)"
   ]
  },
  {
   "cell_type": "code",
   "execution_count": 5,
   "metadata": {},
   "outputs": [
    {
     "name": "stdout",
     "output_type": "stream",
     "text": [
      "(13233, 100)\n"
     ]
    }
   ],
   "source": [
    "X_pca = pca.transform(X)\n",
    "print(X_pca.shape)"
   ]
  },
  {
   "cell_type": "code",
   "execution_count": 17,
   "metadata": {},
   "outputs": [],
   "source": [
    "svc_s=svm.SVC(C=0.1,kernel='linear')"
   ]
  },
  {
   "cell_type": "code",
   "execution_count": 18,
   "metadata": {},
   "outputs": [
    {
     "name": "stderr",
     "output_type": "stream",
     "text": [
      "c:\\users\\spver\\appdata\\local\\programs\\python\\python36\\lib\\site-packages\\sklearn\\metrics\\classification.py:1135: UndefinedMetricWarning: Precision is ill-defined and being set to 0.0 due to no predicted samples.\n",
      "  'precision', 'predicted', average, warn_for)\n",
      "c:\\users\\spver\\appdata\\local\\programs\\python\\python36\\lib\\site-packages\\sklearn\\metrics\\classification.py:1135: UndefinedMetricWarning: F-score is ill-defined and being set to 0.0 due to no predicted samples.\n",
      "  'precision', 'predicted', average, warn_for)\n",
      "c:\\users\\spver\\appdata\\local\\programs\\python\\python36\\lib\\site-packages\\sklearn\\metrics\\classification.py:1135: UndefinedMetricWarning: Precision is ill-defined and being set to 0.0 due to no predicted samples.\n",
      "  'precision', 'predicted', average, warn_for)\n",
      "c:\\users\\spver\\appdata\\local\\programs\\python\\python36\\lib\\site-packages\\sklearn\\metrics\\classification.py:1135: UndefinedMetricWarning: F-score is ill-defined and being set to 0.0 due to no predicted samples.\n",
      "  'precision', 'predicted', average, warn_for)\n",
      "c:\\users\\spver\\appdata\\local\\programs\\python\\python36\\lib\\site-packages\\sklearn\\metrics\\classification.py:1135: UndefinedMetricWarning: Precision is ill-defined and being set to 0.0 due to no predicted samples.\n",
      "  'precision', 'predicted', average, warn_for)\n"
     ]
    },
    {
     "name": "stdout",
     "output_type": "stream",
     "text": [
      "{'fit_time': array([3.34696269, 3.52086496, 3.48779345]), 'score_time': array([4.17088842, 4.00011349, 4.22343659]), 'test_precision': array([0., 0., 0.]), 'test_recall': array([0., 0., 0.]), 'test_f1': array([0., 0., 0.])}\n"
     ]
    },
    {
     "name": "stderr",
     "output_type": "stream",
     "text": [
      "c:\\users\\spver\\appdata\\local\\programs\\python\\python36\\lib\\site-packages\\sklearn\\metrics\\classification.py:1135: UndefinedMetricWarning: F-score is ill-defined and being set to 0.0 due to no predicted samples.\n",
      "  'precision', 'predicted', average, warn_for)\n"
     ]
    }
   ],
   "source": [
    "stratified_cv_results_d=cross_validate(svc_s, X_pca, y_bush, cv=StratifiedKFold(n_splits=3, shuffle=True, random_state=8401),\n",
    "                                     scoring=('precision','recall','f1'), return_train_score=False)\n",
    "print(stratified_cv_results_d)"
   ]
  },
  {
   "cell_type": "code",
   "execution_count": 6,
   "metadata": {},
   "outputs": [],
   "source": [
    "svc_s=svm.SVC(C=10,kernel='linear')"
   ]
  },
  {
   "cell_type": "markdown",
   "metadata": {},
   "source": [
    "<h3>n_components =1500 </h3>"
   ]
  },
  {
   "cell_type": "code",
   "execution_count": 21,
   "metadata": {},
   "outputs": [],
   "source": [
    "pca = PCA(n_components=1900)\n",
    "X_pca=pca.fit_transform(X)"
   ]
  },
  {
   "cell_type": "code",
   "execution_count": 22,
   "metadata": {},
   "outputs": [
    {
     "name": "stdout",
     "output_type": "stream",
     "text": [
      "(13233, 1900)\n",
      "[[-6.17302394e+00 -1.83102506e+00 -6.82618249e-01 ...  8.58210923e-02\n",
      "  -4.90458634e-02 -1.29203380e-02]\n",
      " [-8.74472615e+00 -1.06152081e+00  4.39499342e+00 ... -8.79302675e-03\n",
      "   2.80614791e-02 -7.78455513e-02]\n",
      " [-5.58314778e+00  3.12191247e+00 -1.73468030e+00 ... -1.75837864e-02\n",
      "  -4.95467813e-02  7.28732836e-03]\n",
      " ...\n",
      " [-1.15627879e+01 -3.03118032e+00 -1.31590288e+00 ... -2.47865678e-04\n",
      "  -6.58332011e-02 -6.55184489e-02]\n",
      " [-1.29620813e+01 -3.61012008e+00  2.00276782e+00 ...  1.66763857e-02\n",
      "  -5.76621634e-03 -7.43748471e-03]\n",
      " [-3.23516636e+00 -4.68425394e+00 -1.80796164e+00 ...  1.39345594e-01\n",
      "  -4.19465339e-02  5.42968503e-03]]\n",
      "0.0013806783329050934\n"
     ]
    }
   ],
   "source": [
    "print(X_pca.shape)\n",
    "print(X_pca)\n",
    "value=(1/(X_pca.shape[1]*X_pca.std()))\n",
    "print(value)"
   ]
  },
  {
   "cell_type": "code",
   "execution_count": 5,
   "metadata": {},
   "outputs": [
    {
     "name": "stdout",
     "output_type": "stream",
     "text": [
      "{'fit_time': array([43.91119838, 45.00878954, 45.19480109]), 'score_time': array([40.39154196, 39.02109861, 41.60505605]), 'test_precision': array([0.54491018, 0.60451977, 0.54368932]), 'test_recall': array([0.51412429, 0.60451977, 0.63636364]), 'test_f1': array([0.52906977, 0.60451977, 0.58638743])}\n",
      "0.5733256586693779\n"
     ]
    }
   ],
   "source": [
    "svc_s=svm.SVC(C=1,kernel='linear')\n",
    "stratified_cv_results_d=cross_validate(svc_s, X_pca, y_bush, cv=StratifiedKFold(n_splits=3, shuffle=True, random_state=8401),\n",
    "                                     scoring=('precision','recall','f1'), return_train_score=False)\n",
    "print(stratified_cv_results_d)\n",
    "print(np.mean(stratified_cv_results_d['test_f1']))"
   ]
  },
  {
   "cell_type": "code",
   "execution_count": 6,
   "metadata": {},
   "outputs": [
    {
     "name": "stdout",
     "output_type": "stream",
     "text": [
      "{'fit_time': array([40.07915688, 32.8579514 , 25.60049701]), 'score_time': array([38.1385386 , 20.11270761, 20.8256402 ]), 'test_precision': array([0.53846154, 0.60451977, 0.53694581]), 'test_recall': array([0.51412429, 0.60451977, 0.61931818]), 'test_f1': array([0.52601156, 0.60451977, 0.57519789])}\n",
      "0.568576407962333\n"
     ]
    }
   ],
   "source": [
    "svc_s=svm.SVC(C=10,kernel='linear')\n",
    "stratified_cv_results_d=cross_validate(svc_s, X_pca, y_bush, cv=StratifiedKFold(n_splits=3, shuffle=True, random_state=8401),\n",
    "                                     scoring=('precision','recall','f1'), return_train_score=False)\n",
    "print(stratified_cv_results_d)\n",
    "print(np.mean(stratified_cv_results_d['test_f1']))"
   ]
  },
  {
   "cell_type": "code",
   "execution_count": 23,
   "metadata": {},
   "outputs": [
    {
     "name": "stdout",
     "output_type": "stream",
     "text": [
      "{'fit_time': array([55.0782938 , 57.29162908, 57.36782551]), 'score_time': array([55.6592381 , 55.42238736, 57.08980393]), 'test_precision': array([0.76      , 0.71428571, 0.75694444]), 'test_recall': array([0.53672316, 0.56497175, 0.61931818]), 'test_f1': array([0.62913907, 0.63091483, 0.68125   ])}\n",
      "0.6471012997820349\n"
     ]
    }
   ],
   "source": [
    "svc_s=svm.SVC(C=0.1,kernel='linear')\n",
    "stratified_cv_results_d=cross_validate(svc_s, X_pca, y_bush, cv=StratifiedKFold(n_splits=3, shuffle=True, random_state=8401),\n",
    "                                     scoring=('precision','recall','f1'), return_train_score=False)\n",
    "print(stratified_cv_results_d)\n",
    "print(np.mean(stratified_cv_results_d['test_f1']))"
   ]
  },
  {
   "cell_type": "code",
   "execution_count": 8,
   "metadata": {},
   "outputs": [
    {
     "name": "stdout",
     "output_type": "stream",
     "text": [
      "{'fit_time': array([35.89201593, 33.05480552, 37.91723084]), 'score_time': array([44.89725256, 53.11290669, 48.73585629]), 'test_precision': array([0.8974359 , 0.84782609, 0.82828283]), 'test_recall': array([0.39548023, 0.44067797, 0.46590909]), 'test_f1': array([0.54901961, 0.57992565, 0.59636364])}\n"
     ]
    }
   ],
   "source": [
    "value=(1/(X_pca.shape[1]*X_pca.std()))\n",
    "svc_rbf_1=svm.SVC(C=100000,kernel='rbf',gamma=value)\n",
    "stratified_cv_results_rbf_a=cross_validate(svc_rbf_1, X_pca, y_bush, cv=StratifiedKFold(n_splits=3, shuffle=True, random_state=8401),\n",
    "                                     scoring=('precision','recall','f1'), return_train_score=False)\n",
    "print(stratified_cv_results_rbf_a)"
   ]
  },
  {
   "cell_type": "code",
   "execution_count": 9,
   "metadata": {},
   "outputs": [
    {
     "name": "stdout",
     "output_type": "stream",
     "text": [
      "0.5751029649214648\n"
     ]
    }
   ],
   "source": [
    "print(np.mean(stratified_cv_results_rbf_a['test_f1']))"
   ]
  },
  {
   "cell_type": "code",
   "execution_count": 10,
   "metadata": {},
   "outputs": [
    {
     "name": "stdout",
     "output_type": "stream",
     "text": [
      "{'fit_time': array([36.36794806, 32.03301287, 36.0924387 ]), 'score_time': array([46.4247818 , 46.95939541, 44.39791846]), 'test_precision': array([0.8974359 , 0.84782609, 0.82828283]), 'test_recall': array([0.39548023, 0.44067797, 0.46590909]), 'test_f1': array([0.54901961, 0.57992565, 0.59636364])}\n",
      "0.5751029649214648\n"
     ]
    }
   ],
   "source": [
    "value=(1/(X_pca.shape[1]*X_pca.std()))\n",
    "svc_rbf_1=svm.SVC(C=10000000,kernel='rbf',gamma=value)\n",
    "stratified_cv_results_rbf_a=cross_validate(svc_rbf_1, X_pca, y_bush, cv=StratifiedKFold(n_splits=3, shuffle=True, random_state=8401),\n",
    "                                     scoring=('precision','recall','f1'), return_train_score=False)\n",
    "print(stratified_cv_results_rbf_a)\n",
    "print(np.mean(stratified_cv_results_rbf_a['test_f1']))"
   ]
  },
  {
   "cell_type": "code",
   "execution_count": 11,
   "metadata": {},
   "outputs": [
    {
     "name": "stdout",
     "output_type": "stream",
     "text": [
      "{'fit_time': array([36.4815402 , 59.46541524, 28.42640138]), 'score_time': array([66.65373874, 34.80277371, 35.22705436]), 'test_precision': array([0.85897436, 0.91025641, 0.87777778]), 'test_recall': array([0.37853107, 0.40112994, 0.44886364]), 'test_f1': array([0.5254902 , 0.55686275, 0.59398496])}\n",
      "0.5587793011941619\n"
     ]
    }
   ],
   "source": [
    "svc_poly_1=svm.SVC(C=10,kernel='poly',degree=3,coef0=1)\n",
    "stratified_cv_results_poly_1=cross_validate(svc_poly_1, X_pca, y_bush, cv=StratifiedKFold(n_splits=3, shuffle=True, random_state=8401),\n",
    "                                     scoring=('precision','recall','f1'), return_train_score=False)\n",
    "print(stratified_cv_results_poly_1)\n",
    "print(np.mean(stratified_cv_results_poly_1['test_f1']))"
   ]
  },
  {
   "cell_type": "code",
   "execution_count": 24,
   "metadata": {},
   "outputs": [
    {
     "name": "stdout",
     "output_type": "stream",
     "text": [
      "{'fit_time': array([69.21083021, 71.9322257 , 67.30635476]), 'score_time': array([97.97700381, 96.41349912, 97.07403636]), 'test_precision': array([0.84615385, 0.84375   , 0.82524272]), 'test_recall': array([0.43502825, 0.45762712, 0.48295455]), 'test_f1': array([0.57462687, 0.59340659, 0.609319  ])}\n",
      "0.5924508184980019\n"
     ]
    }
   ],
   "source": [
    "svc_poly_1=svm.SVC(C=10,kernel='poly',degree=5,coef0=1)\n",
    "stratified_cv_results_poly_1=cross_validate(svc_poly_1, X_pca, y_bush, cv=StratifiedKFold(n_splits=3, shuffle=True, random_state=8401),\n",
    "                                     scoring=('precision','recall','f1'), return_train_score=False)\n",
    "print(stratified_cv_results_poly_1)\n",
    "print(np.mean(stratified_cv_results_poly_1['test_f1']))"
   ]
  },
  {
   "cell_type": "code",
   "execution_count": 13,
   "metadata": {},
   "outputs": [
    {
     "name": "stdout",
     "output_type": "stream",
     "text": [
      "{'fit_time': array([23.99697042, 23.94545603, 24.66219091]), 'score_time': array([27.96792889, 27.54925156, 28.64916205]), 'test_precision': array([0.70542636, 0.71223022, 0.70807453]), 'test_recall': array([0.51412429, 0.55932203, 0.64772727]), 'test_f1': array([0.59477124, 0.62658228, 0.67655786])}\n",
      "0.6326371279375205\n"
     ]
    }
   ],
   "source": [
    "svc_poly_1=svm.SVC(C=10,kernel='poly',degree=5,coef0=5)\n",
    "stratified_cv_results_poly_1=cross_validate(svc_poly_1, X_pca, y_bush, cv=StratifiedKFold(n_splits=3, shuffle=True, random_state=8401),\n",
    "                                     scoring=('precision','recall','f1'), return_train_score=False)\n",
    "print(stratified_cv_results_poly_1)\n",
    "print(np.mean(stratified_cv_results_poly_1['test_f1']))"
   ]
  },
  {
   "cell_type": "code",
   "execution_count": 25,
   "metadata": {},
   "outputs": [
    {
     "name": "stdout",
     "output_type": "stream",
     "text": [
      "{'fit_time': array([57.25561547, 55.12674999, 61.64417529]), 'score_time': array([71.77669501, 69.30513358, 74.07830739]), 'test_precision': array([0.68421053, 0.75      , 0.70552147]), 'test_recall': array([0.51412429, 0.57627119, 0.65340909]), 'test_f1': array([0.58709677, 0.65175719, 0.67846608])}\n",
      "0.6391066797960386\n"
     ]
    }
   ],
   "source": [
    "svc_poly_1=svm.SVC(C=10,kernel='poly',degree=10,coef0=10)\n",
    "stratified_cv_results_poly_1=cross_validate(svc_poly_1, X_pca, y_bush, cv=StratifiedKFold(n_splits=3, shuffle=True, random_state=8401),\n",
    "                                     scoring=('precision','recall','f1'), return_train_score=False)\n",
    "print(stratified_cv_results_poly_1)\n",
    "print(np.mean(stratified_cv_results_poly_1['test_f1']))"
   ]
  },
  {
   "cell_type": "code",
   "execution_count": 16,
   "metadata": {},
   "outputs": [
    {
     "name": "stdout",
     "output_type": "stream",
     "text": [
      "{'fit_time': array([25.13158822, 24.42493606, 24.81664419]), 'score_time': array([29.35122943, 28.23749304, 29.35849261]), 'test_precision': array([0.70769231, 0.72932331, 0.71875   ]), 'test_recall': array([0.51977401, 0.5480226 , 0.65340909]), 'test_f1': array([0.59934853, 0.62580645, 0.68452381])}\n",
      "0.6365595984462225\n"
     ]
    }
   ],
   "source": [
    "svc_poly_1=svm.SVC(C=100,kernel='poly',degree=10,coef0=10)\n",
    "stratified_cv_results_poly_1=cross_validate(svc_poly_1, X_pca, y_bush, cv=StratifiedKFold(n_splits=3, shuffle=True, random_state=8401),\n",
    "                                     scoring=('precision','recall','f1'), return_train_score=False)\n",
    "print(stratified_cv_results_poly_1)\n",
    "print(np.mean(stratified_cv_results_poly_1['test_f1']))"
   ]
  },
  {
   "cell_type": "markdown",
   "metadata": {},
   "source": [
    "<h3>highest for n_components 1500 = 0.6400940373276239 for C=10,kernel='poly',degree=10,coef0=5</h3>"
   ]
  },
  {
   "cell_type": "code",
   "execution_count": 17,
   "metadata": {},
   "outputs": [
    {
     "name": "stdout",
     "output_type": "stream",
     "text": [
      "(13233, 1500)\n",
      "[[-6.17302394e+00 -1.83102506e+00 -6.82618249e-01 ... -5.01154698e-02\n",
      "   2.50608264e-01  3.36405184e-02]\n",
      " [-8.74472615e+00 -1.06152081e+00  4.39499342e+00 ... -3.64374281e-02\n",
      "  -4.84021159e-02  3.01299474e-02]\n",
      " [-5.58314778e+00  3.12191247e+00 -1.73468030e+00 ... -3.82006180e-02\n",
      "   2.66093570e-02  3.57265106e-02]\n",
      " ...\n",
      " [-1.15627879e+01 -3.03118032e+00 -1.31590288e+00 ... -2.70199850e-02\n",
      "  -2.00317870e-03  4.06274879e-02]\n",
      " [-1.29620813e+01 -3.61012008e+00  2.00276782e+00 ... -8.15547080e-03\n",
      "  -9.75570693e-02  1.40386901e-02]\n",
      " [-3.23516636e+00 -4.68425394e+00 -1.80796164e+00 ... -6.98871652e-02\n",
      "   3.28612761e-02  4.56529681e-02]]\n",
      "0.0015579139959926056\n"
     ]
    }
   ],
   "source": [
    "pca = PCA(n_components=2000)\n",
    "X_pca=pca.fit_transform(X)\n",
    "print(X_pca.shape)\n",
    "print(X_pca)\n",
    "value=(1/(X_pca.shape[1]*X_pca.std()))\n",
    "print(value)"
   ]
  },
  {
   "cell_type": "markdown",
   "metadata": {},
   "source": [
    "<h3> n_components=2000 </h3>"
   ]
  },
  {
   "cell_type": "code",
   "execution_count": 18,
   "metadata": {},
   "outputs": [
    {
     "name": "stdout",
     "output_type": "stream",
     "text": [
      "{'fit_time': array([22.64273334, 37.28885388, 53.79315996]), 'score_time': array([18.92819166, 35.13205528, 20.03573322]), 'test_precision': array([0.5443787 , 0.59668508, 0.52995392]), 'test_recall': array([0.51977401, 0.61016949, 0.65340909]), 'test_f1': array([0.53179191, 0.60335196, 0.58524173])}\n",
      "0.5734618643672039\n"
     ]
    }
   ],
   "source": [
    "svc_s=svm.SVC(C=0.1,kernel='linear')\n",
    "stratified_cv_results_d=cross_validate(svc_s, X_pca, y_bush, cv=StratifiedKFold(n_splits=3, shuffle=True, random_state=8401),\n",
    "                                     scoring=('precision','recall','f1'), return_train_score=False)\n",
    "print(stratified_cv_results_d)\n",
    "print(np.mean(stratified_cv_results_d['test_f1']))"
   ]
  },
  {
   "cell_type": "code",
   "execution_count": 19,
   "metadata": {},
   "outputs": [
    {
     "name": "stdout",
     "output_type": "stream",
     "text": [
      "{'fit_time': array([22.11686063, 22.20861363, 22.67237449]), 'score_time': array([19.54872608, 20.5999167 , 20.56401396]), 'test_precision': array([0.52631579, 0.59668508, 0.52803738]), 'test_recall': array([0.50847458, 0.61016949, 0.64204545]), 'test_f1': array([0.51724138, 0.60335196, 0.57948718])}\n",
      "0.5666935047015956\n"
     ]
    }
   ],
   "source": [
    "svc_s=svm.SVC(C=10,kernel='linear')\n",
    "stratified_cv_results_d=cross_validate(svc_s, X_pca, y_bush, cv=StratifiedKFold(n_splits=3, shuffle=True, random_state=8401),\n",
    "                                     scoring=('precision','recall','f1'), return_train_score=False)\n",
    "print(stratified_cv_results_d)\n",
    "print(np.mean(stratified_cv_results_d['test_f1']))"
   ]
  },
  {
   "cell_type": "code",
   "execution_count": 20,
   "metadata": {},
   "outputs": [
    {
     "name": "stdout",
     "output_type": "stream",
     "text": [
      "{'fit_time': array([22.37816262, 22.46094394, 23.06731772]), 'score_time': array([21.41373968, 21.26214266, 22.58660221]), 'test_precision': array([0.73846154, 0.71323529, 0.73648649]), 'test_recall': array([0.54237288, 0.5480226 , 0.61931818]), 'test_f1': array([0.62540717, 0.61980831, 0.67283951])}\n",
      "0.6393516596686277\n"
     ]
    }
   ],
   "source": [
    "svc_s=svm.SVC(C=0.1,kernel='linear')\n",
    "stratified_cv_results_d=cross_validate(svc_s, X_pca, y_bush, cv=StratifiedKFold(n_splits=3, shuffle=True, random_state=8401),\n",
    "                                     scoring=('precision','recall','f1'), return_train_score=False)\n",
    "print(stratified_cv_results_d)\n",
    "print(np.mean(stratified_cv_results_d['test_f1']))"
   ]
  },
  {
   "cell_type": "code",
   "execution_count": 21,
   "metadata": {},
   "outputs": [
    {
     "name": "stdout",
     "output_type": "stream",
     "text": [
      "{'fit_time': array([22.54652643, 22.07397628, 22.69730854]), 'score_time': array([19.4479959 , 19.80304551, 20.44732308]), 'test_precision': array([0.54385965, 0.58791209, 0.55339806]), 'test_recall': array([0.52542373, 0.60451977, 0.64772727]), 'test_f1': array([0.53448276, 0.59610028, 0.59685864])}\n",
      "0.5758138919718925\n"
     ]
    }
   ],
   "source": [
    "svc_s=svm.SVC(C=0.5,kernel='linear')\n",
    "stratified_cv_results_d=cross_validate(svc_s, X_pca, y_bush, cv=StratifiedKFold(n_splits=3, shuffle=True, random_state=8401),\n",
    "                                     scoring=('precision','recall','f1'), return_train_score=False)\n",
    "print(stratified_cv_results_d)\n",
    "print(np.mean(stratified_cv_results_d['test_f1']))"
   ]
  },
  {
   "cell_type": "code",
   "execution_count": 22,
   "metadata": {},
   "outputs": [
    {
     "name": "stdout",
     "output_type": "stream",
     "text": [
      "{'fit_time': array([31.23049068, 30.53734398, 31.88174748]), 'score_time': array([43.07481647, 42.1113956 , 44.71971202]), 'test_precision': array([0.8902439 , 0.85869565, 0.83673469]), 'test_recall': array([0.41242938, 0.44632768, 0.46590909]), 'test_f1': array([0.56370656, 0.58736059, 0.59854015])}\n",
      "0.5832024348291681\n"
     ]
    }
   ],
   "source": [
    "value=(1/(X_pca.shape[1]*X_pca.std()))\n",
    "svc_rbf_1=svm.SVC(C=10000000,kernel='rbf',gamma=value)\n",
    "stratified_cv_results_rbf_a=cross_validate(svc_rbf_1, X_pca, y_bush, cv=StratifiedKFold(n_splits=3, shuffle=True, random_state=8401),\n",
    "                                     scoring=('precision','recall','f1'), return_train_score=False)\n",
    "print(stratified_cv_results_rbf_a)\n",
    "print(np.mean(stratified_cv_results_rbf_a['test_f1']))"
   ]
  },
  {
   "cell_type": "code",
   "execution_count": 23,
   "metadata": {},
   "outputs": [
    {
     "name": "stdout",
     "output_type": "stream",
     "text": [
      "{'fit_time': array([25.40063334, 24.28107572, 25.55367088]), 'score_time': array([31.56227183, 30.96420193, 32.43426967]), 'test_precision': array([0.85333333, 0.8961039 , 0.87912088]), 'test_recall': array([0.36158192, 0.38983051, 0.45454545]), 'test_f1': array([0.50793651, 0.54330709, 0.59925094])}\n",
      "0.5501648436267563\n"
     ]
    }
   ],
   "source": [
    "svc_poly_1=svm.SVC(C=10,kernel='poly',degree=3,coef0=1)\n",
    "stratified_cv_results_poly_1=cross_validate(svc_poly_1, X_pca, y_bush, cv=StratifiedKFold(n_splits=3, shuffle=True, random_state=8401),\n",
    "                                     scoring=('precision','recall','f1'), return_train_score=False)\n",
    "print(stratified_cv_results_poly_1)\n",
    "print(np.mean(stratified_cv_results_poly_1['test_f1']))"
   ]
  },
  {
   "cell_type": "code",
   "execution_count": 24,
   "metadata": {},
   "outputs": [
    {
     "name": "stdout",
     "output_type": "stream",
     "text": [
      "{'fit_time': array([28.23171735, 27.37579489, 28.9847095 ]), 'score_time': array([38.71393847, 40.73193073, 38.73981309]), 'test_precision': array([0.83333333, 0.82178218, 0.83018868]), 'test_recall': array([0.48022599, 0.46892655, 0.5       ]), 'test_f1': array([0.609319  , 0.5971223 , 0.62411348])}\n",
      "0.610184924583783\n"
     ]
    }
   ],
   "source": [
    "svc_poly_1=svm.SVC(C=10,kernel='poly',degree=5,coef0=1)\n",
    "stratified_cv_results_poly_1=cross_validate(svc_poly_1, X_pca, y_bush, cv=StratifiedKFold(n_splits=3, shuffle=True, random_state=8401),\n",
    "                                     scoring=('precision','recall','f1'), return_train_score=False)\n",
    "print(stratified_cv_results_poly_1)\n",
    "print(np.mean(stratified_cv_results_poly_1['test_f1']))"
   ]
  },
  {
   "cell_type": "code",
   "execution_count": 25,
   "metadata": {},
   "outputs": [
    {
     "name": "stdout",
     "output_type": "stream",
     "text": [
      "{'fit_time': array([23.73456788, 23.44231439, 24.86504102]), 'score_time': array([27.20322657, 26.69861031, 28.72230673]), 'test_precision': array([0.67883212, 0.74264706, 0.68711656]), 'test_recall': array([0.52542373, 0.57062147, 0.63636364]), 'test_f1': array([0.59235669, 0.64536741, 0.66076696])}\n",
      "0.6328303538968606\n"
     ]
    }
   ],
   "source": [
    "svc_poly_1=svm.SVC(C=10,kernel='poly',degree=5,coef0=5)\n",
    "stratified_cv_results_poly_1=cross_validate(svc_poly_1, X_pca, y_bush, cv=StratifiedKFold(n_splits=3, shuffle=True, random_state=8401),\n",
    "                                     scoring=('precision','recall','f1'), return_train_score=False)\n",
    "print(stratified_cv_results_poly_1)\n",
    "print(np.mean(stratified_cv_results_poly_1['test_f1']))"
   ]
  },
  {
   "cell_type": "code",
   "execution_count": 26,
   "metadata": {},
   "outputs": [
    {
     "name": "stdout",
     "output_type": "stream",
     "text": [
      "{'fit_time': array([25.76510549, 24.86451435, 30.47022653]), 'score_time': array([32.22183847, 33.44324923, 35.10490561]), 'test_precision': array([0.75630252, 0.78512397, 0.76642336]), 'test_recall': array([0.50847458, 0.53672316, 0.59659091]), 'test_f1': array([0.60810811, 0.63758389, 0.67092652])}\n",
      "0.638872839432481\n"
     ]
    }
   ],
   "source": [
    "svc_poly_1=svm.SVC(C=10,kernel='poly',degree=10,coef0=5)\n",
    "stratified_cv_results_poly_1=cross_validate(svc_poly_1, X_pca, y_bush, cv=StratifiedKFold(n_splits=3, shuffle=True, random_state=8401),\n",
    "                                     scoring=('precision','recall','f1'), return_train_score=False)\n",
    "print(stratified_cv_results_poly_1)\n",
    "print(np.mean(stratified_cv_results_poly_1['test_f1']))"
   ]
  },
  {
   "cell_type": "code",
   "execution_count": 28,
   "metadata": {},
   "outputs": [
    {
     "name": "stdout",
     "output_type": "stream",
     "text": [
      "{'fit_time': array([23.40042853, 23.40741229, 24.63326836]), 'score_time': array([27.88945365, 28.66257429, 30.00571585]), 'test_precision': array([0.69172932, 0.74637681, 0.70440252]), 'test_recall': array([0.51977401, 0.5819209 , 0.63636364]), 'test_f1': array([0.59354839, 0.65396825, 0.66865672])}\n",
      "0.6387244524943129\n"
     ]
    }
   ],
   "source": [
    "svc_poly_1=svm.SVC(C=100,kernel='poly',degree=10,coef0=10)\n",
    "stratified_cv_results_poly_1=cross_validate(svc_poly_1, X_pca, y_bush, cv=StratifiedKFold(n_splits=3, shuffle=True, random_state=8401),\n",
    "                                            scoring=('precision','recall','f1'), return_train_score=False)\n",
    "print(stratified_cv_results_poly_1)\n",
    "print(np.mean(stratified_cv_results_poly_1['test_f1']))"
   ]
  },
  {
   "cell_type": "markdown",
   "metadata": {},
   "source": [
    "<h3>highest for n_components 2000 = 0.638872839432481 for C=10,kernel='poly',degree=10,coef0=5</h3>"
   ]
  },
  {
   "cell_type": "markdown",
   "metadata": {},
   "source": [
    "<h4> n_components=3000</h4>"
   ]
  },
  {
   "cell_type": "code",
   "execution_count": 26,
   "metadata": {},
   "outputs": [
    {
     "name": "stdout",
     "output_type": "stream",
     "text": [
      "(13233, 3000)\n",
      "[[-6.17302394e+00 -1.83102506e+00 -6.82618249e-01 ... -6.11225058e-02\n",
      "   2.81959537e-02 -2.37549911e-03]\n",
      " [-8.74472615e+00 -1.06152081e+00  4.39499342e+00 ...  8.73639530e-05\n",
      "  -2.75243766e-02 -2.87888717e-02]\n",
      " [-5.58314778e+00  3.12191247e+00 -1.73468030e+00 ...  4.47896858e-02\n",
      "  -6.11888603e-03 -3.65892433e-02]\n",
      " ...\n",
      " [-1.15627879e+01 -3.03118032e+00 -1.31590288e+00 ...  1.42439798e-02\n",
      "  -4.98163085e-02  1.62823845e-02]\n",
      " [-1.29620813e+01 -3.61012008e+00  2.00276782e+00 ... -2.15218055e-02\n",
      "  -2.46008959e-02 -1.10133866e-02]\n",
      " [-3.23516636e+00 -4.68425394e+00 -1.80796164e+00 ...  3.27229923e-02\n",
      "  -2.00571109e-02  2.11297741e-02]]\n",
      "0.0010951119068462402\n",
      "{'fit_time': array([48.10597873, 46.99832797, 50.3134656 ]), 'score_time': array([51.75666189, 52.0620687 , 49.16798496]), 'test_precision': array([0.752     , 0.73913043, 0.75      ]), 'test_recall': array([0.53107345, 0.57627119, 0.63068182]), 'test_f1': array([0.62251656, 0.64761905, 0.68518519])}\n",
      "0.6517735963652078\n"
     ]
    }
   ],
   "source": [
    "pca = PCA(n_components=3000)\n",
    "X_pca=pca.fit_transform(X)\n",
    "print(X_pca.shape)\n",
    "print(X_pca)\n",
    "value=(1/(X_pca.shape[1]*X_pca.std()))\n",
    "print(value)\n",
    "svc_s=svm.SVC(C=0.1,kernel='linear')\n",
    "stratified_cv_results_d=cross_validate(svc_s, X_pca, y_bush, cv=StratifiedKFold(n_splits=3, shuffle=True, random_state=8401),\n",
    "                                     scoring=('precision','recall','f1'), return_train_score=False)\n",
    "print(stratified_cv_results_d)\n",
    "print(np.mean(stratified_cv_results_d['test_f1']))"
   ]
  },
  {
   "cell_type": "markdown",
   "metadata": {},
   "source": [
    "<h3>highest 0.6602447418093288</h3>"
   ]
  },
  {
   "cell_type": "code",
   "execution_count": 30,
   "metadata": {},
   "outputs": [
    {
     "name": "stdout",
     "output_type": "stream",
     "text": [
      "(13233, 3000)\n",
      "[[-6.17302394e+00 -1.83102506e+00 -6.82618249e-01 ...  2.89048180e-02\n",
      "   8.94346874e-02  1.25041671e-02]\n",
      " [-8.74472615e+00 -1.06152081e+00  4.39499342e+00 ... -1.09331070e-02\n",
      "  -3.70560096e-02 -3.37793931e-02]\n",
      " [-5.58314778e+00  3.12191247e+00 -1.73468030e+00 ... -3.63285730e-02\n",
      "  -7.67861586e-03  4.79739133e-02]\n",
      " ...\n",
      " [-1.15627879e+01 -3.03118032e+00 -1.31590288e+00 ... -3.13025677e-02\n",
      "   1.14159342e-02  1.73878881e-02]\n",
      " [-1.29620813e+01 -3.61012008e+00  2.00276782e+00 ... -6.17357474e-02\n",
      "   3.87280763e-03 -4.42784607e-02]\n",
      " [-3.23516636e+00 -4.68425394e+00 -1.80796164e+00 ...  8.82728670e-04\n",
      "  -2.17480834e-03 -3.52122931e-02]]\n",
      "0.0010950819555053005\n",
      "{'fit_time': array([49.31604505, 50.33792806, 57.89689851]), 'score_time': array([ 55.01855206, 111.54604983,  74.60088205]), 'test_precision': array([0.74603175, 0.73571429, 0.76551724]), 'test_recall': array([0.53107345, 0.5819209 , 0.63068182]), 'test_f1': array([0.62046205, 0.64984227, 0.69158879])}\n",
      "0.6539643675149082\n"
     ]
    }
   ],
   "source": [
    "pca = PCA(n_components=3000, svd_solver='full')\n",
    "X_pca=pca.fit_transform(X)\n",
    "print(X_pca.shape)\n",
    "print(X_pca)\n",
    "value=(1/(X_pca.shape[1]*X_pca.std()))\n",
    "print(value)\n",
    "svc_s=svm.SVC(C=0.1,kernel='linear')\n",
    "stratified_cv_results_d=cross_validate(svc_s, X_pca, y_bush, cv=StratifiedKFold(n_splits=3, shuffle=True, random_state=8401),\n",
    "                                     scoring=('precision','recall','f1'), return_train_score=False)\n",
    "print(stratified_cv_results_d)\n",
    "print(np.mean(stratified_cv_results_d['test_f1']))"
   ]
  },
  {
   "cell_type": "code",
   "execution_count": 31,
   "metadata": {},
   "outputs": [
    {
     "name": "stdout",
     "output_type": "stream",
     "text": [
      "(13233, 3000)\n",
      "[[-6.17302394e+00 -1.83102506e+00 -6.82618249e-01 ...  2.89048180e-02\n",
      "   8.94346874e-02  1.25041671e-02]\n",
      " [-8.74472615e+00 -1.06152081e+00  4.39499342e+00 ... -1.09331070e-02\n",
      "  -3.70560096e-02 -3.37793931e-02]\n",
      " [-5.58314778e+00  3.12191247e+00 -1.73468030e+00 ... -3.63285730e-02\n",
      "  -7.67861586e-03  4.79739133e-02]\n",
      " ...\n",
      " [-1.15627879e+01 -3.03118032e+00 -1.31590288e+00 ... -3.13025677e-02\n",
      "   1.14159342e-02  1.73878881e-02]\n",
      " [-1.29620813e+01 -3.61012008e+00  2.00276782e+00 ... -6.17357474e-02\n",
      "   3.87280763e-03 -4.42784607e-02]\n",
      " [-3.23516636e+00 -4.68425394e+00 -1.80796164e+00 ...  8.82728670e-04\n",
      "  -2.17480834e-03 -3.52122931e-02]]\n",
      "0.0010950819555053009\n",
      "{'fit_time': array([50.59813285, 51.91029334, 52.87207198]), 'score_time': array([ 52.29790306,  53.88310337, 111.20654058]), 'test_precision': array([0.74603175, 0.73571429, 0.76551724]), 'test_recall': array([0.53107345, 0.5819209 , 0.63068182]), 'test_f1': array([0.62046205, 0.64984227, 0.69158879])}\n",
      "0.6539643675149082\n"
     ]
    }
   ],
   "source": [
    "pca = PCA(n_components=3000, svd_solver='arpack',tol=100.0)\n",
    "X_pca=pca.fit_transform(X)\n",
    "print(X_pca.shape)\n",
    "print(X_pca)\n",
    "value=(1/(X_pca.shape[1]*X_pca.std()))\n",
    "print(value)\n",
    "svc_s=svm.SVC(C=0.1,kernel='linear')\n",
    "stratified_cv_results_d=cross_validate(svc_s, X_pca, y_bush, cv=StratifiedKFold(n_splits=3, shuffle=True, random_state=8401),\n",
    "                                     scoring=('precision','recall','f1'), return_train_score=False)\n",
    "print(stratified_cv_results_d)\n",
    "print(np.mean(stratified_cv_results_d['test_f1']))"
   ]
  },
  {
   "cell_type": "code",
   "execution_count": 28,
   "metadata": {},
   "outputs": [
    {
     "name": "stdout",
     "output_type": "stream",
     "text": [
      "(13233, 3000)\n",
      "[[-6.17302394e+00 -1.83102506e+00 -6.82618249e-01 ... -1.21507246e-03\n",
      "   2.73494157e-02 -2.01491730e-02]\n",
      " [-8.74472615e+00 -1.06152081e+00  4.39499342e+00 ... -6.34587464e-02\n",
      "   1.13862645e-02  6.09621307e-02]\n",
      " [-5.58314778e+00  3.12191247e+00 -1.73468030e+00 ... -1.86485211e-02\n",
      "   2.51232168e-02  6.38574022e-02]\n",
      " ...\n",
      " [-1.15627879e+01 -3.03118032e+00 -1.31590288e+00 ...  5.03845191e-03\n",
      "  -1.92213745e-02  6.84839981e-05]\n",
      " [-1.29620813e+01 -3.61012008e+00  2.00276782e+00 ... -4.35043390e-05\n",
      "   2.03973021e-02  1.09235685e-02]\n",
      " [-3.23516636e+00 -4.68425394e+00 -1.80796164e+00 ...  1.36039313e-02\n",
      "   8.80864962e-03  4.98902422e-02]]\n",
      "0.001095111625701561\n",
      "{'fit_time': array([90.17276168, 91.06162143, 94.77669406]), 'score_time': array([ 94.03669477,  92.88839674, 100.16756654]), 'test_precision': array([0.60784314, 0.69594595, 0.62569832]), 'test_recall': array([0.52542373, 0.5819209 , 0.63636364]), 'test_f1': array([0.56363636, 0.63384615, 0.63098592])}\n",
      "0.6094894776584917\n"
     ]
    }
   ],
   "source": [
    "pca = PCA(n_components=3000)\n",
    "X_pca=pca.fit_transform(X)\n",
    "print(X_pca.shape)\n",
    "print(X_pca)\n",
    "value=(1/(X_pca.shape[1]*X_pca.std()))\n",
    "print(value)\n",
    "svc_s=svm.SVC(C=10,kernel='linear')\n",
    "stratified_cv_results_d=cross_validate(svc_s, X_pca, y_bush, cv=StratifiedKFold(n_splits=3, shuffle=True, random_state=8401),\n",
    "                                     scoring=('precision','recall','f1'), return_train_score=False)\n",
    "print(stratified_cv_results_d)\n",
    "print(np.mean(stratified_cv_results_d['test_f1']))"
   ]
  },
  {
   "cell_type": "code",
   "execution_count": 9,
   "metadata": {},
   "outputs": [
    {
     "name": "stdout",
     "output_type": "stream",
     "text": [
      "{'fit_time': array([46.30789733, 45.79204822, 51.94312644]), 'score_time': array([47.09120607, 48.12870955, 48.18759036]), 'test_precision': array([0.60784314, 0.69594595, 0.63636364]), 'test_recall': array([0.52542373, 0.5819209 , 0.63636364]), 'test_f1': array([0.56363636, 0.63384615, 0.63636364])}\n",
      "0.6112820512820513\n"
     ]
    }
   ],
   "source": [
    "svc_s=svm.SVC(C=100,kernel='linear')\n",
    "stratified_cv_results_d=cross_validate(svc_s, X_pca, y_bush, cv=StratifiedKFold(n_splits=3, shuffle=True, random_state=8401),\n",
    "                                     scoring=('precision','recall','f1'), return_train_score=False)\n",
    "print(stratified_cv_results_d)\n",
    "print(np.mean(stratified_cv_results_d['test_f1']))"
   ]
  },
  {
   "cell_type": "code",
   "execution_count": 13,
   "metadata": {},
   "outputs": [
    {
     "name": "stdout",
     "output_type": "stream",
     "text": [
      "{'fit_time': array([46.08368039, 48.07299232, 51.12829018]), 'score_time': array([53.95415807, 51.95913839, 55.64226627]), 'test_precision': array([0.66666667, 0.72535211, 0.66467066]), 'test_recall': array([0.51977401, 0.5819209 , 0.63068182]), 'test_f1': array([0.58412698, 0.64576803, 0.64723032])}\n",
      "0.6257084433016874\n"
     ]
    }
   ],
   "source": [
    "svc_poly_1=svm.SVC(C=10,kernel='poly',degree=5,coef0=10)\n",
    "stratified_cv_results_poly_1=cross_validate(svc_poly_1, X_pca, y_bush, cv=StratifiedKFold(n_splits=3, shuffle=True, random_state=8401),\n",
    "                                     scoring=('precision','recall','f1'), return_train_score=False)\n",
    "print(stratified_cv_results_poly_1)\n",
    "print(np.mean(stratified_cv_results_poly_1['test_f1']))"
   ]
  },
  {
   "cell_type": "code",
   "execution_count": 12,
   "metadata": {},
   "outputs": [
    {
     "name": "stdout",
     "output_type": "stream",
     "text": [
      "{'fit_time': array([56.70998931, 55.59434342, 59.5044136 ]), 'score_time': array([78.83684158, 80.86666179, 82.50557303]), 'test_precision': array([0.9       , 0.86458333, 0.82568807]), 'test_recall': array([0.45762712, 0.46892655, 0.51136364]), 'test_f1': array([0.60674157, 0.60805861, 0.63157895])}\n",
      "0.6154597094869124\n"
     ]
    }
   ],
   "source": [
    "svc_rbf_1=svm.SVC(C=10000000,kernel='rbf',gamma=value)\n",
    "stratified_cv_results_rbf_a=cross_validate(svc_rbf_1, X_pca, y_bush, cv=StratifiedKFold(n_splits=3, shuffle=True, random_state=8401),\n",
    "                                     scoring=('precision','recall','f1'), return_train_score=False)\n",
    "print(stratified_cv_results_rbf_a)\n",
    "print(np.mean(stratified_cv_results_rbf_a['test_f1']))"
   ]
  },
  {
   "cell_type": "code",
   "execution_count": 13,
   "metadata": {},
   "outputs": [
    {
     "name": "stdout",
     "output_type": "stream",
     "text": [
      "(13233, 3500)\n",
      "[[-6.17302394e+00 -1.83102506e+00 -6.82618249e-01 ...  2.52270120e-02\n",
      "  -5.75151482e-02  7.55118463e-03]\n",
      " [-8.74472615e+00 -1.06152081e+00  4.39499342e+00 ...  1.53474950e-02\n",
      "  -5.31334157e-03 -4.51271585e-03]\n",
      " [-5.58314778e+00  3.12191247e+00 -1.73468030e+00 ... -1.14426704e-02\n",
      "   8.12944816e-03 -6.77246258e-03]\n",
      " ...\n",
      " [-1.15627879e+01 -3.03118032e+00 -1.31590288e+00 ...  2.23716514e-02\n",
      "  -2.12756644e-02  1.67714912e-02]\n",
      " [-1.29620813e+01 -3.61012008e+00  2.00276782e+00 ... -3.53253779e-03\n",
      "  -1.40937732e-02 -1.90537466e-02]\n",
      " [-3.23516636e+00 -4.68425394e+00 -1.80796164e+00 ...  9.09757154e-03\n",
      "  -8.84298771e-03  3.65583705e-03]]\n",
      "0.0010132383558846682\n"
     ]
    }
   ],
   "source": [
    "pca = PCA(n_components=3500)\n",
    "X_pca=pca.fit_transform(X)\n",
    "print(X_pca.shape)\n",
    "print(X_pca)\n",
    "value=(1/(X_pca.shape[1]*X_pca.std()))\n",
    "print(value)\n",
    "# svc_s=svm.SVC(C=0.1,kernel='linear')\n",
    "# stratified_cv_results_d=cross_validate(svc_s, X_pca, y_bush, cv=StratifiedKFold(n_splits=3, shuffle=True, random_state=8401),\n",
    "#                                      scoring=('precision','recall','f1'), return_train_score=False)\n",
    "# print(stratified_cv_results_d)\n",
    "# print(np.mean(stratified_cv_results_d['test_f1']))"
   ]
  },
  {
   "cell_type": "code",
   "execution_count": 16,
   "metadata": {},
   "outputs": [
    {
     "name": "stdout",
     "output_type": "stream",
     "text": [
      "{'fit_time': array([52.68616652, 53.39350176, 55.25930977]), 'score_time': array([55.22210741, 54.78250551, 56.96141911]), 'test_precision': array([0.60526316, 0.69798658, 0.62643678]), 'test_recall': array([0.51977401, 0.58757062, 0.61931818]), 'test_f1': array([0.55927052, 0.63803681, 0.62285714])}\n",
      "0.6067214897968063\n"
     ]
    }
   ],
   "source": [
    "svc_s=svm.SVC(C=1,kernel='linear')\n",
    "stratified_cv_results_d=cross_validate(svc_s, X_pca, y_bush, cv=StratifiedKFold(n_splits=3, shuffle=True, random_state=8401),\n",
    "                                     scoring=('precision','recall','f1'), return_train_score=False)\n",
    "print(stratified_cv_results_d)\n",
    "print(np.mean(stratified_cv_results_d['test_f1']))"
   ]
  },
  {
   "cell_type": "code",
   "execution_count": 7,
   "metadata": {},
   "outputs": [
    {
     "name": "stdout",
     "output_type": "stream",
     "text": [
      "{'fit_time': array([108.05278063, 110.61515164, 113.27960491]), 'score_time': array([121.03118587, 119.98161912, 130.75257444]), 'test_precision': array([0.67883212, 0.71328671, 0.67878788]), 'test_recall': array([0.52542373, 0.57627119, 0.63636364]), 'test_f1': array([0.59235669, 0.6375    , 0.6568915 ])}\n",
      "0.6289160611664207\n"
     ]
    }
   ],
   "source": [
    "svc_poly_1=svm.SVC(C=10,kernel='poly',degree=5,coef0=10)\n",
    "stratified_cv_results_poly_1=cross_validate(svc_poly_1, X_pca, y_bush, cv=StratifiedKFold(n_splits=3, shuffle=True, random_state=8401),\n",
    "                                     scoring=('precision','recall','f1'), return_train_score=False)\n",
    "print(stratified_cv_results_poly_1)\n",
    "print(np.mean(stratified_cv_results_poly_1['test_f1']))"
   ]
  },
  {
   "cell_type": "code",
   "execution_count": 8,
   "metadata": {},
   "outputs": [
    {
     "name": "stdout",
     "output_type": "stream",
     "text": [
      "(13233, 207)\n"
     ]
    }
   ],
   "source": [
    "pca = PCA(0.9)\n",
    "X_pca=pca.fit_transform(X)\n",
    "print(X_pca.shape)"
   ]
  },
  {
   "cell_type": "code",
   "execution_count": 9,
   "metadata": {},
   "outputs": [
    {
     "name": "stdout",
     "output_type": "stream",
     "text": [
      "(13233, 4096)\n"
     ]
    }
   ],
   "source": [
    "pca = PCA(None)\n",
    "X_pca=pca.fit_transform(X)\n",
    "print(X_pca.shape)"
   ]
  },
  {
   "cell_type": "code",
   "execution_count": 36,
   "metadata": {},
   "outputs": [
    {
     "name": "stdout",
     "output_type": "stream",
     "text": [
      "(13233, 2322)\n"
     ]
    }
   ],
   "source": [
    "pca = PCA(0.995)\n",
    "X_pca=pca.fit_transform(X)\n",
    "print(X_pca.shape)"
   ]
  },
  {
   "cell_type": "code",
   "execution_count": 37,
   "metadata": {},
   "outputs": [
    {
     "name": "stdout",
     "output_type": "stream",
     "text": [
      "{'fit_time': array([35.29246449, 36.81661844, 44.66967988]), 'score_time': array([36.55813098, 52.73613286, 37.56907797]), 'test_precision': array([0.74603175, 0.73333333, 0.73333333]), 'test_recall': array([0.53107345, 0.55932203, 0.625     ]), 'test_f1': array([0.62046205, 0.63461538, 0.67484663])}\n",
      "0.643308018862292\n"
     ]
    }
   ],
   "source": [
    "svc_s=svm.SVC(C=0.1,kernel='linear')\n",
    "stratified_cv_results_d=cross_validate(svc_s, X_pca, y_bush, cv=StratifiedKFold(n_splits=3, shuffle=True, random_state=8401),\n",
    "                                     scoring=('precision','recall','f1'), return_train_score=False)\n",
    "print(stratified_cv_results_d)\n",
    "print(np.mean(stratified_cv_results_d['test_f1']))"
   ]
  },
  {
   "cell_type": "code",
   "execution_count": 38,
   "metadata": {},
   "outputs": [
    {
     "name": "stdout",
     "output_type": "stream",
     "text": [
      "{'fit_time': array([35.27884936, 35.07429433, 36.61253977]), 'score_time': array([34.94758701, 33.91652703, 36.24167204]), 'test_precision': array([0.61589404, 0.67741935, 0.5989011 ]), 'test_recall': array([0.52542373, 0.59322034, 0.61931818]), 'test_f1': array([0.56707317, 0.63253012, 0.60893855])}\n",
      "0.6028472795665561\n"
     ]
    }
   ],
   "source": [
    "svc_s=svm.SVC(C=1,kernel='linear')\n",
    "stratified_cv_results_d=cross_validate(svc_s, X_pca, y_bush, cv=StratifiedKFold(n_splits=3, shuffle=True, random_state=8401),\n",
    "                                     scoring=('precision','recall','f1'), return_train_score=False)\n",
    "print(stratified_cv_results_d)\n",
    "print(np.mean(stratified_cv_results_d['test_f1']))"
   ]
  },
  {
   "cell_type": "code",
   "execution_count": 35,
   "metadata": {},
   "outputs": [
    {
     "name": "stdout",
     "output_type": "stream",
     "text": [
      "{'fit_time': array([28.22724104, 45.60983777, 30.90182924]), 'score_time': array([42.94659996, 33.57751966, 35.71265697]), 'test_precision': array([0.65441176, 0.74074074, 0.69811321]), 'test_recall': array([0.50282486, 0.56497175, 0.63068182]), 'test_f1': array([0.5686901 , 0.64102564, 0.66268657])}\n",
      "0.6241341013454885\n"
     ]
    }
   ],
   "source": [
    "svc_poly_1=svm.SVC(C=10,kernel='poly',degree=5,coef0=5)\n",
    "stratified_cv_results_poly_1=cross_validate(svc_poly_1, X_pca, y_bush, cv=StratifiedKFold(n_splits=3, shuffle=True, random_state=8401),\n",
    "                                     scoring=('precision','recall','f1'), return_train_score=False)\n",
    "print(stratified_cv_results_poly_1)\n",
    "print(np.mean(stratified_cv_results_poly_1['test_f1']))"
   ]
  },
  {
   "cell_type": "code",
   "execution_count": 4,
   "metadata": {},
   "outputs": [
    {
     "name": "stdout",
     "output_type": "stream",
     "text": [
      "(13233, 511)\n",
      "For n_neighbors=1 for y_williams\n",
      "{'fit_time': array([0.3749156 , 0.35928822, 0.35929108]), 'score_time': array([91.71193957, 94.81978703, 92.02603698]), 'test_precision': array([0.15048544, 0.16025641, 0.11111111]), 'test_recall': array([0.17514124, 0.14124294, 0.09659091]), 'test_f1': array([0.1618799 , 0.15015015, 0.10334347])}\n",
      "0.3644982973734538\n",
      "92.85258785883586\n",
      "0.1406176527535751\n",
      "0.1376583632939565\n",
      "0.13845783691903352\n"
     ]
    }
   ],
   "source": [
    "pca = PCA(0.95)\n",
    "X_pca=pca.fit_transform(X)\n",
    "print(X_pca.shape)\n",
    "knn=KNeighborsClassifier(n_neighbors=1)\n",
    "print(\"For n_neighbors=1 for y_williams\") \n",
    "stratified_cv_results_1=cross_validate(knn, X_pca, y_bush, cv=StratifiedKFold(n_splits=3, shuffle=True, random_state=8401),\n",
    "                                     scoring=('precision','recall','f1'), return_train_score=False)\n",
    "print(stratified_cv_results_1)\n",
    "print(np.mean(stratified_cv_results_1['fit_time']))\n",
    "print(np.mean(stratified_cv_results_1['score_time']))\n",
    "print(np.mean(stratified_cv_results_1['test_precision']))\n",
    "print(np.mean(stratified_cv_results_1['test_recall']))\n",
    "print(np.mean(stratified_cv_results_1['test_f1']))"
   ]
  },
  {
   "cell_type": "code",
   "execution_count": 5,
   "metadata": {},
   "outputs": [
    {
     "name": "stdout",
     "output_type": "stream",
     "text": [
      "(13233, 1752)\n",
      "For n_neighbors=1 for y_williams\n",
      "{'fit_time': array([1.35736847, 1.34639978, 1.32824373]), 'score_time': array([308.72849965, 320.84204006, 315.30828166]), 'test_precision': array([0.13227513, 0.17808219, 0.11111111]), 'test_recall': array([0.14124294, 0.14689266, 0.09090909]), 'test_f1': array([0.13661202, 0.16099071, 0.1       ])}\n",
      "1.3440039952596028\n",
      "314.9596071243286\n",
      "0.14048947838902176\n",
      "0.1263482280431433\n",
      "0.13253424464407562\n"
     ]
    }
   ],
   "source": [
    "pca = PCA(0.99)\n",
    "X_pca=pca.fit_transform(X)\n",
    "print(X_pca.shape)\n",
    "knn=KNeighborsClassifier(n_neighbors=1)\n",
    "print(\"For n_neighbors=1 for y_williams\") \n",
    "stratified_cv_results_1=cross_validate(knn, X_pca, y_bush, cv=StratifiedKFold(n_splits=3, shuffle=True, random_state=8401),\n",
    "                                     scoring=('precision','recall','f1'), return_train_score=False)\n",
    "print(stratified_cv_results_1)\n",
    "print(np.mean(stratified_cv_results_1['fit_time']))\n",
    "print(np.mean(stratified_cv_results_1['score_time']))\n",
    "print(np.mean(stratified_cv_results_1['test_precision']))\n",
    "print(np.mean(stratified_cv_results_1['test_recall']))\n",
    "print(np.mean(stratified_cv_results_1['test_f1']))"
   ]
  },
  {
   "cell_type": "code",
   "execution_count": 6,
   "metadata": {},
   "outputs": [
    {
     "name": "stdout",
     "output_type": "stream",
     "text": [
      "(13233, 207)\n",
      "For n_neighbors=1 for y_williams\n",
      "{'fit_time': array([0.220402  , 0.15708995, 0.14415669]), 'score_time': array([44.582757  , 41.66742396, 42.61203599]), 'test_precision': array([0.1559633 , 0.1547619 , 0.12068966]), 'test_recall': array([0.1920904 , 0.14689266, 0.11931818]), 'test_f1': array([0.1721519 , 0.15072464, 0.12      ])}\n",
      "0.17388288180033365\n",
      "42.95407231648763\n",
      "0.1438049542288707\n",
      "0.15276707755521315\n",
      "0.14762551213844555\n"
     ]
    }
   ],
   "source": [
    "pca = PCA(0.9)\n",
    "X_pca=pca.fit_transform(X)\n",
    "print(X_pca.shape)\n",
    "knn=KNeighborsClassifier(n_neighbors=1)\n",
    "print(\"For n_neighbors=1 for y_williams\") \n",
    "stratified_cv_results_1=cross_validate(knn, X_pca, y_bush, cv=StratifiedKFold(n_splits=3, shuffle=True, random_state=8401),\n",
    "                                     scoring=('precision','recall','f1'), return_train_score=False)\n",
    "print(stratified_cv_results_1)\n",
    "print(np.mean(stratified_cv_results_1['fit_time']))\n",
    "print(np.mean(stratified_cv_results_1['score_time']))\n",
    "print(np.mean(stratified_cv_results_1['test_precision']))\n",
    "print(np.mean(stratified_cv_results_1['test_recall']))\n",
    "print(np.mean(stratified_cv_results_1['test_f1']))"
   ]
  },
  {
   "cell_type": "code",
   "execution_count": 8,
   "metadata": {},
   "outputs": [
    {
     "name": "stdout",
     "output_type": "stream",
     "text": [
      "(13233, 107)\n",
      "For n_neighbors=1 for y_williams\n",
      "{'fit_time': array([0.08973193, 0.07480025, 0.07283211]), 'score_time': array([21.11730385, 21.40126204, 20.72928214]), 'test_precision': array([0.15948276, 0.15469613, 0.1160221 ]), 'test_recall': array([0.20903955, 0.15819209, 0.11931818]), 'test_f1': array([0.1809291 , 0.15642458, 0.11764706])}\n",
      "0.07912143071492513\n",
      "21.082616011301678\n",
      "0.1434003302216295\n",
      "0.16218327341208696\n",
      "0.15166691172787972\n"
     ]
    }
   ],
   "source": [
    "pca = PCA(0.85)\n",
    "X_pca=pca.fit_transform(X)\n",
    "print(X_pca.shape)\n",
    "knn=KNeighborsClassifier(n_neighbors=1)\n",
    "print(\"For n_neighbors=1 for y_williams\") \n",
    "stratified_cv_results_1=cross_validate(knn, X_pca, y_bush, cv=StratifiedKFold(n_splits=3, shuffle=True, random_state=8401),\n",
    "                                     scoring=('precision','recall','f1'), return_train_score=False)\n",
    "print(stratified_cv_results_1)\n",
    "print(np.mean(stratified_cv_results_1['fit_time']))\n",
    "print(np.mean(stratified_cv_results_1['score_time']))\n",
    "print(np.mean(stratified_cv_results_1['test_precision']))\n",
    "print(np.mean(stratified_cv_results_1['test_recall']))\n",
    "print(np.mean(stratified_cv_results_1['test_f1']))"
   ]
  },
  {
   "cell_type": "code",
   "execution_count": 9,
   "metadata": {},
   "outputs": [
    {
     "name": "stdout",
     "output_type": "stream",
     "text": [
      "(13233, 107)\n",
      "For n_neighbors=3 for y_williams\n",
      "{'fit_time': array([0.11170006, 0.07081032, 0.06580448]), 'score_time': array([26.45662618, 21.76626897, 22.47756696]), 'test_precision': array([0.1875    , 0.17073171, 0.12195122]), 'test_recall': array([0.05084746, 0.03954802, 0.02840909]), 'test_f1': array([0.08      , 0.06422018, 0.04608295])}\n",
      "0.08277161916097005\n",
      "23.566820700963337\n",
      "0.1600609756097561\n",
      "0.039601523711693204\n",
      "0.06343437759833144\n"
     ]
    }
   ],
   "source": [
    "pca = PCA(0.85)\n",
    "X_pca=pca.fit_transform(X)\n",
    "print(X_pca.shape)\n",
    "knn=KNeighborsClassifier(n_neighbors=3)\n",
    "print(\"For n_neighbors=3 for y_williams\") \n",
    "stratified_cv_results_3=cross_validate(knn, X_pca, y_bush, cv=StratifiedKFold(n_splits=3, shuffle=True, random_state=8401),\n",
    "                                     scoring=('precision','recall','f1'), return_train_score=False)\n",
    "print(stratified_cv_results_3)\n",
    "print(np.mean(stratified_cv_results_3['fit_time']))\n",
    "print(np.mean(stratified_cv_results_3['score_time']))\n",
    "print(np.mean(stratified_cv_results_3['test_precision']))\n",
    "print(np.mean(stratified_cv_results_3['test_recall']))\n",
    "print(np.mean(stratified_cv_results_3['test_f1']))"
   ]
  },
  {
   "cell_type": "code",
   "execution_count": 11,
   "metadata": {},
   "outputs": [
    {
     "name": "stdout",
     "output_type": "stream",
     "text": [
      "(13233, 63)\n",
      "For n_neighbors=3 for y_williams\n",
      "{'fit_time': array([0.06482816, 0.04288483, 0.04990101]), 'score_time': array([10.60264945, 10.56175876, 10.5388155 ]), 'test_precision': array([0.15481172, 0.14673913, 0.11594203]), 'test_recall': array([0.20903955, 0.15254237, 0.13636364]), 'test_f1': array([0.17788462, 0.14958449, 0.12532637])}\n",
      "0.052537997563680015\n",
      "10.56774123509725\n",
      "0.13916429163382046\n",
      "0.16598185242253038\n",
      "0.1509318245588072\n"
     ]
    }
   ],
   "source": [
    "pca = PCA(0.80)\n",
    "X_pca=pca.fit_transform(X)\n",
    "print(X_pca.shape)\n",
    "knn=KNeighborsClassifier(n_neighbors=1)\n",
    "print(\"For n_neighbors=3 for y_williams\") \n",
    "stratified_cv_results_3=cross_validate(knn, X_pca, y_bush, cv=StratifiedKFold(n_splits=3, shuffle=True, random_state=8401),\n",
    "                                     scoring=('precision','recall','f1'), return_train_score=False)\n",
    "print(stratified_cv_results_3)\n",
    "print(np.mean(stratified_cv_results_3['fit_time']))\n",
    "print(np.mean(stratified_cv_results_3['score_time']))\n",
    "print(np.mean(stratified_cv_results_3['test_precision']))\n",
    "print(np.mean(stratified_cv_results_3['test_recall']))\n",
    "print(np.mean(stratified_cv_results_3['test_f1']))"
   ]
  },
  {
   "cell_type": "code",
   "execution_count": 12,
   "metadata": {},
   "outputs": [
    {
     "name": "stdout",
     "output_type": "stream",
     "text": [
      "(13233, 1752)\n",
      "{'fit_time': array([28.76632571, 29.43529367, 28.41801095]), 'score_time': array([28.92931676, 29.11614156, 28.4753325 ]), 'test_precision': array([0.7480315 , 0.72727273, 0.75      ]), 'test_recall': array([0.53672316, 0.54237288, 0.61363636]), 'test_f1': array([0.625     , 0.62135922, 0.675     ])}\n",
      "0.640453074433657\n"
     ]
    }
   ],
   "source": [
    "pca = PCA(0.99)\n",
    "X_pca=pca.fit_transform(X)\n",
    "print(X_pca.shape)\n",
    "svc_s=svm.SVC(C=0.1,kernel='linear')\n",
    "stratified_cv_results_d=cross_validate(svc_s, X_pca, y_bush, cv=StratifiedKFold(n_splits=3, shuffle=True, random_state=8401),\n",
    "                                     scoring=('precision','recall','f1'), return_train_score=False)\n",
    "print(stratified_cv_results_d)\n",
    "print(np.mean(stratified_cv_results_d['test_f1']))"
   ]
  },
  {
   "cell_type": "code",
   "execution_count": 17,
   "metadata": {},
   "outputs": [
    {
     "name": "stdout",
     "output_type": "stream",
     "text": [
      "{'fit_time': array([30.83975601, 31.0761919 , 59.79291868]), 'score_time': array([37.05819821, 68.71885204, 73.38875556]), 'test_precision': array([0.68217054, 0.75757576, 0.69620253]), 'test_recall': array([0.49717514, 0.56497175, 0.625     ]), 'test_f1': array([0.5751634 , 0.64724919, 0.65868263])}\n",
      "0.6270317414539536\n"
     ]
    }
   ],
   "source": [
    "svc_poly_1=svm.SVC(C=100,kernel='poly',degree=10,coef0=10)\n",
    "stratified_cv_results_poly_1=cross_validate(svc_poly_1, X_pca, y_bush, cv=StratifiedKFold(n_splits=3, shuffle=True, random_state=8401),\n",
    "                                     scoring=('precision','recall','f1'), return_train_score=False)\n",
    "print(stratified_cv_results_poly_1)\n",
    "print(np.mean(stratified_cv_results_poly_1['test_f1']))"
   ]
  },
  {
   "cell_type": "code",
   "execution_count": 18,
   "metadata": {},
   "outputs": [
    {
     "name": "stdout",
     "output_type": "stream",
     "text": [
      "{'fit_time': array([49.25589967, 54.05036616, 57.08238673]), 'score_time': array([46.92786551, 52.54626966, 53.7631278 ]), 'test_precision': array([0.56603774, 0.65060241, 0.54455446]), 'test_recall': array([0.50847458, 0.61016949, 0.625     ]), 'test_f1': array([0.53571429, 0.62973761, 0.58201058])}\n",
      "0.5824874923514379\n"
     ]
    }
   ],
   "source": [
    "svc_s=svm.SVC(C=1,kernel='linear')\n",
    "stratified_cv_results_d=cross_validate(svc_s, X_pca, y_bush, cv=StratifiedKFold(n_splits=3, shuffle=True, random_state=8401),\n",
    "                                     scoring=('precision','recall','f1'), return_train_score=False)\n",
    "print(stratified_cv_results_d)\n",
    "print(np.mean(stratified_cv_results_d['test_f1']))"
   ]
  },
  {
   "cell_type": "code",
   "execution_count": 24,
   "metadata": {},
   "outputs": [
    {
     "name": "stdout",
     "output_type": "stream",
     "text": [
      "(13233, 3000)\n",
      "{'fit_time': array([ 95.62311077,  96.36347938, 100.68537211]), 'score_time': array([ 99.22164655,  99.47879863, 103.07819939]), 'test_precision': array([0.7421875 , 0.74100719, 0.75675676]), 'test_recall': array([0.53672316, 0.5819209 , 0.63636364]), 'test_f1': array([0.62295082, 0.65189873, 0.69135802])}\n",
      "0.6554025261802348\n"
     ]
    }
   ],
   "source": [
    "pca = PCA(n_components=3000,random_state=8401)\n",
    "X_pca=pca.fit_transform(X)\n",
    "print(X_pca.shape)\n",
    "svc_s=svm.SVC(C=0.1,kernel='linear')\n",
    "stratified_cv_results_d=cross_validate(svc_s, X_pca, y_bush, cv=StratifiedKFold(n_splits=3, shuffle=True, random_state=8401),\n",
    "                                     scoring=('precision','recall','f1'), return_train_score=False)\n",
    "print(stratified_cv_results_d)\n",
    "print(np.mean(stratified_cv_results_d['test_f1']))"
   ]
  },
  {
   "cell_type": "code",
   "execution_count": 21,
   "metadata": {},
   "outputs": [
    {
     "name": "stdout",
     "output_type": "stream",
     "text": [
      "{'fit_time': array([64.71317101, 62.79428244, 60.05029178]), 'score_time': array([72.0346992 , 72.47823358, 76.83852744]), 'test_precision': array([0.60784314, 0.70068027, 0.60773481]), 'test_recall': array([0.52542373, 0.5819209 , 0.625     ]), 'test_f1': array([0.56363636, 0.63580247, 0.6162465 ])}\n",
      "0.6052284437905353\n"
     ]
    }
   ],
   "source": [
    "svc_s=svm.SVC(C=1,kernel='linear')\n",
    "stratified_cv_results_d=cross_validate(svc_s, X_pca, y_bush, cv=StratifiedKFold(n_splits=3, shuffle=True, random_state=8401),\n",
    "                                     scoring=('precision','recall','f1'), return_train_score=False)\n",
    "print(stratified_cv_results_d)\n",
    "print(np.mean(stratified_cv_results_d['test_f1']))"
   ]
  },
  {
   "cell_type": "code",
   "execution_count": 25,
   "metadata": {},
   "outputs": [
    {
     "name": "stdout",
     "output_type": "stream",
     "text": [
      "{'fit_time': array([100.18218207, 100.17445278, 104.16100311]), 'score_time': array([119.78451514, 117.86800122, 124.21103501]), 'test_precision': array([0.69924812, 0.76119403, 0.67948718]), 'test_recall': array([0.52542373, 0.57627119, 0.60227273]), 'test_f1': array([0.6       , 0.65594855, 0.63855422])}\n",
      "0.6315009233073775\n"
     ]
    }
   ],
   "source": [
    "svc_poly_1=svm.SVC(C=10,kernel='poly',degree=10,coef0=10)\n",
    "stratified_cv_results_poly_1=cross_validate(svc_poly_1, X_pca, y_bush, cv=StratifiedKFold(n_splits=3, shuffle=True, random_state=8401),\n",
    "                                     scoring=('precision','recall','f1'), return_train_score=False)\n",
    "print(stratified_cv_results_poly_1)\n",
    "print(np.mean(stratified_cv_results_poly_1['test_f1']))"
   ]
  },
  {
   "cell_type": "code",
   "execution_count": 27,
   "metadata": {},
   "outputs": [
    {
     "name": "stdout",
     "output_type": "stream",
     "text": [
      "(13233, 3300)\n",
      "{'fit_time': array([52.31222081, 51.69337654, 56.81521201]), 'score_time': array([53.68327618, 53.57948208, 57.32173872]), 'test_precision': array([0.75396825, 0.75      , 0.76351351]), 'test_recall': array([0.53672316, 0.57627119, 0.64204545]), 'test_f1': array([0.62706271, 0.65175719, 0.69753086])}\n",
      "0.6587835863221868\n"
     ]
    }
   ],
   "source": [
    "pca = PCA(n_components=3300,random_state=8401)\n",
    "X_pca=pca.fit_transform(X)\n",
    "print(X_pca.shape)\n",
    "svc_s=svm.SVC(C=0.1,kernel='linear')\n",
    "stratified_cv_results_d=cross_validate(svc_s, X_pca, y_bush, cv=StratifiedKFold(n_splits=3, shuffle=True, random_state=8401),\n",
    "                                     scoring=('precision','recall','f1'), return_train_score=False)\n",
    "print(stratified_cv_results_d)\n",
    "print(np.mean(stratified_cv_results_d['test_f1']))"
   ]
  },
  {
   "cell_type": "code",
   "execution_count": 28,
   "metadata": {},
   "outputs": [
    {
     "name": "stdout",
     "output_type": "stream",
     "text": [
      "(13233, 3400)\n",
      "{'fit_time': array([55.21337557, 54.90857673, 54.27438641]), 'score_time': array([55.61512971, 57.56059861, 60.39580417]), 'test_precision': array([0.75396825, 0.75182482, 0.75      ]), 'test_recall': array([0.53672316, 0.5819209 , 0.63068182]), 'test_f1': array([0.62706271, 0.65605096, 0.68518519])}\n",
      "0.6560996156232749\n"
     ]
    }
   ],
   "source": [
    "pca = PCA(n_components=3400,random_state=8401)\n",
    "X_pca=pca.fit_transform(X)\n",
    "print(X_pca.shape)\n",
    "svc_s=svm.SVC(C=0.1,kernel='linear')\n",
    "stratified_cv_results_d=cross_validate(svc_s, X_pca, y_bush, cv=StratifiedKFold(n_splits=3, shuffle=True, random_state=8401),\n",
    "                                     scoring=('precision','recall','f1'), return_train_score=False)\n",
    "print(stratified_cv_results_d)\n",
    "print(np.mean(stratified_cv_results_d['test_f1']))"
   ]
  },
  {
   "cell_type": "code",
   "execution_count": null,
   "metadata": {},
   "outputs": [],
   "source": []
  }
 ],
 "metadata": {
  "kernelspec": {
   "display_name": "Python 3",
   "language": "python",
   "name": "python3"
  },
  "language_info": {
   "codemirror_mode": {
    "name": "ipython",
    "version": 3
   },
   "file_extension": ".py",
   "mimetype": "text/x-python",
   "name": "python",
   "nbconvert_exporter": "python",
   "pygments_lexer": "ipython3",
   "version": "3.6.6"
  }
 },
 "nbformat": 4,
 "nbformat_minor": 2
}
