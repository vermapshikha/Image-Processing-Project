{
 "cells": [
  {
   "cell_type": "code",
   "execution_count": 2,
   "metadata": {},
   "outputs": [],
   "source": [
    "import pandas as pd\n",
    "import pickle\n",
    "import numpy as np\n",
    "import matplotlib.pyplot as plt\n",
    "from sklearn.neighbors import KNeighborsClassifier\n",
    "from sklearn.decomposition import PCA\n",
    "from sklearn.model_selection import cross_validate,StratifiedKFold\n",
    "from sklearn import svm"
   ]
  },
  {
   "cell_type": "code",
   "execution_count": 3,
   "metadata": {},
   "outputs": [
    {
     "name": "stdout",
     "output_type": "stream",
     "text": [
      "(13233, 4096)\n",
      "52\n"
     ]
    }
   ],
   "source": [
    "X=pd.read_csv(\"data\\X.csv\", sep=' ',header=None, dtype=float)\n",
    "X=X.values\n",
    "Y=pd.read_csv(\"data\\y_williams_vs_others.csv\", header=None)\n",
    "y_williams = Y.values.ravel()\n",
    "print(X.shape)\n",
    "print(np.sum(y_williams))"
   ]
  },
  {
   "cell_type": "code",
   "execution_count": 3,
   "metadata": {},
   "outputs": [],
   "source": [
    "pca = PCA(n_components=100)\n",
    "X_n=pca.fit(X)\n"
   ]
  },
  {
   "cell_type": "markdown",
   "metadata": {},
   "source": [
    "<h2>N_components=100</h2>"
   ]
  },
  {
   "cell_type": "code",
   "execution_count": 4,
   "metadata": {},
   "outputs": [
    {
     "name": "stdout",
     "output_type": "stream",
     "text": [
      "(100, 4096)\n"
     ]
    }
   ],
   "source": [
    "print(pca.components_.shape)"
   ]
  },
  {
   "cell_type": "code",
   "execution_count": 6,
   "metadata": {},
   "outputs": [
    {
     "name": "stdout",
     "output_type": "stream",
     "text": [
      "(13233, 100)\n"
     ]
    }
   ],
   "source": [
    "X_pca = pca.transform(X)\n",
    "print(X_pca.shape)"
   ]
  },
  {
   "cell_type": "code",
   "execution_count": 39,
   "metadata": {},
   "outputs": [
    {
     "name": "stdout",
     "output_type": "stream",
     "text": [
      "{'fit_time': array([0.73420095, 0.72832775, 0.92300081]), 'score_time': array([0.6035893 , 0.54700208, 0.59486961]), 'test_precision': array([0.26086957, 0.12195122, 0.24137931]), 'test_recall': array([0.33333333, 0.29411765, 0.41176471]), 'test_f1': array([0.29268293, 0.17241379, 0.30434783])}\n",
      "0.256481515339891\n"
     ]
    }
   ],
   "source": [
    "svc_s=svm.SVC(C=1,kernel='linear')\n",
    "stratified_cv_results_d=cross_validate(svc_s, X_pca, y_williams, cv=StratifiedKFold(n_splits=3, shuffle=True, random_state=8401),\n",
    "                                     scoring=('precision','recall','f1'), return_train_score=False)\n",
    "print(stratified_cv_results_d)\n",
    "print(np.mean(stratified_cv_results_d['test_f1']))"
   ]
  },
  {
   "cell_type": "code",
   "execution_count": 7,
   "metadata": {},
   "outputs": [
    {
     "name": "stdout",
     "output_type": "stream",
     "text": [
      "{'fit_time': array([1.12029672, 0.73568654, 1.69762444]), 'score_time': array([0.25230551, 0.26205444, 0.33564091]), 'test_precision': array([0.08108108, 0.125     , 0.19230769]), 'test_recall': array([0.16666667, 0.35294118, 0.29411765]), 'test_f1': array([0.10909091, 0.18461538, 0.23255814])}\n"
     ]
    }
   ],
   "source": [
    "svc_s=svm.SVC(C=10,kernel='linear')\n",
    "stratified_cv_results_d=cross_validate(svc_s, X_pca, y_williams, cv=StratifiedKFold(n_splits=3, shuffle=True, random_state=8401),\n",
    "                                     scoring=('precision','recall','f1'), return_train_score=False)\n",
    "print(stratified_cv_results_d)"
   ]
  },
  {
   "cell_type": "code",
   "execution_count": 8,
   "metadata": {},
   "outputs": [
    {
     "name": "stdout",
     "output_type": "stream",
     "text": [
      "{'fit_time': array([0.46616077, 0.49162555, 0.52949142]), 'score_time': array([0.33422947, 0.24424219, 0.28841496]), 'test_precision': array([0.16666667, 0.29411765, 0.4       ]), 'test_recall': array([0.05555556, 0.29411765, 0.23529412]), 'test_f1': array([0.08333333, 0.29411765, 0.2962963 ])}\n"
     ]
    }
   ],
   "source": [
    "svc_s=svm.SVC(C=0.1,kernel='linear')\n",
    "stratified_cv_results_d=cross_validate(svc_s, X_pca, y_williams, cv=StratifiedKFold(n_splits=3, shuffle=True, random_state=8401),\n",
    "                                     scoring=('precision','recall','f1'), return_train_score=False)\n",
    "print(stratified_cv_results_d)"
   ]
  },
  {
   "cell_type": "code",
   "execution_count": 9,
   "metadata": {},
   "outputs": [
    {
     "name": "stdout",
     "output_type": "stream",
     "text": [
      "{'fit_time': array([ 1.40064287,  3.05951667, 14.00648928]), 'score_time': array([0.28581214, 0.23392773, 0.24967217]), 'test_precision': array([0.05405405, 0.12244898, 0.15151515]), 'test_recall': array([0.11111111, 0.35294118, 0.29411765]), 'test_f1': array([0.07272727, 0.18181818, 0.2       ])}\n"
     ]
    }
   ],
   "source": [
    "svc_s=svm.SVC(C=100,kernel='linear')\n",
    "stratified_cv_results_d=cross_validate(svc_s, X_pca, y_williams, cv=StratifiedKFold(n_splits=3, shuffle=True, random_state=8401),\n",
    "                                     scoring=('precision','recall','f1'), return_train_score=False)\n",
    "print(stratified_cv_results_d)"
   ]
  },
  {
   "cell_type": "code",
   "execution_count": 12,
   "metadata": {},
   "outputs": [
    {
     "data": {
      "text/plain": [
       "0.0005000188932343393"
      ]
     },
     "execution_count": 12,
     "metadata": {},
     "output_type": "execute_result"
    }
   ],
   "source": [
    "value=(1/(X_pca.shape[1]*X_pca.std()))\n",
    "value"
   ]
  },
  {
   "cell_type": "code",
   "execution_count": 12,
   "metadata": {},
   "outputs": [
    {
     "name": "stderr",
     "output_type": "stream",
     "text": [
      "c:\\users\\spver\\appdata\\local\\programs\\python\\python36\\lib\\site-packages\\sklearn\\metrics\\classification.py:1135: UndefinedMetricWarning: Precision is ill-defined and being set to 0.0 due to no predicted samples.\n",
      "  'precision', 'predicted', average, warn_for)\n",
      "c:\\users\\spver\\appdata\\local\\programs\\python\\python36\\lib\\site-packages\\sklearn\\metrics\\classification.py:1135: UndefinedMetricWarning: F-score is ill-defined and being set to 0.0 due to no predicted samples.\n",
      "  'precision', 'predicted', average, warn_for)\n",
      "c:\\users\\spver\\appdata\\local\\programs\\python\\python36\\lib\\site-packages\\sklearn\\metrics\\classification.py:1135: UndefinedMetricWarning: Precision is ill-defined and being set to 0.0 due to no predicted samples.\n",
      "  'precision', 'predicted', average, warn_for)\n",
      "c:\\users\\spver\\appdata\\local\\programs\\python\\python36\\lib\\site-packages\\sklearn\\metrics\\classification.py:1135: UndefinedMetricWarning: F-score is ill-defined and being set to 0.0 due to no predicted samples.\n",
      "  'precision', 'predicted', average, warn_for)\n",
      "c:\\users\\spver\\appdata\\local\\programs\\python\\python36\\lib\\site-packages\\sklearn\\metrics\\classification.py:1135: UndefinedMetricWarning: Precision is ill-defined and being set to 0.0 due to no predicted samples.\n",
      "  'precision', 'predicted', average, warn_for)\n"
     ]
    },
    {
     "name": "stdout",
     "output_type": "stream",
     "text": [
      "{'fit_time': array([0.80965924, 0.9780972 , 0.83792162]), 'score_time': array([1.011374  , 1.38625693, 1.20432019]), 'test_precision': array([0., 0., 0.]), 'test_recall': array([0., 0., 0.]), 'test_f1': array([0., 0., 0.])}\n"
     ]
    },
    {
     "name": "stderr",
     "output_type": "stream",
     "text": [
      "c:\\users\\spver\\appdata\\local\\programs\\python\\python36\\lib\\site-packages\\sklearn\\metrics\\classification.py:1135: UndefinedMetricWarning: F-score is ill-defined and being set to 0.0 due to no predicted samples.\n",
      "  'precision', 'predicted', average, warn_for)\n"
     ]
    }
   ],
   "source": [
    "svc_rbf_1=svm.SVC(C=1,kernel='rbf',gamma=value)\n",
    "stratified_cv_results_rbf_a=cross_validate(svc_rbf_1, X_pca, y_williams, cv=StratifiedKFold(n_splits=3, shuffle=True, random_state=8401),\n",
    "                                     scoring=('precision','recall','f1'), return_train_score=False)\n",
    "print(stratified_cv_results_rbf_a)"
   ]
  },
  {
   "cell_type": "code",
   "execution_count": 13,
   "metadata": {},
   "outputs": [
    {
     "name": "stdout",
     "output_type": "stream",
     "text": [
      "{'fit_time': array([0.81634712, 1.00040579, 1.0783422 ]), 'score_time': array([1.05636621, 1.49454784, 1.34107423]), 'test_precision': array([0.4, 1. , 1. ]), 'test_recall': array([0.11111111, 0.05882353, 0.17647059]), 'test_f1': array([0.17391304, 0.11111111, 0.3       ])}\n"
     ]
    }
   ],
   "source": [
    "svc_rbf_1=svm.SVC(C=10,kernel='rbf',gamma=value)\n",
    "stratified_cv_results_rbf_a=cross_validate(svc_rbf_1, X_pca, y_williams, cv=StratifiedKFold(n_splits=3, shuffle=True, random_state=8401),\n",
    "                                     scoring=('precision','recall','f1'), return_train_score=False)\n",
    "print(stratified_cv_results_rbf_a)"
   ]
  },
  {
   "cell_type": "code",
   "execution_count": 14,
   "metadata": {},
   "outputs": [
    {
     "name": "stdout",
     "output_type": "stream",
     "text": [
      "{'fit_time': array([0.85117364, 1.17083383, 1.07228851]), 'score_time': array([1.19962955, 1.527035  , 1.38885927]), 'test_precision': array([0.4, 1. , 1. ]), 'test_recall': array([0.11111111, 0.05882353, 0.17647059]), 'test_f1': array([0.17391304, 0.11111111, 0.3       ])}\n"
     ]
    }
   ],
   "source": [
    "svc_rbf_1=svm.SVC(C=100,kernel='rbf',gamma=value)\n",
    "stratified_cv_results_rbf_a=cross_validate(svc_rbf_1, X_pca, y_williams, cv=StratifiedKFold(n_splits=3, shuffle=True, random_state=8401),\n",
    "                                     scoring=('precision','recall','f1'), return_train_score=False)\n",
    "print(stratified_cv_results_rbf_a)"
   ]
  },
  {
   "cell_type": "code",
   "execution_count": 16,
   "metadata": {},
   "outputs": [
    {
     "name": "stdout",
     "output_type": "stream",
     "text": [
      "{'fit_time': array([0.84012842, 1.05615878, 1.00859451]), 'score_time': array([1.06542659, 1.36269045, 1.38086557]), 'test_precision': array([0.4, 1. , 1. ]), 'test_recall': array([0.11111111, 0.05882353, 0.17647059]), 'test_f1': array([0.17391304, 0.11111111, 0.3       ])}\n"
     ]
    }
   ],
   "source": [
    "svc_rbf_1=svm.SVC(C=100000,kernel='rbf',gamma=value)\n",
    "stratified_cv_results_rbf_a=cross_validate(svc_rbf_1, X_pca, y_williams, cv=StratifiedKFold(n_splits=3, shuffle=True, random_state=8401),\n",
    "                                     scoring=('precision','recall','f1'), return_train_score=False)\n",
    "print(stratified_cv_results_rbf_a)"
   ]
  },
  {
   "cell_type": "code",
   "execution_count": 17,
   "metadata": {},
   "outputs": [
    {
     "name": "stdout",
     "output_type": "stream",
     "text": [
      "{'fit_time': array([0.71622181, 0.85457158, 0.83738375]), 'score_time': array([0.8953557 , 1.01093936, 1.04889274]), 'test_precision': array([0.2       , 0.42857143, 0.57142857]), 'test_recall': array([0.11111111, 0.35294118, 0.23529412]), 'test_f1': array([0.14285714, 0.38709677, 0.33333333])}\n"
     ]
    }
   ],
   "source": [
    "svc_poly_1=svm.SVC(C=1,kernel='poly',degree=3,coef0=1)\n",
    "stratified_cv_results_poly_1=cross_validate(svc_poly_1, X_pca, y_williams, cv=StratifiedKFold(n_splits=3, shuffle=True, random_state=8401),\n",
    "                                     scoring=('precision','recall','f1'), return_train_score=False)\n",
    "print(stratified_cv_results_poly_1)\n"
   ]
  },
  {
   "cell_type": "code",
   "execution_count": 28,
   "metadata": {},
   "outputs": [
    {
     "name": "stdout",
     "output_type": "stream",
     "text": [
      "{'fit_time': array([0.57000637, 0.62799811, 0.68426538]), 'score_time': array([0.69132876, 0.6658318 , 0.74874163]), 'test_precision': array([0.14285714, 0.36842105, 0.5       ]), 'test_recall': array([0.11111111, 0.41176471, 0.23529412]), 'test_f1': array([0.125     , 0.38888889, 0.32      ])}\n",
      "0.2779629629629629\n"
     ]
    }
   ],
   "source": [
    "svc_poly_1=svm.SVC(C=1,kernel='poly',degree=3,coef0=5)\n",
    "stratified_cv_results_poly_1=cross_validate(svc_poly_1, X_pca, y_williams, cv=StratifiedKFold(n_splits=3, shuffle=True, random_state=8401),\n",
    "                                     scoring=('precision','recall','f1'), return_train_score=False)\n",
    "print(stratified_cv_results_poly_1)\n",
    "print(np.mean(stratified_cv_results_poly_1['test_f1']))\n"
   ]
  },
  {
   "cell_type": "code",
   "execution_count": 27,
   "metadata": {},
   "outputs": [
    {
     "name": "stdout",
     "output_type": "stream",
     "text": [
      "{'fit_time': array([0.79837108, 0.76449156, 0.84548044]), 'score_time': array([0.76595044, 1.01215076, 0.88782549]), 'test_precision': array([0.2       , 0.42857143, 0.57142857]), 'test_recall': array([0.11111111, 0.35294118, 0.23529412]), 'test_f1': array([0.14285714, 0.38709677, 0.33333333])}\n",
      "0.28776241679467485\n"
     ]
    }
   ],
   "source": [
    "svc_poly_1=svm.SVC(C=10,kernel='poly',degree=3,coef0=1)\n",
    "stratified_cv_results_poly_1=cross_validate(svc_poly_1, X_pca, y_williams, cv=StratifiedKFold(n_splits=3, shuffle=True, random_state=8401),\n",
    "                                     scoring=('precision','recall','f1'), return_train_score=False)\n",
    "print(stratified_cv_results_poly_1)\n",
    "print(np.mean(stratified_cv_results_poly_1['test_f1']))\n"
   ]
  },
  {
   "cell_type": "code",
   "execution_count": 23,
   "metadata": {},
   "outputs": [
    {
     "name": "stdout",
     "output_type": "stream",
     "text": [
      "{'fit_time': array([2.54737329, 2.56538081, 2.38839364]), 'score_time': array([2.72243023, 2.51129532, 2.5245204 ]), 'test_precision': array([0.25, 0.25, 0.8 ]), 'test_recall': array([0.11111111, 0.11764706, 0.23529412]), 'test_f1': array([0.15384615, 0.16      , 0.36363636])}\n"
     ]
    }
   ],
   "source": [
    "svc_poly_1=svm.SVC(C=1000,kernel='poly',degree=3,coef0=0)\n",
    "stratified_cv_results_poly_1=cross_validate(svc_poly_1, X_pca, y_williams, cv=StratifiedKFold(n_splits=3, shuffle=True, random_state=8401),\n",
    "                                     scoring=('precision','recall','f1'), return_train_score=False)\n",
    "print(stratified_cv_results_poly_1)\n"
   ]
  },
  {
   "cell_type": "code",
   "execution_count": 24,
   "metadata": {},
   "outputs": [
    {
     "name": "stdout",
     "output_type": "stream",
     "text": [
      "{'fit_time': array([0.6869123 , 0.82038617, 0.88406181]), 'score_time': array([0.88712049, 0.98977828, 1.05433559]), 'test_precision': array([0.2       , 0.42857143, 0.57142857]), 'test_recall': array([0.11111111, 0.35294118, 0.23529412]), 'test_f1': array([0.14285714, 0.38709677, 0.33333333])}\n"
     ]
    }
   ],
   "source": [
    "svc_poly_1=svm.SVC(C=1000,kernel='poly',degree=3,coef0=1)\n",
    "stratified_cv_results_poly_1=cross_validate(svc_poly_1, X_pca, y_williams, cv=StratifiedKFold(n_splits=3, shuffle=True, random_state=8401),\n",
    "                                     scoring=('precision','recall','f1'), return_train_score=False)\n",
    "print(stratified_cv_results_poly_1)\n"
   ]
  },
  {
   "cell_type": "code",
   "execution_count": 26,
   "metadata": {},
   "outputs": [
    {
     "name": "stdout",
     "output_type": "stream",
     "text": [
      "{'fit_time': array([3.51627851, 3.7306478 , 3.63985991]), 'score_time': array([4.38823724, 4.55956507, 4.37002182]), 'test_precision': array([0.27272727, 0.2       , 0.4       ]), 'test_recall': array([0.16666667, 0.05882353, 0.11764706]), 'test_f1': array([0.20689655, 0.09090909, 0.18181818])}\n"
     ]
    }
   ],
   "source": [
    "svc_poly_1=svm.SVC(C=10,kernel='poly',degree=10,coef0=1)\n",
    "stratified_cv_results_poly_1=cross_validate(svc_poly_1, X_pca, y_williams, cv=StratifiedKFold(n_splits=3, shuffle=True, random_state=8401),\n",
    "                                     scoring=('precision','recall','f1'), return_train_score=False)\n",
    "print(stratified_cv_results_poly_1)"
   ]
  },
  {
   "cell_type": "markdown",
   "metadata": {},
   "source": [
    "<h3> highest poly 0.28777 (svc_poly_1=svm.SVC(C=10,kernel='poly',degree=3,coef0=1)) </h3>"
   ]
  },
  {
   "cell_type": "code",
   "execution_count": 29,
   "metadata": {},
   "outputs": [],
   "source": [
    "pca = PCA(n_components=150)\n",
    "X_n=pca.fit(X)"
   ]
  },
  {
   "cell_type": "markdown",
   "metadata": {},
   "source": [
    "<h2>N_components=150</h2>"
   ]
  },
  {
   "cell_type": "code",
   "execution_count": 30,
   "metadata": {},
   "outputs": [
    {
     "name": "stdout",
     "output_type": "stream",
     "text": [
      "(150, 4096)\n"
     ]
    }
   ],
   "source": [
    "print(pca.components_.shape)"
   ]
  },
  {
   "cell_type": "code",
   "execution_count": 31,
   "metadata": {},
   "outputs": [
    {
     "name": "stdout",
     "output_type": "stream",
     "text": [
      "(13233, 150)\n"
     ]
    }
   ],
   "source": [
    "X_pca = pca.transform(X_n)\n",
    "print(X_pca.shape)"
   ]
  },
  {
   "cell_type": "code",
   "execution_count": 32,
   "metadata": {},
   "outputs": [
    {
     "name": "stdout",
     "output_type": "stream",
     "text": [
      "{'fit_time': array([0.69846821, 0.71407509, 0.89064002]), 'score_time': array([0.58555079, 0.48921561, 0.58577371]), 'test_precision': array([0.26086957, 0.12195122, 0.24137931]), 'test_recall': array([0.33333333, 0.29411765, 0.41176471]), 'test_f1': array([0.29268293, 0.17241379, 0.30434783])}\n"
     ]
    }
   ],
   "source": [
    "svc_s=svm.SVC(C=1,kernel='linear')\n",
    "stratified_cv_results_d=cross_validate(svc_s, X_pca, y_williams, cv=StratifiedKFold(n_splits=3, shuffle=True, random_state=8401),\n",
    "                                     scoring=('precision','recall','f1'), return_train_score=False)\n",
    "print(stratified_cv_results_d)"
   ]
  },
  {
   "cell_type": "code",
   "execution_count": 34,
   "metadata": {},
   "outputs": [
    {
     "name": "stdout",
     "output_type": "stream",
     "text": [
      "{'fit_time': array([0.74743319, 0.68301582, 0.81938744]), 'score_time': array([0.54613805, 0.45709515, 0.48459196]), 'test_precision': array([0.26086957, 0.12195122, 0.22580645]), 'test_recall': array([0.33333333, 0.29411765, 0.41176471]), 'test_f1': array([0.29268293, 0.17241379, 0.29166667])}\n"
     ]
    }
   ],
   "source": [
    "svc_s=svm.SVC(C=100,kernel='linear')\n",
    "stratified_cv_results_d=cross_validate(svc_s, X_pca, y_williams, cv=StratifiedKFold(n_splits=3, shuffle=True, random_state=8401),\n",
    "                                     scoring=('precision','recall','f1'), return_train_score=False)\n",
    "print(stratified_cv_results_d)"
   ]
  },
  {
   "cell_type": "code",
   "execution_count": 36,
   "metadata": {},
   "outputs": [
    {
     "name": "stdout",
     "output_type": "stream",
     "text": [
      "{'fit_time': array([0.76253104, 0.71471405, 0.82853484]), 'score_time': array([0.59592175, 0.61129379, 0.62636542]), 'test_precision': array([0.54545455, 0.2173913 , 0.42857143]), 'test_recall': array([0.33333333, 0.29411765, 0.35294118]), 'test_f1': array([0.4137931 , 0.25      , 0.38709677])}\n",
      "0.3502966258806081\n"
     ]
    }
   ],
   "source": [
    "svc_s=svm.SVC(C=0.1,kernel='linear')\n",
    "stratified_cv_results_d=cross_validate(svc_s, X_pca, y_williams, cv=StratifiedKFold(n_splits=3, shuffle=True, random_state=8401),\n",
    "                                     scoring=('precision','recall','f1'), return_train_score=False)\n",
    "print(stratified_cv_results_d)\n",
    "print(np.mean(stratified_cv_results_d['test_f1']))"
   ]
  },
  {
   "cell_type": "code",
   "execution_count": 38,
   "metadata": {},
   "outputs": [
    {
     "name": "stdout",
     "output_type": "stream",
     "text": [
      "{'fit_time': array([0.75916934, 0.64804697, 0.88112044]), 'score_time': array([0.55443048, 0.49907017, 0.54366684]), 'test_precision': array([0.3       , 0.15384615, 0.21875   ]), 'test_recall': array([0.33333333, 0.35294118, 0.41176471]), 'test_f1': array([0.31578947, 0.21428571, 0.28571429])}\n",
      "0.2719298245614035\n"
     ]
    }
   ],
   "source": [
    "svc_s=svm.SVC(C=0.5,kernel='linear')\n",
    "stratified_cv_results_d=cross_validate(svc_s, X_pca, y_williams, cv=StratifiedKFold(n_splits=3, shuffle=True, random_state=8401),\n",
    "                                     scoring=('precision','recall','f1'), return_train_score=False)\n",
    "print(stratified_cv_results_d)\n",
    "print(np.mean(stratified_cv_results_d['test_f1']))"
   ]
  },
  {
   "cell_type": "code",
   "execution_count": 40,
   "metadata": {},
   "outputs": [
    {
     "name": "stdout",
     "output_type": "stream",
     "text": [
      "{'fit_time': array([0.58362985, 0.6217165 , 0.60566735]), 'score_time': array([0.71454287, 0.78676105, 0.79693055]), 'test_precision': array([0.22222222, 0.53846154, 1.        ]), 'test_recall': array([0.11111111, 0.41176471, 0.29411765]), 'test_f1': array([0.14814815, 0.46666667, 0.45454545])}\n",
      "0.35645342312008976\n"
     ]
    }
   ],
   "source": [
    "svc_poly_1=svm.SVC(C=10,kernel='poly',degree=3,coef0=1)\n",
    "stratified_cv_results_poly_1=cross_validate(svc_poly_1, X_pca, y_williams, cv=StratifiedKFold(n_splits=3, shuffle=True, random_state=8401),\n",
    "                                     scoring=('precision','recall','f1'), return_train_score=False)\n",
    "print(stratified_cv_results_poly_1)\n",
    "print(np.mean(stratified_cv_results_poly_1['test_f1']))"
   ]
  },
  {
   "cell_type": "code",
   "execution_count": 51,
   "metadata": {},
   "outputs": [
    {
     "name": "stdout",
     "output_type": "stream",
     "text": [
      "{'fit_time': array([0.91432166, 0.96988034, 0.90188885]), 'score_time': array([1.15425611, 1.17099428, 1.34211564]), 'test_precision': array([0.25      , 0.58333333, 0.71428571]), 'test_recall': array([0.11111111, 0.41176471, 0.29411765]), 'test_f1': array([0.15384615, 0.48275862, 0.41666667])}\n",
      "0.35109048040082524\n"
     ]
    }
   ],
   "source": [
    "svc_poly_1=svm.SVC(C=1000,kernel='poly',degree=10,coef0=10)\n",
    "stratified_cv_results_poly_1=cross_validate(svc_poly_1, X_pca, y_williams, cv=StratifiedKFold(n_splits=3, shuffle=True, random_state=8401),\n",
    "                                     scoring=('precision','recall','f1'), return_train_score=False)\n",
    "print(stratified_cv_results_poly_1)\n",
    "print(np.mean(stratified_cv_results_poly_1['test_f1']))"
   ]
  },
  {
   "cell_type": "markdown",
   "metadata": {},
   "source": [
    "<h3> highest poly 0.35645 (svc_poly_1=svm.SVC(C=10,kernel='poly',degree=3,coef0=1)) </h3>"
   ]
  },
  {
   "cell_type": "code",
   "execution_count": 52,
   "metadata": {},
   "outputs": [],
   "source": [
    "pca = PCA(n_components=200)\n",
    "X_n=pca.fit(X)"
   ]
  },
  {
   "cell_type": "markdown",
   "metadata": {},
   "source": [
    "<h2>N_components=200</h2>"
   ]
  },
  {
   "cell_type": "code",
   "execution_count": 53,
   "metadata": {},
   "outputs": [
    {
     "name": "stdout",
     "output_type": "stream",
     "text": [
      "(13233, 200)\n"
     ]
    }
   ],
   "source": [
    "X_pca = pca.transform(X)\n",
    "print(X_pca.shape)"
   ]
  },
  {
   "cell_type": "code",
   "execution_count": 54,
   "metadata": {},
   "outputs": [
    {
     "name": "stdout",
     "output_type": "stream",
     "text": [
      "(200, 4096)\n"
     ]
    }
   ],
   "source": [
    "print(pca.components_.shape)"
   ]
  },
  {
   "cell_type": "code",
   "execution_count": 55,
   "metadata": {},
   "outputs": [
    {
     "name": "stdout",
     "output_type": "stream",
     "text": [
      "{'fit_time': array([0.92191124, 0.95733809, 1.09563446]), 'score_time': array([0.83759546, 0.77606773, 0.85666323]), 'test_precision': array([0.22727273, 0.23809524, 0.35294118]), 'test_recall': array([0.27777778, 0.29411765, 0.35294118]), 'test_f1': array([0.25      , 0.26315789, 0.35294118])}\n"
     ]
    }
   ],
   "source": [
    "svc_s=svm.SVC(C=1,kernel='linear')\n",
    "stratified_cv_results_d=cross_validate(svc_s, X_pca, y_williams, cv=StratifiedKFold(n_splits=3, shuffle=True, random_state=8401),\n",
    "                                     scoring=('precision','recall','f1'), return_train_score=False)\n",
    "print(stratified_cv_results_d)"
   ]
  },
  {
   "cell_type": "code",
   "execution_count": 56,
   "metadata": {},
   "outputs": [
    {
     "name": "stdout",
     "output_type": "stream",
     "text": [
      "{'fit_time': array([0.80523729, 0.8704381 , 1.08749342]), 'score_time': array([0.77284765, 0.71366048, 0.8640933 ]), 'test_precision': array([0.22727273, 0.23809524, 0.35294118]), 'test_recall': array([0.27777778, 0.29411765, 0.35294118]), 'test_f1': array([0.25      , 0.26315789, 0.35294118])}\n"
     ]
    }
   ],
   "source": [
    "svc_s=svm.SVC(C=100,kernel='linear')\n",
    "stratified_cv_results_d=cross_validate(svc_s, X_pca, y_williams, cv=StratifiedKFold(n_splits=3, shuffle=True, random_state=8401),\n",
    "                                     scoring=('precision','recall','f1'), return_train_score=False)\n",
    "print(stratified_cv_results_d)"
   ]
  },
  {
   "cell_type": "code",
   "execution_count": 57,
   "metadata": {},
   "outputs": [
    {
     "name": "stdout",
     "output_type": "stream",
     "text": [
      "{'fit_time': array([0.89203334, 0.96361065, 1.04758   ]), 'score_time': array([0.80102134, 0.82197952, 0.86459637]), 'test_precision': array([0.42857143, 0.33333333, 0.53846154]), 'test_recall': array([0.33333333, 0.35294118, 0.41176471]), 'test_f1': array([0.375     , 0.34285714, 0.46666667])}\n",
      "0.3948412698412698\n"
     ]
    }
   ],
   "source": [
    "svc_s=svm.SVC(C=0.1,kernel='linear')\n",
    "stratified_cv_results_d=cross_validate(svc_s, X_pca, y_williams, cv=StratifiedKFold(n_splits=3, shuffle=True, random_state=8401),\n",
    "                                     scoring=('precision','recall','f1'), return_train_score=False)\n",
    "print(stratified_cv_results_d)\n",
    "print(np.mean(stratified_cv_results_d['test_f1']))"
   ]
  },
  {
   "cell_type": "code",
   "execution_count": 58,
   "metadata": {},
   "outputs": [
    {
     "name": "stdout",
     "output_type": "stream",
     "text": [
      "{'fit_time': array([0.85704637, 0.96488786, 1.10496211]), 'score_time': array([0.86781859, 0.78316188, 0.86785793]), 'test_precision': array([0.22727273, 0.23809524, 0.35294118]), 'test_recall': array([0.27777778, 0.29411765, 0.35294118]), 'test_f1': array([0.25      , 0.26315789, 0.35294118])}\n",
      "0.2886996904024768\n"
     ]
    }
   ],
   "source": [
    "svc_s=svm.SVC(C=0.5,kernel='linear')\n",
    "stratified_cv_results_d=cross_validate(svc_s, X_pca, y_williams, cv=StratifiedKFold(n_splits=3, shuffle=True, random_state=8401),\n",
    "                                     scoring=('precision','recall','f1'), return_train_score=False)\n",
    "print(stratified_cv_results_d)\n",
    "print(np.mean(stratified_cv_results_d['test_f1']))"
   ]
  },
  {
   "cell_type": "code",
   "execution_count": 59,
   "metadata": {},
   "outputs": [
    {
     "name": "stdout",
     "output_type": "stream",
     "text": [
      "{'fit_time': array([1.30201602, 1.56699586, 1.51213598]), 'score_time': array([1.82246995, 2.020015  , 1.93552136]), 'test_precision': array([0.25      , 0.58333333, 0.71428571]), 'test_recall': array([0.11111111, 0.41176471, 0.29411765]), 'test_f1': array([0.15384615, 0.48275862, 0.41666667])}\n",
      "0.35109048040082524\n"
     ]
    }
   ],
   "source": [
    "svc_poly_1=svm.SVC(C=10,kernel='poly',degree=3,coef0=1)\n",
    "stratified_cv_results_poly_1=cross_validate(svc_poly_1, X_pca, y_williams, cv=StratifiedKFold(n_splits=3, shuffle=True, random_state=8401),\n",
    "                                     scoring=('precision','recall','f1'), return_train_score=False)\n",
    "print(stratified_cv_results_poly_1)\n",
    "print(np.mean(stratified_cv_results_poly_1['test_f1']))"
   ]
  },
  {
   "cell_type": "code",
   "execution_count": 60,
   "metadata": {},
   "outputs": [
    {
     "name": "stdout",
     "output_type": "stream",
     "text": [
      "{'fit_time': array([1.22878432, 1.419626  , 1.39889121]), 'score_time': array([1.74357581, 1.79947209, 1.74389243]), 'test_precision': array([0.25      , 0.53846154, 0.71428571]), 'test_recall': array([0.11111111, 0.41176471, 0.29411765]), 'test_f1': array([0.15384615, 0.46666667, 0.41666667])}\n",
      "0.3457264957264958\n"
     ]
    }
   ],
   "source": [
    "svc_poly_1=svm.SVC(C=1000,kernel='poly',degree=10,coef0=10)\n",
    "stratified_cv_results_poly_1=cross_validate(svc_poly_1, X_pca, y_williams, cv=StratifiedKFold(n_splits=3, shuffle=True, random_state=8401),\n",
    "                                     scoring=('precision','recall','f1'), return_train_score=False)\n",
    "print(stratified_cv_results_poly_1)\n",
    "print(np.mean(stratified_cv_results_poly_1['test_f1']))"
   ]
  },
  {
   "cell_type": "code",
   "execution_count": 65,
   "metadata": {},
   "outputs": [
    {
     "name": "stdout",
     "output_type": "stream",
     "text": [
      "{'fit_time': array([0.67431903, 0.60396624, 0.65609503]), 'score_time': array([0.78192425, 0.78561878, 0.74586511]), 'test_precision': array([0.25      , 0.57142857, 0.71428571]), 'test_recall': array([0.11111111, 0.47058824, 0.29411765]), 'test_f1': array([0.15384615, 0.51612903, 0.41666667])}\n",
      "0.3622139509236284\n"
     ]
    }
   ],
   "source": [
    "svc_poly_1=svm.SVC(C=10,kernel='poly',degree=5,coef0=5)\n",
    "stratified_cv_results_poly_1=cross_validate(svc_poly_1, X_pca, y_williams, cv=StratifiedKFold(n_splits=3, shuffle=True, random_state=8401),\n",
    "                                     scoring=('precision','recall','f1'), return_train_score=False)\n",
    "print(stratified_cv_results_poly_1)\n",
    "print(np.mean(stratified_cv_results_poly_1['test_f1']))"
   ]
  },
  {
   "cell_type": "markdown",
   "metadata": {},
   "source": [
    "<h3> highest poly 0.3622139509236284 (svc_poly_1=svm.SVC(C=10,kernel='poly',degree=5,coef0=5)) </h3>\n"
   ]
  },
  {
   "cell_type": "code",
   "execution_count": 67,
   "metadata": {},
   "outputs": [],
   "source": [
    "pca = PCA(n_components=300)\n",
    "X_n=pca.fit(X)"
   ]
  },
  {
   "cell_type": "markdown",
   "metadata": {},
   "source": [
    "<h2>N_components=300</h2>"
   ]
  },
  {
   "cell_type": "code",
   "execution_count": 68,
   "metadata": {},
   "outputs": [
    {
     "name": "stdout",
     "output_type": "stream",
     "text": [
      "(13233, 300)\n"
     ]
    }
   ],
   "source": [
    "X_pca = pca.transform(X)\n",
    "print(X_pca.shape)"
   ]
  },
  {
   "cell_type": "code",
   "execution_count": 70,
   "metadata": {},
   "outputs": [
    {
     "name": "stdout",
     "output_type": "stream",
     "text": [
      "{'fit_time': array([0.755229  , 0.66880846, 0.83105159]), 'score_time': array([0.6993022 , 0.62915683, 0.73493409]), 'test_precision': array([0.33333333, 0.3       , 0.53846154]), 'test_recall': array([0.27777778, 0.35294118, 0.41176471]), 'test_f1': array([0.3030303 , 0.32432432, 0.46666667])}\n",
      "0.3646737646737647\n"
     ]
    }
   ],
   "source": [
    "svc_s=svm.SVC(C=1,kernel='linear')\n",
    "stratified_cv_results_d=cross_validate(svc_s, X_pca, y_williams, cv=StratifiedKFold(n_splits=3, shuffle=True, random_state=8401),\n",
    "                                     scoring=('precision','recall','f1'), return_train_score=False)\n",
    "print(stratified_cv_results_d)\n",
    "print(np.mean(stratified_cv_results_d['test_f1']))"
   ]
  },
  {
   "cell_type": "code",
   "execution_count": 71,
   "metadata": {},
   "outputs": [
    {
     "name": "stdout",
     "output_type": "stream",
     "text": [
      "{'fit_time': array([1.06089568, 1.2140727 , 1.77848244]), 'score_time': array([1.38744879, 1.67160583, 2.06637669]), 'test_precision': array([0.25      , 0.63636364, 0.71428571]), 'test_recall': array([0.11111111, 0.41176471, 0.29411765]), 'test_f1': array([0.15384615, 0.5       , 0.41666667])}\n",
      "0.35683760683760685\n"
     ]
    }
   ],
   "source": [
    "svc_poly_1=svm.SVC(C=10,kernel='poly',degree=3,coef0=1)\n",
    "stratified_cv_results_poly_1=cross_validate(svc_poly_1, X_pca, y_williams, cv=StratifiedKFold(n_splits=3, shuffle=True, random_state=8401),\n",
    "                                     scoring=('precision','recall','f1'), return_train_score=False)\n",
    "print(stratified_cv_results_poly_1)\n",
    "print(np.mean(stratified_cv_results_poly_1['test_f1']))\n"
   ]
  },
  {
   "cell_type": "code",
   "execution_count": 72,
   "metadata": {},
   "outputs": [
    {
     "name": "stdout",
     "output_type": "stream",
     "text": [
      "{'fit_time': array([0.85574198, 0.84278393, 0.89326668]), 'score_time': array([0.90407252, 0.99639964, 0.95844197]), 'test_precision': array([0.27272727, 0.46153846, 0.58333333]), 'test_recall': array([0.16666667, 0.35294118, 0.41176471]), 'test_f1': array([0.20689655, 0.4       , 0.48275862])}\n",
      "0.3632183908045978\n"
     ]
    }
   ],
   "source": [
    "svc_poly_1=svm.SVC(C=10,kernel='poly',degree=3,coef0=5)\n",
    "stratified_cv_results_poly_1=cross_validate(svc_poly_1, X_pca, y_williams, cv=StratifiedKFold(n_splits=3, shuffle=True, random_state=8401),\n",
    "                                     scoring=('precision','recall','f1'), return_train_score=False)\n",
    "print(stratified_cv_results_poly_1)\n",
    "print(np.mean(stratified_cv_results_poly_1['test_f1']))"
   ]
  },
  {
   "cell_type": "code",
   "execution_count": 75,
   "metadata": {},
   "outputs": [
    {
     "name": "stdout",
     "output_type": "stream",
     "text": [
      "{'fit_time': array([0.92164254, 0.93859529, 0.92704463]), 'score_time': array([1.08732796, 1.09459567, 1.11905718]), 'test_precision': array([0.22222222, 0.53846154, 0.75      ]), 'test_recall': array([0.11111111, 0.41176471, 0.35294118]), 'test_f1': array([0.14814815, 0.46666667, 0.48      ])}\n",
      "0.36493827160493825\n"
     ]
    }
   ],
   "source": [
    "svc_poly_1=svm.SVC(C=10,kernel='poly',degree=5,coef0=5)\n",
    "stratified_cv_results_poly_1=cross_validate(svc_poly_1, X_pca, y_williams, cv=StratifiedKFold(n_splits=3, shuffle=True, random_state=8401),\n",
    "                                     scoring=('precision','recall','f1'), return_train_score=False)\n",
    "print(stratified_cv_results_poly_1)\n",
    "print(np.mean(stratified_cv_results_poly_1['test_f1']))"
   ]
  },
  {
   "cell_type": "markdown",
   "metadata": {},
   "source": [
    "<h3> highest poly 0.36493827160493825 (svc_poly_1=svm.SVC(C=10,kernel='poly',degree=5,coef0=5)) </h3>\n"
   ]
  },
  {
   "cell_type": "code",
   "execution_count": 97,
   "metadata": {},
   "outputs": [],
   "source": [
    "pca = PCA(n_components=500)\n",
    "X_n=pca.fit(X)"
   ]
  },
  {
   "cell_type": "markdown",
   "metadata": {},
   "source": [
    "<h2>N_components=500</h2>"
   ]
  },
  {
   "cell_type": "code",
   "execution_count": 98,
   "metadata": {},
   "outputs": [
    {
     "name": "stdout",
     "output_type": "stream",
     "text": [
      "(13233, 500)\n"
     ]
    }
   ],
   "source": [
    "X_pca = pca.transform(X)\n",
    "print(X_pca.shape)"
   ]
  },
  {
   "cell_type": "code",
   "execution_count": 82,
   "metadata": {},
   "outputs": [
    {
     "name": "stdout",
     "output_type": "stream",
     "text": [
      "{'fit_time': array([1.2814281 , 1.17695403, 1.35887289]), 'score_time': array([1.29825234, 1.22816801, 1.35890412]), 'test_precision': array([0.42857143, 0.42857143, 0.58333333]), 'test_recall': array([0.33333333, 0.35294118, 0.41176471]), 'test_f1': array([0.375     , 0.38709677, 0.48275862])}\n",
      "0.41495179829440115\n"
     ]
    }
   ],
   "source": [
    "svc_s=svm.SVC(C=1,kernel='linear')\n",
    "stratified_cv_results_d=cross_validate(svc_s, X_pca, y_williams, cv=StratifiedKFold(n_splits=3, shuffle=True, random_state=8401),\n",
    "                                     scoring=('precision','recall','f1'), return_train_score=False)\n",
    "print(stratified_cv_results_d)\n",
    "print(np.mean(stratified_cv_results_d['test_f1']))"
   ]
  },
  {
   "cell_type": "code",
   "execution_count": 89,
   "metadata": {},
   "outputs": [
    {
     "name": "stdout",
     "output_type": "stream",
     "text": [
      "{'fit_time': array([1.32282758, 1.27244425, 1.35504436]), 'score_time': array([1.27617288, 1.21799493, 1.34892726]), 'test_precision': array([0.42857143, 0.42857143, 0.58333333]), 'test_recall': array([0.33333333, 0.35294118, 0.41176471]), 'test_f1': array([0.375     , 0.38709677, 0.48275862])}\n",
      "0.41495179829440115\n"
     ]
    }
   ],
   "source": [
    "svc_s=svm.SVC(C=10,kernel='linear')\n",
    "stratified_cv_results_d=cross_validate(svc_s, X_pca, y_williams, cv=StratifiedKFold(n_splits=3, shuffle=True, random_state=8401),\n",
    "                                     scoring=('precision','recall','f1'), return_train_score=False)\n",
    "print(stratified_cv_results_d)\n",
    "print(np.mean(stratified_cv_results_d['test_f1']))"
   ]
  },
  {
   "cell_type": "code",
   "execution_count": 99,
   "metadata": {},
   "outputs": [
    {
     "name": "stdout",
     "output_type": "stream",
     "text": [
      "{'fit_time': array([1.29611039, 1.31362438, 1.45579791]), 'score_time': array([1.50311041, 1.58750296, 1.77083254]), 'test_precision': array([0.36363636, 0.5       , 0.58333333]), 'test_recall': array([0.22222222, 0.35294118, 0.41176471]), 'test_f1': array([0.27586207, 0.4137931 , 0.48275862])}\n",
      "0.39080459770114945\n"
     ]
    }
   ],
   "source": [
    "svc_poly_1=svm.SVC(C=10,kernel='poly',degree=5,coef0=10)\n",
    "stratified_cv_results_poly_1=cross_validate(svc_poly_1, X_pca, y_williams, cv=StratifiedKFold(n_splits=3, shuffle=True, random_state=8401),\n",
    "                                     scoring=('precision','recall','f1'), return_train_score=False)\n",
    "print(stratified_cv_results_poly_1)\n",
    "print(np.mean(stratified_cv_results_poly_1['test_f1']))"
   ]
  },
  {
   "cell_type": "markdown",
   "metadata": {},
   "source": [
    "<h2>N_components=900</h2>"
   ]
  },
  {
   "cell_type": "code",
   "execution_count": 21,
   "metadata": {},
   "outputs": [],
   "source": [
    "pca = PCA(n_components=900)\n",
    "X_n=pca.fit(X)"
   ]
  },
  {
   "cell_type": "code",
   "execution_count": 22,
   "metadata": {},
   "outputs": [
    {
     "name": "stdout",
     "output_type": "stream",
     "text": [
      "(13233, 900)\n"
     ]
    }
   ],
   "source": [
    "X_pca = pca.transform(X)\n",
    "print(X_pca.shape)"
   ]
  },
  {
   "cell_type": "code",
   "execution_count": 23,
   "metadata": {},
   "outputs": [
    {
     "name": "stdout",
     "output_type": "stream",
     "text": [
      "{'fit_time': array([ 4.95171285,  4.62622905, 27.9773829 ]), 'score_time': array([5.32654643, 4.32326913, 7.50514698]), 'test_precision': array([0.4       , 0.54545455, 0.66666667]), 'test_recall': array([0.33333333, 0.35294118, 0.47058824]), 'test_f1': array([0.36363636, 0.42857143, 0.55172414])}\n",
      "0.44797731004627556\n"
     ]
    }
   ],
   "source": [
    "svc_s=svm.SVC(C=0.1,kernel='linear')\n",
    "stratified_cv_results_d=cross_validate(svc_s, X_pca, y_williams, cv=StratifiedKFold(n_splits=3, shuffle=True, random_state=8401),\n",
    "                                     scoring=('precision','recall','f1'), return_train_score=False)\n",
    "print(stratified_cv_results_d)\n",
    "print(np.mean(stratified_cv_results_d['test_f1']))"
   ]
  },
  {
   "cell_type": "code",
   "execution_count": 95,
   "metadata": {},
   "outputs": [
    {
     "name": "stdout",
     "output_type": "stream",
     "text": [
      "{'fit_time': array([2.34939075, 2.43801832, 2.65968084]), 'score_time': array([2.81717324, 2.87935519, 3.06210971]), 'test_precision': array([0.54545455, 0.54545455, 0.66666667]), 'test_recall': array([0.33333333, 0.35294118, 0.47058824]), 'test_f1': array([0.4137931 , 0.42857143, 0.55172414])}\n",
      "0.46469622331691296\n"
     ]
    }
   ],
   "source": [
    "svc_poly_1=svm.SVC(C=10,kernel='poly',degree=5,coef0=10)\n",
    "stratified_cv_results_poly_1=cross_validate(svc_poly_1, X_pca, y_williams, cv=StratifiedKFold(n_splits=3, shuffle=True, random_state=8401),\n",
    "                                     scoring=('precision','recall','f1'), return_train_score=False)\n",
    "print(stratified_cv_results_poly_1)\n",
    "print(np.mean(stratified_cv_results_poly_1['test_f1']))"
   ]
  },
  {
   "cell_type": "markdown",
   "metadata": {},
   "source": [
    "<h2>N_components=1200</h2>"
   ]
  },
  {
   "cell_type": "code",
   "execution_count": 101,
   "metadata": {},
   "outputs": [],
   "source": [
    "pca = PCA(n_components=1200)\n",
    "X_n=pca.fit(X)"
   ]
  },
  {
   "cell_type": "code",
   "execution_count": 102,
   "metadata": {},
   "outputs": [
    {
     "name": "stdout",
     "output_type": "stream",
     "text": [
      "(13233, 1200)\n"
     ]
    }
   ],
   "source": [
    "X_pca = pca.transform(X)\n",
    "print(X_pca.shape)"
   ]
  },
  {
   "cell_type": "code",
   "execution_count": 103,
   "metadata": {},
   "outputs": [
    {
     "name": "stdout",
     "output_type": "stream",
     "text": [
      "{'fit_time': array([3.15600371, 3.0295825 , 3.42373276]), 'score_time': array([3.60477781, 3.46127129, 3.82705951]), 'test_precision': array([0.42857143, 0.54545455, 0.72727273]), 'test_recall': array([0.33333333, 0.35294118, 0.47058824]), 'test_f1': array([0.375     , 0.42857143, 0.57142857])}\n",
      "0.4583333333333333\n"
     ]
    }
   ],
   "source": [
    "svc_s=svm.SVC(C=1,kernel='linear')\n",
    "stratified_cv_results_d=cross_validate(svc_s, X_pca, y_williams, cv=StratifiedKFold(n_splits=3, shuffle=True, random_state=8401),\n",
    "                                     scoring=('precision','recall','f1'), return_train_score=False)\n",
    "print(stratified_cv_results_d)\n",
    "print(np.mean(stratified_cv_results_d['test_f1']))"
   ]
  },
  {
   "cell_type": "code",
   "execution_count": 104,
   "metadata": {},
   "outputs": [
    {
     "name": "stdout",
     "output_type": "stream",
     "text": [
      "{'fit_time': array([3.10584688, 3.30187201, 3.41873741]), 'score_time': array([3.78905153, 3.90014601, 4.21507478]), 'test_precision': array([0.54545455, 0.54545455, 0.88888889]), 'test_recall': array([0.33333333, 0.35294118, 0.47058824]), 'test_f1': array([0.4137931 , 0.42857143, 0.61538462])}\n",
      "0.48591638246810653\n"
     ]
    }
   ],
   "source": [
    "svc_poly_1=svm.SVC(C=10,kernel='poly',degree=5,coef0=10)\n",
    "stratified_cv_results_poly_1=cross_validate(svc_poly_1, X_pca, y_williams, cv=StratifiedKFold(n_splits=3, shuffle=True, random_state=8401),\n",
    "                                     scoring=('precision','recall','f1'), return_train_score=False)\n",
    "print(stratified_cv_results_poly_1)\n",
    "print(np.mean(stratified_cv_results_poly_1['test_f1']))"
   ]
  },
  {
   "cell_type": "markdown",
   "metadata": {},
   "source": [
    "<h3> highest poly 0.48591638246810653 (svc_poly_1=svm.SVC(C=10,kernel='poly',degree=5,coef0=10)) </h3>\n"
   ]
  },
  {
   "cell_type": "code",
   "execution_count": 123,
   "metadata": {},
   "outputs": [],
   "source": [
    "pca = PCA(n_components=1500)\n",
    "X_n=pca.fit(X)\n"
   ]
  },
  {
   "cell_type": "markdown",
   "metadata": {},
   "source": [
    "<h2>N_components=1500</h2>"
   ]
  },
  {
   "cell_type": "code",
   "execution_count": 124,
   "metadata": {},
   "outputs": [
    {
     "name": "stdout",
     "output_type": "stream",
     "text": [
      "(13233, 1500)\n"
     ]
    }
   ],
   "source": [
    "X_pca = pca.transform(X)\n",
    "print(X_pca.shape)"
   ]
  },
  {
   "cell_type": "code",
   "execution_count": 107,
   "metadata": {},
   "outputs": [
    {
     "name": "stdout",
     "output_type": "stream",
     "text": [
      "{'fit_time': array([4.02253795, 3.80268073, 4.22676682]), 'score_time': array([4.63900709, 4.41436434, 4.93175983]), 'test_precision': array([0.54545455, 0.6       , 0.72727273]), 'test_recall': array([0.33333333, 0.35294118, 0.47058824]), 'test_f1': array([0.4137931 , 0.44444444, 0.57142857])}\n",
      "0.4765553731070972\n"
     ]
    }
   ],
   "source": [
    "svc_s=svm.SVC(C=1,kernel='linear')\n",
    "stratified_cv_results_d=cross_validate(svc_s, X_pca, y_williams, cv=StratifiedKFold(n_splits=3, shuffle=True, random_state=8401),\n",
    "                                     scoring=('precision','recall','f1'), return_train_score=False)\n",
    "print(stratified_cv_results_d)\n",
    "print(np.mean(stratified_cv_results_d['test_f1']))"
   ]
  },
  {
   "cell_type": "code",
   "execution_count": 110,
   "metadata": {},
   "outputs": [
    {
     "name": "stdout",
     "output_type": "stream",
     "text": [
      "{'fit_time': array([3.89410353, 4.11309481, 4.36204219]), 'score_time': array([5.28425407, 4.9427774 , 5.23550391]), 'test_precision': array([0.5       , 0.54545455, 0.88888889]), 'test_recall': array([0.33333333, 0.35294118, 0.47058824]), 'test_f1': array([0.4       , 0.42857143, 0.61538462])}\n",
      "0.4813186813186812\n"
     ]
    }
   ],
   "source": [
    "svc_poly_1=svm.SVC(C=10,kernel='poly',degree=5,coef0=10)\n",
    "stratified_cv_results_poly_1=cross_validate(svc_poly_1, X_pca, y_williams, cv=StratifiedKFold(n_splits=3, shuffle=True, random_state=8401),\n",
    "                                     scoring=('precision','recall','f1'), return_train_score=False)\n",
    "print(stratified_cv_results_poly_1)\n",
    "print(np.mean(stratified_cv_results_poly_1['test_f1']))"
   ]
  },
  {
   "cell_type": "code",
   "execution_count": 125,
   "metadata": {},
   "outputs": [
    {
     "name": "stdout",
     "output_type": "stream",
     "text": [
      "{'fit_time': array([4.0044198 , 4.06526494, 4.3288641 ]), 'score_time': array([5.08778906, 5.16878629, 5.5142827 ]), 'test_precision': array([0.55555556, 0.54545455, 0.8       ]), 'test_recall': array([0.27777778, 0.35294118, 0.47058824]), 'test_f1': array([0.37037037, 0.42857143, 0.59259259])}\n",
      "0.46384479717813054\n"
     ]
    }
   ],
   "source": [
    "svc_poly_1=svm.SVC(C=10,kernel='poly',degree=10,coef0=10)\n",
    "stratified_cv_results_poly_1=cross_validate(svc_poly_1, X_pca, y_williams, cv=StratifiedKFold(n_splits=3, shuffle=True, random_state=8401),\n",
    "                                     scoring=('precision','recall','f1'), return_train_score=False)\n",
    "print(stratified_cv_results_poly_1)\n",
    "print(np.mean(stratified_cv_results_poly_1['test_f1']))"
   ]
  },
  {
   "cell_type": "code",
   "execution_count": 113,
   "metadata": {},
   "outputs": [
    {
     "name": "stdout",
     "output_type": "stream",
     "text": [
      "(13233, 2000)\n"
     ]
    }
   ],
   "source": [
    "pca = PCA(n_components=2000)\n",
    "X_n=pca.fit(X)\n",
    "X_pca = pca.transform(X)\n",
    "print(X_pca.shape)"
   ]
  },
  {
   "cell_type": "code",
   "execution_count": 115,
   "metadata": {},
   "outputs": [
    {
     "name": "stdout",
     "output_type": "stream",
     "text": [
      "{'fit_time': array([5.83147025, 5.11272216, 5.82399249]), 'score_time': array([6.5573945 , 6.29791713, 6.83050323]), 'test_precision': array([0.54545455, 0.6       , 0.72727273]), 'test_recall': array([0.33333333, 0.35294118, 0.47058824]), 'test_f1': array([0.4137931 , 0.44444444, 0.57142857])}\n",
      "0.4765553731070972\n"
     ]
    }
   ],
   "source": [
    "svc_s=svm.SVC(C=1,kernel='linear')\n",
    "stratified_cv_results_d=cross_validate(svc_s, X_pca, y_williams, cv=StratifiedKFold(n_splits=3, shuffle=True, random_state=8401),\n",
    "                                     scoring=('precision','recall','f1'), return_train_score=False)\n",
    "print(stratified_cv_results_d)\n",
    "print(np.mean(stratified_cv_results_d['test_f1']))"
   ]
  },
  {
   "cell_type": "code",
   "execution_count": 17,
   "metadata": {},
   "outputs": [
    {
     "name": "stdout",
     "output_type": "stream",
     "text": [
      "{'fit_time': array([11.94418931, 12.01562524, 12.62483406]), 'score_time': array([14.32855654, 14.67193103, 15.62448096]), 'test_precision': array([0.57142857, 0.75      , 1.        ]), 'test_recall': array([0.22222222, 0.35294118, 0.35294118]), 'test_f1': array([0.32      , 0.48      , 0.52173913])}\n",
      "0.4405797101449275\n"
     ]
    }
   ],
   "source": [
    "svc_rbf_s=svm.SVC(C=1000,kernel='rbf',gamma=value)\n",
    "stratified_cv_results_rbf_s=cross_validate(svc_rbf_s, X, y_williams, cv=StratifiedKFold(n_splits=3, shuffle=True, random_state=8401),\n",
    "                                     scoring=('precision','recall','f1'), return_train_score=False)\n",
    "print(stratified_cv_results_rbf_s)\n",
    "print(np.mean(stratified_cv_results_rbf_s['test_f1']))"
   ]
  },
  {
   "cell_type": "code",
   "execution_count": 117,
   "metadata": {},
   "outputs": [
    {
     "name": "stdout",
     "output_type": "stream",
     "text": [
      "{'fit_time': array([5.26917267, 5.4619956 , 5.75006318]), 'score_time': array([6.79316378, 6.96097136, 7.39581561]), 'test_precision': array([0.66666667, 0.54545455, 0.88888889]), 'test_recall': array([0.33333333, 0.35294118, 0.47058824]), 'test_f1': array([0.44444444, 0.42857143, 0.61538462])}\n",
      "0.49613349613349617\n"
     ]
    }
   ],
   "source": [
    "svc_poly_1=svm.SVC(C=10,kernel='poly',degree=10,coef0=10)\n",
    "stratified_cv_results_poly_1=cross_validate(svc_poly_1, X_pca, y_williams, cv=StratifiedKFold(n_splits=3, shuffle=True, random_state=8401),\n",
    "                                     scoring=('precision','recall','f1'), return_train_score=False)\n",
    "print(stratified_cv_results_poly_1)\n",
    "print(np.mean(stratified_cv_results_poly_1['test_f1']))"
   ]
  },
  {
   "cell_type": "markdown",
   "metadata": {},
   "source": [
    "<h3> highest yet 0.49613349613349617 with C=10,kernel='poly',degree=10,coef0=10</h3>"
   ]
  },
  {
   "cell_type": "code",
   "execution_count": 118,
   "metadata": {},
   "outputs": [
    {
     "name": "stdout",
     "output_type": "stream",
     "text": [
      "(13233, 2500)\n"
     ]
    }
   ],
   "source": [
    "pca = PCA(n_components=2500)\n",
    "X_n=pca.fit(X)\n",
    "X_pca = pca.transform(X)\n",
    "print(X_pca.shape)"
   ]
  },
  {
   "cell_type": "code",
   "execution_count": 119,
   "metadata": {},
   "outputs": [
    {
     "name": "stdout",
     "output_type": "stream",
     "text": [
      "{'fit_time': array([6.92696047, 6.40902424, 7.36883307]), 'score_time': array([8.23300648, 8.04823232, 9.02546263]), 'test_precision': array([0.6       , 0.6       , 0.72727273]), 'test_recall': array([0.33333333, 0.35294118, 0.47058824]), 'test_f1': array([0.42857143, 0.44444444, 0.57142857])}\n",
      "0.48148148148148145\n"
     ]
    }
   ],
   "source": [
    "svc_s=svm.SVC(C=1,kernel='linear')\n",
    "stratified_cv_results_d=cross_validate(svc_s, X_pca, y_williams, cv=StratifiedKFold(n_splits=3, shuffle=True, random_state=8401),\n",
    "                                     scoring=('precision','recall','f1'), return_train_score=False)\n",
    "print(stratified_cv_results_d)\n",
    "print(np.mean(stratified_cv_results_d['test_f1']))"
   ]
  },
  {
   "cell_type": "code",
   "execution_count": 121,
   "metadata": {},
   "outputs": [
    {
     "name": "stdout",
     "output_type": "stream",
     "text": [
      "{'fit_time': array([6.68082857, 8.889153  , 8.75172114]), 'score_time': array([10.62454724,  8.83866763, 10.24509668]), 'test_precision': array([0.6       , 0.54545455, 0.8       ]), 'test_recall': array([0.33333333, 0.35294118, 0.47058824]), 'test_f1': array([0.42857143, 0.42857143, 0.59259259])}\n",
      "0.4832451499118166\n"
     ]
    }
   ],
   "source": [
    "svc_poly_1=svm.SVC(C=10,kernel='poly',degree=5,coef0=10)\n",
    "stratified_cv_results_poly_1=cross_validate(svc_poly_1, X_pca, y_williams, cv=StratifiedKFold(n_splits=3, shuffle=True, random_state=8401),\n",
    "                                     scoring=('precision','recall','f1'), return_train_score=False)\n",
    "print(stratified_cv_results_poly_1)\n",
    "print(np.mean(stratified_cv_results_poly_1['test_f1']))"
   ]
  },
  {
   "cell_type": "code",
   "execution_count": 122,
   "metadata": {},
   "outputs": [
    {
     "name": "stdout",
     "output_type": "stream",
     "text": [
      "{'fit_time': array([7.95683026, 8.5452404 , 8.40769124]), 'score_time': array([10.09287643, 10.0591464 , 10.51111293]), 'test_precision': array([0.6       , 0.54545455, 0.88888889]), 'test_recall': array([0.33333333, 0.35294118, 0.47058824]), 'test_f1': array([0.42857143, 0.42857143, 0.61538462])}\n",
      "0.4908424908424908\n"
     ]
    }
   ],
   "source": [
    "svc_poly_1=svm.SVC(C=10,kernel='poly',degree=10,coef0=10)\n",
    "stratified_cv_results_poly_1=cross_validate(svc_poly_1, X_pca, y_williams, cv=StratifiedKFold(n_splits=3, shuffle=True, random_state=8401),\n",
    "                                     scoring=('precision','recall','f1'), return_train_score=False)\n",
    "print(stratified_cv_results_poly_1)\n",
    "print(np.mean(stratified_cv_results_poly_1['test_f1']))"
   ]
  },
  {
   "cell_type": "code",
   "execution_count": 8,
   "metadata": {},
   "outputs": [
    {
     "name": "stdout",
     "output_type": "stream",
     "text": [
      "(13233, 2000)\n"
     ]
    },
    {
     "data": {
      "text/plain": [
       "array([[-6.17302394e+00, -1.83102506e+00, -6.82618249e-01, ...,\n",
       "        -8.58578756e-03,  3.86457846e-03, -5.00416215e-02],\n",
       "       [-8.74472615e+00, -1.06152081e+00,  4.39499342e+00, ...,\n",
       "        -7.10733704e-02,  7.85004263e-02, -1.25966988e-02],\n",
       "       [-5.58314778e+00,  3.12191247e+00, -1.73468030e+00, ...,\n",
       "        -6.25854703e-02, -2.28523789e-02,  2.63109594e-03],\n",
       "       ...,\n",
       "       [-1.15627879e+01, -3.03118032e+00, -1.31590288e+00, ...,\n",
       "        -2.50249621e-02,  6.93174054e-02,  1.31211451e-02],\n",
       "       [-1.29620813e+01, -3.61012008e+00,  2.00276782e+00, ...,\n",
       "        -5.03267386e-02, -6.85301844e-02,  5.23268699e-02],\n",
       "       [-3.23516636e+00, -4.68425394e+00, -1.80796164e+00, ...,\n",
       "         9.23751958e-03, -3.29422066e-02, -1.36473195e-02]])"
      ]
     },
     "execution_count": 8,
     "metadata": {},
     "output_type": "execute_result"
    }
   ],
   "source": [
    "pca = PCA(n_components=2000)\n",
    "X_pca = pca.fit_transform(X)\n",
    "print(X_pca.shape)\n",
    "X_pca"
   ]
  },
  {
   "cell_type": "code",
   "execution_count": 9,
   "metadata": {},
   "outputs": [
    {
     "name": "stdout",
     "output_type": "stream",
     "text": [
      "{'fit_time': array([11.17383289, 11.19241667, 12.61211419]), 'score_time': array([13.23547983, 12.70274973, 14.13992572]), 'test_precision': array([0.54545455, 0.6       , 0.72727273]), 'test_recall': array([0.33333333, 0.35294118, 0.47058824]), 'test_f1': array([0.4137931 , 0.44444444, 0.57142857])}\n",
      "0.4765553731070972\n"
     ]
    }
   ],
   "source": [
    "svc_s=svm.SVC(C=1,kernel='linear')\n",
    "stratified_cv_results_d=cross_validate(svc_s, X_pca, y_williams, cv=StratifiedKFold(n_splits=3, shuffle=True, random_state=8401),\n",
    "                                     scoring=('precision','recall','f1'), return_train_score=False)\n",
    "print(stratified_cv_results_d)\n",
    "print(np.mean(stratified_cv_results_d['test_f1']))\n"
   ]
  },
  {
   "cell_type": "code",
   "execution_count": null,
   "metadata": {},
   "outputs": [],
   "source": [
    "svc_rbf_s=svm.SVC(C=0.1,kernel='rbf',gamma=value)\n",
    "stratified_cv_results_rbf_s=cross_validate(svc_rbf_s, X, y_williams, cv=StratifiedKFold(n_splits=3, shuffle=True, random_state=8401),\n",
    "                                     scoring=('precision','recall','f1'), return_train_score=False)\n",
    "print(stratified_cv_results_rbf_s)"
   ]
  },
  {
   "cell_type": "code",
   "execution_count": 10,
   "metadata": {},
   "outputs": [
    {
     "name": "stdout",
     "output_type": "stream",
     "text": [
      "{'fit_time': array([10.95078683, 10.62033248, 11.80916619]), 'score_time': array([13.71208191, 14.3728652 , 15.29804397]), 'test_precision': array([0.66666667, 0.54545455, 0.88888889]), 'test_recall': array([0.33333333, 0.35294118, 0.47058824]), 'test_f1': array([0.44444444, 0.42857143, 0.61538462])}\n",
      "0.49613349613349617\n"
     ]
    }
   ],
   "source": [
    "svc_poly_1=svm.SVC(C=10,kernel='poly',degree=10,coef0=10)\n",
    "stratified_cv_results_poly_1=cross_validate(svc_poly_1, X_pca, y_williams, cv=StratifiedKFold(n_splits=3, shuffle=True, random_state=8401),\n",
    "                                     scoring=('precision','recall','f1'), return_train_score=False)\n",
    "print(stratified_cv_results_poly_1)\n",
    "print(np.mean(stratified_cv_results_poly_1['test_f1']))"
   ]
  },
  {
   "cell_type": "code",
   "execution_count": 45,
   "metadata": {},
   "outputs": [
    {
     "name": "stdout",
     "output_type": "stream",
     "text": [
      "(13233, 2000)\n",
      "[[-6.17302394e+00 -1.83102506e+00 -6.82618249e-01 ... -1.39521243e-01\n",
      "  -6.73760320e-02 -3.36996466e-02]\n",
      " [-8.74472615e+00 -1.06152081e+00  4.39499342e+00 ... -2.95190754e-02\n",
      "  -2.83647793e-02  5.36707618e-02]\n",
      " [-5.58314778e+00  3.12191247e+00 -1.73468030e+00 ...  2.03198044e-02\n",
      "  -1.02103417e-01  2.21393355e-02]\n",
      " ...\n",
      " [-1.15627879e+01 -3.03118032e+00 -1.31590288e+00 ... -2.64412102e-03\n",
      "  -2.00137455e-02 -4.66929095e-03]\n",
      " [-1.29620813e+01 -3.61012008e+00  2.00276782e+00 ... -5.05276177e-02\n",
      "  -2.45591800e-02  3.90936874e-04]\n",
      " [-3.23516636e+00 -4.68425394e+00 -1.80796164e+00 ... -2.99871821e-02\n",
      "  -6.29111808e-02  1.85466779e-02]]\n",
      "0.0013449598685800644\n"
     ]
    }
   ],
   "source": [
    "pca = PCA(n_components=2000)\n",
    "X_pca = pca.fit_transform(X)\n",
    "print(X_pca.shape)\n",
    "print(X_pca)\n",
    "value=(1/(X_pca.shape[1]*X_pca.std()))\n",
    "print(value)"
   ]
  },
  {
   "cell_type": "code",
   "execution_count": 46,
   "metadata": {},
   "outputs": [
    {
     "name": "stdout",
     "output_type": "stream",
     "text": [
      "{'fit_time': array([11.0003593 , 10.97696424, 12.45043445]), 'score_time': array([12.22183943, 13.43548322, 14.34911513]), 'test_precision': array([0.6       , 0.6       , 0.72727273]), 'test_recall': array([0.33333333, 0.35294118, 0.47058824]), 'test_f1': array([0.42857143, 0.44444444, 0.57142857])}\n",
      "0.48148148148148145\n"
     ]
    }
   ],
   "source": [
    "svc_s=svm.SVC(C=1,kernel='linear')\n",
    "stratified_cv_results_d=cross_validate(svc_s, X_pca, y_williams, cv=StratifiedKFold(n_splits=3, shuffle=True, random_state=8401),\n",
    "                                     scoring=('precision','recall','f1'), return_train_score=False)\n",
    "print(stratified_cv_results_d)\n",
    "print(np.mean(stratified_cv_results_d['test_f1']))\n"
   ]
  },
  {
   "cell_type": "code",
   "execution_count": 39,
   "metadata": {},
   "outputs": [
    {
     "name": "stdout",
     "output_type": "stream",
     "text": [
      "{'fit_time': array([5.71586919, 5.85360074, 6.16656065]), 'score_time': array([7.25559735, 6.82384276, 7.50659156]), 'test_precision': array([0.66666667, 0.54545455, 0.88888889]), 'test_recall': array([0.33333333, 0.35294118, 0.47058824]), 'test_f1': array([0.44444444, 0.42857143, 0.61538462])}\n",
      "0.49613349613349617\n"
     ]
    }
   ],
   "source": [
    "svc_poly_1=svm.SVC(C=100,kernel='poly',degree=10,coef0=10)\n",
    "stratified_cv_results_poly_1=cross_validate(svc_poly_1, X_pca, y_williams, cv=StratifiedKFold(n_splits=3, shuffle=True, random_state=8401),\n",
    "                                     scoring=('precision','recall','f1'), return_train_score=False)\n",
    "print(stratified_cv_results_poly_1)\n",
    "print(np.mean(stratified_cv_results_poly_1['test_f1']))"
   ]
  },
  {
   "cell_type": "code",
   "execution_count": 36,
   "metadata": {},
   "outputs": [
    {
     "name": "stdout",
     "output_type": "stream",
     "text": [
      "{'fit_time': array([5.95726776, 6.56496835, 6.5362947 ]), 'score_time': array([7.95360541, 8.84374905, 8.98989558]), 'test_precision': array([0.5, 0.8, 1. ]), 'test_recall': array([0.16666667, 0.23529412, 0.35294118]), 'test_f1': array([0.25      , 0.36363636, 0.52173913])}\n",
      "0.37845849802371534\n"
     ]
    }
   ],
   "source": [
    "svc_rbf_s=svm.SVC(C=1000,kernel='rbf',gamma=value)\n",
    "stratified_cv_results_rbf_s=cross_validate(svc_rbf_s, X_pca, y_williams, cv=StratifiedKFold(n_splits=3, shuffle=True, random_state=8401),\n",
    "                                     scoring=('precision','recall','f1'), return_train_score=False)\n",
    "print(stratified_cv_results_rbf_s)\n",
    "print(np.mean(stratified_cv_results_rbf_s['test_f1']))"
   ]
  },
  {
   "cell_type": "code",
   "execution_count": 53,
   "metadata": {},
   "outputs": [
    {
     "name": "stdout",
     "output_type": "stream",
     "text": [
      "(13233, 3500)\n",
      "[[-6.17302394e+00 -1.83102506e+00 -6.82618249e-01 ...  2.52270120e-02\n",
      "  -5.75151482e-02  7.55118463e-03]\n",
      " [-8.74472615e+00 -1.06152081e+00  4.39499342e+00 ...  1.53474950e-02\n",
      "  -5.31334157e-03 -4.51271585e-03]\n",
      " [-5.58314778e+00  3.12191247e+00 -1.73468030e+00 ... -1.14426704e-02\n",
      "   8.12944816e-03 -6.77246258e-03]\n",
      " ...\n",
      " [-1.15627879e+01 -3.03118032e+00 -1.31590288e+00 ...  2.23716514e-02\n",
      "  -2.12756644e-02  1.67714912e-02]\n",
      " [-1.29620813e+01 -3.61012008e+00  2.00276782e+00 ... -3.53253779e-03\n",
      "  -1.40937732e-02 -1.90537466e-02]\n",
      " [-3.23516636e+00 -4.68425394e+00 -1.80796164e+00 ...  9.09757154e-03\n",
      "  -8.84298771e-03  3.65583705e-03]]\n",
      "0.0010132383558846682\n"
     ]
    }
   ],
   "source": [
    "pca = PCA(n_components=3500)\n",
    "X_pca = pca.fit_transform(X)\n",
    "print(X_pca.shape)\n",
    "print(X_pca)\n",
    "value=(1/(X_pca.shape[1]*X_pca.std()))\n",
    "print(value)"
   ]
  },
  {
   "cell_type": "code",
   "execution_count": 54,
   "metadata": {},
   "outputs": [
    {
     "name": "stdout",
     "output_type": "stream",
     "text": [
      "{'fit_time': array([22.87078452, 21.63291526, 24.04761004]), 'score_time': array([24.63612103, 23.65700197, 25.15155292]), 'test_precision': array([0.6       , 0.6       , 0.72727273]), 'test_recall': array([0.33333333, 0.35294118, 0.47058824]), 'test_f1': array([0.42857143, 0.44444444, 0.57142857])}\n",
      "0.48148148148148145\n"
     ]
    }
   ],
   "source": [
    "svc_s=svm.SVC(C=1,kernel='linear')\n",
    "stratified_cv_results_d=cross_validate(svc_s, X_pca, y_williams, cv=StratifiedKFold(n_splits=3, shuffle=True, random_state=8401),\n",
    "                                     scoring=('precision','recall','f1'), return_train_score=False)\n",
    "print(stratified_cv_results_d)\n",
    "print(np.mean(stratified_cv_results_d['test_f1']))\n"
   ]
  },
  {
   "cell_type": "code",
   "execution_count": 56,
   "metadata": {},
   "outputs": [
    {
     "name": "stdout",
     "output_type": "stream",
     "text": [
      "{'fit_time': array([21.42968488, 21.92893004, 23.4174099 ]), 'score_time': array([23.57241392, 24.45253205, 25.1765995 ]), 'test_precision': array([0.6       , 0.54545455, 0.88888889]), 'test_recall': array([0.33333333, 0.35294118, 0.47058824]), 'test_f1': array([0.42857143, 0.42857143, 0.61538462])}\n",
      "0.4908424908424908\n"
     ]
    }
   ],
   "source": [
    "svc_poly_1=svm.SVC(C=100,kernel='poly',degree=5,coef0=5)\n",
    "stratified_cv_results_poly_1=cross_validate(svc_poly_1, X_pca, y_williams, cv=StratifiedKFold(n_splits=3, shuffle=True, random_state=8401),\n",
    "                                     scoring=('precision','recall','f1'), return_train_score=False)\n",
    "print(stratified_cv_results_poly_1)\n",
    "print(np.mean(stratified_cv_results_poly_1['test_f1']))"
   ]
  },
  {
   "cell_type": "code",
   "execution_count": 57,
   "metadata": {},
   "outputs": [
    {
     "name": "stdout",
     "output_type": "stream",
     "text": [
      "{'fit_time': array([23.10355496, 25.09568191, 25.13086486]), 'score_time': array([28.97509789, 31.86635208, 32.83294344]), 'test_precision': array([0.5       , 0.83333333, 1.        ]), 'test_recall': array([0.16666667, 0.29411765, 0.35294118]), 'test_f1': array([0.25      , 0.43478261, 0.52173913])}\n",
      "0.40217391304347827\n"
     ]
    }
   ],
   "source": [
    "svc_rbf_s=svm.SVC(C=1000,kernel='rbf',gamma=value)\n",
    "stratified_cv_results_rbf_s=cross_validate(svc_rbf_s, X_pca, y_williams, cv=StratifiedKFold(n_splits=3, shuffle=True, random_state=8401),\n",
    "                                     scoring=('precision','recall','f1'), return_train_score=False)\n",
    "print(stratified_cv_results_rbf_s)\n",
    "print(np.mean(stratified_cv_results_rbf_s['test_f1']))"
   ]
  },
  {
   "cell_type": "markdown",
   "metadata": {},
   "source": [
    "<h3>KNN for n_components 1000</h3>"
   ]
  },
  {
   "cell_type": "code",
   "execution_count": 12,
   "metadata": {},
   "outputs": [
    {
     "name": "stdout",
     "output_type": "stream",
     "text": [
      "(13233, 1000)\n",
      "[[-6.17302394e+00 -1.83102506e+00 -6.82618249e-01 ... -2.69347873e-02\n",
      "  -7.50523743e-02  9.64627190e-02]\n",
      " [-8.74472615e+00 -1.06152081e+00  4.39499342e+00 ...  2.52726220e-01\n",
      "  -7.80981638e-03 -4.98155516e-02]\n",
      " [-5.58314778e+00  3.12191247e+00 -1.73468030e+00 ... -1.14512191e-01\n",
      "   8.38816093e-02 -1.07899046e-01]\n",
      " ...\n",
      " [-1.15627879e+01 -3.03118032e+00 -1.31590288e+00 ...  6.19285992e-02\n",
      "   7.92663095e-02  4.21348467e-03]\n",
      " [-1.29620813e+01 -3.61012008e+00  2.00276782e+00 ... -7.96086304e-02\n",
      "  -5.60172591e-02  5.97236714e-02]\n",
      " [-3.23516636e+00 -4.68425394e+00 -1.80796164e+00 ...  4.86147440e-02\n",
      "  -1.01673766e-01 -5.61679096e-02]]\n",
      "0.0019189902531327808\n"
     ]
    }
   ],
   "source": [
    "pca = PCA(n_components=1000)\n",
    "X_pca = pca.fit_transform(X)\n",
    "print(X_pca.shape)\n",
    "print(X_pca)\n",
    "value=(1/(X_pca.shape[1]*X_pca.std()))\n",
    "print(value)"
   ]
  },
  {
   "cell_type": "code",
   "execution_count": 9,
   "metadata": {},
   "outputs": [
    {
     "name": "stdout",
     "output_type": "stream",
     "text": [
      "For n_neighbors=1 for y_williams\n",
      "{'fit_time': array([0.64651251, 0.80287528, 0.63506389]), 'score_time': array([199.88634729, 218.76803946, 199.59858346]), 'test_precision': array([0.33333333, 0.25      , 0.75      ]), 'test_recall': array([0.16666667, 0.05882353, 0.17647059]), 'test_f1': array([0.22222222, 0.0952381 , 0.28571429])}\n",
      "0.6948172251383463\n",
      "206.08432340621948\n",
      "0.4444444444444444\n",
      "0.13398692810457516\n",
      "0.20105820105820105\n"
     ]
    }
   ],
   "source": [
    "knn=KNeighborsClassifier(n_neighbors=1)\n",
    "print(\"For n_neighbors=1 for y_williams\") \n",
    "stratified_cv_results_1=cross_validate(knn, X_pca, y_williams, cv=StratifiedKFold(n_splits=3, shuffle=True, random_state=8401),\n",
    "                                     scoring=('precision','recall','f1'), return_train_score=False)\n",
    "print(stratified_cv_results_1)\n",
    "print(np.mean(stratified_cv_results_1['fit_time']))\n",
    "print(np.mean(stratified_cv_results_1['score_time']))\n",
    "print(np.mean(stratified_cv_results_1['test_precision']))\n",
    "print(np.mean(stratified_cv_results_1['test_recall']))\n",
    "print(np.mean(stratified_cv_results_1['test_f1']))"
   ]
  },
  {
   "cell_type": "code",
   "execution_count": 13,
   "metadata": {},
   "outputs": [
    {
     "name": "stdout",
     "output_type": "stream",
     "text": [
      "For n_neighbors=1 for y_williams\n"
     ]
    },
    {
     "name": "stderr",
     "output_type": "stream",
     "text": [
      "c:\\users\\spver\\appdata\\local\\programs\\python\\python36\\lib\\site-packages\\sklearn\\metrics\\classification.py:1135: UndefinedMetricWarning: Precision is ill-defined and being set to 0.0 due to no predicted samples.\n",
      "  'precision', 'predicted', average, warn_for)\n"
     ]
    },
    {
     "name": "stdout",
     "output_type": "stream",
     "text": [
      "{'fit_time': array([0.76767063, 0.64777875, 0.67733073]), 'score_time': array([186.80836821, 193.45222545, 184.23873901]), 'test_precision': array([0., 0., 0.]), 'test_recall': array([0., 0., 0.]), 'test_f1': array([0., 0., 0.])}\n",
      "0.6975933710734049\n",
      "188.16644422213236\n",
      "0.0\n",
      "0.0\n",
      "0.0\n"
     ]
    },
    {
     "name": "stderr",
     "output_type": "stream",
     "text": [
      "c:\\users\\spver\\appdata\\local\\programs\\python\\python36\\lib\\site-packages\\sklearn\\metrics\\classification.py:1135: UndefinedMetricWarning: F-score is ill-defined and being set to 0.0 due to no predicted samples.\n",
      "  'precision', 'predicted', average, warn_for)\n"
     ]
    }
   ],
   "source": [
    "knn=KNeighborsClassifier(n_neighbors=3)\n",
    "print(\"For n_neighbors=1 for y_williams\") \n",
    "stratified_cv_results_1=cross_validate(knn, X_pca, y_williams, cv=StratifiedKFold(n_splits=3, shuffle=True, random_state=8401),\n",
    "                                     scoring=('precision','recall','f1'), return_train_score=False)\n",
    "print(stratified_cv_results_1)\n",
    "print(np.mean(stratified_cv_results_1['fit_time']))\n",
    "print(np.mean(stratified_cv_results_1['score_time']))\n",
    "print(np.mean(stratified_cv_results_1['test_precision']))\n",
    "print(np.mean(stratified_cv_results_1['test_recall']))\n",
    "print(np.mean(stratified_cv_results_1['test_f1']))"
   ]
  },
  {
   "cell_type": "markdown",
   "metadata": {},
   "source": [
    "KNN for n_components 2000"
   ]
  },
  {
   "cell_type": "code",
   "execution_count": 3,
   "metadata": {},
   "outputs": [
    {
     "name": "stdout",
     "output_type": "stream",
     "text": [
      "(13233, 2000)\n",
      "[[-6.17302394e+00 -1.83102506e+00 -6.82618249e-01 ... -3.46074529e-02\n",
      "   5.26698853e-02  2.19941484e-03]\n",
      " [-8.74472615e+00 -1.06152081e+00  4.39499342e+00 ...  7.66177874e-02\n",
      "  -1.68341508e-02 -2.24566078e-02]\n",
      " [-5.58314778e+00  3.12191247e+00 -1.73468030e+00 ... -1.10876603e-02\n",
      "  -7.80192191e-02  3.70921072e-03]\n",
      " ...\n",
      " [-1.15627879e+01 -3.03118032e+00 -1.31590288e+00 ... -5.58938203e-02\n",
      "   2.76224857e-02 -4.84151428e-02]\n",
      " [-1.29620813e+01 -3.61012008e+00  2.00276782e+00 ...  3.72753584e-02\n",
      "   7.80092870e-02 -6.48506324e-03]\n",
      " [-3.23516636e+00 -4.68425394e+00 -1.80796164e+00 ... -5.67640627e-02\n",
      "   6.33093416e-02 -5.89980404e-02]]\n",
      "0.0013450658829875994\n"
     ]
    }
   ],
   "source": [
    "pca = PCA(n_components=2000)\n",
    "X_pca = pca.fit_transform(X)\n",
    "print(X_pca.shape)\n",
    "print(X_pca)\n",
    "value=(1/(X_pca.shape[1]*X_pca.std()))\n",
    "print(value)"
   ]
  },
  {
   "cell_type": "code",
   "execution_count": 4,
   "metadata": {},
   "outputs": [
    {
     "name": "stdout",
     "output_type": "stream",
     "text": [
      "For n_neighbors=1 for y_williams\n",
      "{'fit_time': array([2.52717829, 2.74009967, 2.86096668]), 'score_time': array([750.37761831, 720.77292347, 732.83002806]), 'test_precision': array([0.42857143, 0.33333333, 0.75      ]), 'test_recall': array([0.16666667, 0.05882353, 0.17647059]), 'test_f1': array([0.24      , 0.1       , 0.28571429])}\n",
      "0.20857142857142855\n"
     ]
    }
   ],
   "source": [
    "knn=KNeighborsClassifier(n_neighbors=1)\n",
    "print(\"For n_neighbors=1 for y_williams\") \n",
    "stratified_cv_results_1=cross_validate(knn, X_pca, y_williams, cv=StratifiedKFold(n_splits=3, shuffle=True, random_state=8401),\n",
    "                                     scoring=('precision','recall','f1'), return_train_score=False)\n",
    "print(stratified_cv_results_1)\n",
    "print(np.mean(stratified_cv_results_1['fit_time']))\n",
    "print(np.mean(stratified_cv_results_1['score_time']))\n",
    "print(np.mean(stratified_cv_results_1['test_precision']))\n",
    "print(np.mean(stratified_cv_results_1['test_recall']))\n",
    "print(np.mean(stratified_cv_results_1['test_f1']))"
   ]
  },
  {
   "cell_type": "code",
   "execution_count": 5,
   "metadata": {},
   "outputs": [
    {
     "name": "stdout",
     "output_type": "stream",
     "text": [
      "For n_neighbors=3 for y_williams\n"
     ]
    },
    {
     "name": "stderr",
     "output_type": "stream",
     "text": [
      "c:\\users\\spver\\appdata\\local\\programs\\python\\python36\\lib\\site-packages\\sklearn\\metrics\\classification.py:1135: UndefinedMetricWarning: Precision is ill-defined and being set to 0.0 due to no predicted samples.\n",
      "  'precision', 'predicted', average, warn_for)\n"
     ]
    },
    {
     "name": "stdout",
     "output_type": "stream",
     "text": [
      "{'fit_time': array([2.59124136, 2.74731231, 2.66511774]), 'score_time': array([798.06855989, 781.28708291, 799.55799222]), 'test_precision': array([0., 0., 0.]), 'test_recall': array([0., 0., 0.]), 'test_f1': array([0., 0., 0.])}\n",
      "2.667890469233195\n",
      "792.9712116718292\n",
      "0.0\n",
      "0.0\n",
      "0.0\n"
     ]
    },
    {
     "name": "stderr",
     "output_type": "stream",
     "text": [
      "c:\\users\\spver\\appdata\\local\\programs\\python\\python36\\lib\\site-packages\\sklearn\\metrics\\classification.py:1135: UndefinedMetricWarning: F-score is ill-defined and being set to 0.0 due to no predicted samples.\n",
      "  'precision', 'predicted', average, warn_for)\n"
     ]
    }
   ],
   "source": [
    "knn=KNeighborsClassifier(n_neighbors=3)\n",
    "print(\"For n_neighbors=3 for y_williams\") \n",
    "stratified_cv_results_3=cross_validate(knn, X_pca, y_williams, cv=StratifiedKFold(n_splits=3, shuffle=True, random_state=8401),\n",
    "                                     scoring=('precision','recall','f1'), return_train_score=False)\n",
    "print(stratified_cv_results_3)\n",
    "print(np.mean(stratified_cv_results_3['fit_time']))\n",
    "print(np.mean(stratified_cv_results_3['score_time']))\n",
    "print(np.mean(stratified_cv_results_3['test_precision']))\n",
    "print(np.mean(stratified_cv_results_3['test_recall']))\n",
    "print(np.mean(stratified_cv_results_3['test_f1']))"
   ]
  },
  {
   "cell_type": "code",
   "execution_count": 10,
   "metadata": {},
   "outputs": [
    {
     "name": "stdout",
     "output_type": "stream",
     "text": [
      "(13233, 3000)\n",
      "[[-6.17302394e+00 -1.83102506e+00 -6.82618249e-01 ... -1.22013629e-02\n",
      "   1.72922601e-02 -5.57304841e-02]\n",
      " [-8.74472615e+00 -1.06152081e+00  4.39499342e+00 ...  1.02178938e-02\n",
      "   1.81076465e-04 -8.59235233e-04]\n",
      " [-5.58314778e+00  3.12191247e+00 -1.73468030e+00 ... -9.79616350e-04\n",
      "   7.68900738e-02  6.39133799e-02]\n",
      " ...\n",
      " [-1.15627879e+01 -3.03118032e+00 -1.31590288e+00 ... -1.69697379e-02\n",
      "  -6.95739921e-03  3.41786069e-04]\n",
      " [-1.29620813e+01 -3.61012008e+00  2.00276782e+00 ... -1.34065728e-03\n",
      "   4.45493547e-02 -2.02550168e-02]\n",
      " [-3.23516636e+00 -4.68425394e+00 -1.80796164e+00 ...  3.25737283e-02\n",
      "   6.95328489e-03  8.72056418e-03]]\n",
      "0.0010951118997954152\n"
     ]
    }
   ],
   "source": [
    "pca = PCA(n_components=3000)\n",
    "X_pca = pca.fit_transform(X)\n",
    "print(X_pca.shape)\n",
    "print(X_pca)\n",
    "value=(1/(X_pca.shape[1]*X_pca.std()))\n",
    "print(value)"
   ]
  },
  {
   "cell_type": "code",
   "execution_count": 7,
   "metadata": {},
   "outputs": [
    {
     "name": "stdout",
     "output_type": "stream",
     "text": [
      "For n_neighbors=1 for y_williams\n",
      "{'fit_time': array([3.76100516, 4.09729671, 4.13820839]), 'score_time': array([1102.55494666, 1130.9350276 , 1149.51786447]), 'test_precision': array([0.5       , 0.33333333, 0.75      ]), 'test_recall': array([0.16666667, 0.05882353, 0.17647059]), 'test_f1': array([0.25      , 0.1       , 0.28571429])}\n",
      "3.9988367557525635\n",
      "1127.669279575348\n",
      "0.5277777777777778\n",
      "0.13398692810457516\n",
      "0.2119047619047619\n"
     ]
    }
   ],
   "source": [
    "knn=KNeighborsClassifier(n_neighbors=1)\n",
    "print(\"For n_neighbors=1 for y_williams\") \n",
    "stratified_cv_results_1=cross_validate(knn, X_pca, y_williams, cv=StratifiedKFold(n_splits=3, shuffle=True, random_state=8401),\n",
    "                                     scoring=('precision','recall','f1'), return_train_score=False)\n",
    "print(stratified_cv_results_1)\n",
    "print(np.mean(stratified_cv_results_1['fit_time']))\n",
    "print(np.mean(stratified_cv_results_1['score_time']))\n",
    "print(np.mean(stratified_cv_results_1['test_precision']))\n",
    "print(np.mean(stratified_cv_results_1['test_recall']))\n",
    "print(np.mean(stratified_cv_results_1['test_f1']))"
   ]
  },
  {
   "cell_type": "code",
   "execution_count": 11,
   "metadata": {},
   "outputs": [
    {
     "name": "stdout",
     "output_type": "stream",
     "text": [
      "For n_neighbors=3 for y_williams\n"
     ]
    },
    {
     "name": "stderr",
     "output_type": "stream",
     "text": [
      "c:\\users\\spver\\appdata\\local\\programs\\python\\python36\\lib\\site-packages\\sklearn\\metrics\\classification.py:1135: UndefinedMetricWarning: Precision is ill-defined and being set to 0.0 due to no predicted samples.\n",
      "  'precision', 'predicted', average, warn_for)\n"
     ]
    },
    {
     "name": "stdout",
     "output_type": "stream",
     "text": [
      "{'fit_time': array([2.54380536, 2.00639153, 1.99812722]), 'score_time': array([595.54122138, 544.54967904, 548.73354483]), 'test_precision': array([0., 0., 0.]), 'test_recall': array([0., 0., 0.]), 'test_f1': array([0., 0., 0.])}\n",
      "2.1827747027079263\n",
      "562.9414817492167\n",
      "0.0\n",
      "0.0\n",
      "0.0\n"
     ]
    },
    {
     "name": "stderr",
     "output_type": "stream",
     "text": [
      "c:\\users\\spver\\appdata\\local\\programs\\python\\python36\\lib\\site-packages\\sklearn\\metrics\\classification.py:1135: UndefinedMetricWarning: F-score is ill-defined and being set to 0.0 due to no predicted samples.\n",
      "  'precision', 'predicted', average, warn_for)\n"
     ]
    }
   ],
   "source": [
    "knn=KNeighborsClassifier(n_neighbors=3)\n",
    "print(\"For n_neighbors=3 for y_williams\") \n",
    "stratified_cv_results_3=cross_validate(knn, X_pca, y_williams, cv=StratifiedKFold(n_splits=3, shuffle=True, random_state=8401),\n",
    "                                     scoring=('precision','recall','f1'), return_train_score=False)\n",
    "print(stratified_cv_results_3)\n",
    "print(np.mean(stratified_cv_results_3['fit_time']))\n",
    "print(np.mean(stratified_cv_results_3['score_time']))\n",
    "print(np.mean(stratified_cv_results_3['test_precision']))\n",
    "print(np.mean(stratified_cv_results_3['test_recall']))\n",
    "print(np.mean(stratified_cv_results_3['test_f1']))"
   ]
  },
  {
   "cell_type": "code",
   "execution_count": 14,
   "metadata": {},
   "outputs": [
    {
     "name": "stdout",
     "output_type": "stream",
     "text": [
      "(13233, 3000)\n",
      "[[-7.52925181e-01 -4.00174342e-01 -1.87164966e-01 ...  3.59077209e-01\n",
      "   1.05980326e+00 -2.25143733e+00]\n",
      " [-1.06659630e+00 -2.31997583e-01  1.20504952e+00 ...  1.70718207e+00\n",
      "   1.03402267e+00 -2.77322249e-01]\n",
      " [-6.80977847e-01  6.82300473e-01 -4.75626575e-01 ...  8.39710345e-01\n",
      "  -1.17838877e+00 -1.03052363e-01]\n",
      " ...\n",
      " [-1.41031596e+00 -6.62470773e-01 -3.60803302e-01 ...  8.68122705e-01\n",
      "  -4.64089869e-02  1.44172972e+00]\n",
      " [-1.58098811e+00 -7.88999264e-01  5.49132655e-01 ...  1.28223283e+00\n",
      "   1.14778279e+00  2.99579392e-01]\n",
      " [-3.94594001e-01 -1.02375346e+00 -4.95719356e-01 ... -5.72068184e-04\n",
      "   7.44092283e-01 -1.75680114e-01]]\n",
      "0.0003333459288228933\n"
     ]
    }
   ],
   "source": [
    "pca = PCA(n_components=3000,whiten=True)\n",
    "X_pca = pca.fit_transform(X)\n",
    "print(X_pca.shape)\n",
    "print(X_pca)\n",
    "value=(1/(X_pca.shape[1]*X_pca.std()))\n",
    "print(value)"
   ]
  },
  {
   "cell_type": "code",
   "execution_count": 15,
   "metadata": {},
   "outputs": [
    {
     "name": "stdout",
     "output_type": "stream",
     "text": [
      "For n_neighbors=1 for y_williams\n"
     ]
    },
    {
     "name": "stderr",
     "output_type": "stream",
     "text": [
      "c:\\users\\spver\\appdata\\local\\programs\\python\\python36\\lib\\site-packages\\sklearn\\metrics\\classification.py:1135: UndefinedMetricWarning: Precision is ill-defined and being set to 0.0 due to no predicted samples.\n",
      "  'precision', 'predicted', average, warn_for)\n",
      "c:\\users\\spver\\appdata\\local\\programs\\python\\python36\\lib\\site-packages\\sklearn\\metrics\\classification.py:1135: UndefinedMetricWarning: F-score is ill-defined and being set to 0.0 due to no predicted samples.\n",
      "  'precision', 'predicted', average, warn_for)\n"
     ]
    },
    {
     "name": "stdout",
     "output_type": "stream",
     "text": [
      "{'fit_time': array([2.11637735, 2.33575368, 2.0016222 ]), 'score_time': array([667.49567246, 687.31896186, 670.40568471]), 'test_precision': array([1., 0., 1.]), 'test_recall': array([0.11111111, 0.        , 0.11764706]), 'test_f1': array([0.2       , 0.        , 0.21052632])}\n",
      "2.1512510776519775\n",
      "675.0734396775564\n",
      "0.6666666666666666\n",
      "0.07625272331154684\n",
      "0.13684210526315788\n"
     ]
    }
   ],
   "source": [
    "knn=KNeighborsClassifier(n_neighbors=1)\n",
    "print(\"For n_neighbors=1 for y_williams\") \n",
    "stratified_cv_results_1=cross_validate(knn, X_pca, y_williams, cv=StratifiedKFold(n_splits=3, shuffle=True, random_state=8401),\n",
    "                                     scoring=('precision','recall','f1'), return_train_score=False)\n",
    "print(stratified_cv_results_1)\n",
    "print(np.mean(stratified_cv_results_1['fit_time']))\n",
    "print(np.mean(stratified_cv_results_1['score_time']))\n",
    "print(np.mean(stratified_cv_results_1['test_precision']))\n",
    "print(np.mean(stratified_cv_results_1['test_recall']))\n",
    "print(np.mean(stratified_cv_results_1['test_f1']))"
   ]
  },
  {
   "cell_type": "code",
   "execution_count": 4,
   "metadata": {},
   "outputs": [
    {
     "name": "stdout",
     "output_type": "stream",
     "text": [
      "(13233, 3500)\n",
      "[[-6.17302394e+00 -1.83102506e+00 -6.82618249e-01 ...  2.52270120e-02\n",
      "  -5.75151482e-02  7.55118463e-03]\n",
      " [-8.74472615e+00 -1.06152081e+00  4.39499342e+00 ...  1.53474950e-02\n",
      "  -5.31334157e-03 -4.51271585e-03]\n",
      " [-5.58314778e+00  3.12191247e+00 -1.73468030e+00 ... -1.14426704e-02\n",
      "   8.12944816e-03 -6.77246258e-03]\n",
      " ...\n",
      " [-1.15627879e+01 -3.03118032e+00 -1.31590288e+00 ...  2.23716514e-02\n",
      "  -2.12756644e-02  1.67714912e-02]\n",
      " [-1.29620813e+01 -3.61012008e+00  2.00276782e+00 ... -3.53253779e-03\n",
      "  -1.40937732e-02 -1.90537466e-02]\n",
      " [-3.23516636e+00 -4.68425394e+00 -1.80796164e+00 ...  9.09757154e-03\n",
      "  -8.84298771e-03  3.65583705e-03]]\n",
      "0.0010132383558846682\n"
     ]
    }
   ],
   "source": [
    "pca = PCA(n_components=3500)\n",
    "X_pca = pca.fit_transform(X)\n",
    "print(X_pca.shape)\n",
    "print(X_pca)\n",
    "value=(1/(X_pca.shape[1]*X_pca.std()))\n",
    "print(value)"
   ]
  },
  {
   "cell_type": "code",
   "execution_count": 5,
   "metadata": {},
   "outputs": [
    {
     "name": "stdout",
     "output_type": "stream",
     "text": [
      "For n_neighbors=1 for y_williams\n",
      "{'fit_time': array([20.36155581,  3.08786726,  3.08677626]), 'score_time': array([940.31762147, 611.32539296, 687.82587767]), 'test_precision': array([0.5       , 0.33333333, 0.75      ]), 'test_recall': array([0.16666667, 0.05882353, 0.17647059]), 'test_f1': array([0.25      , 0.1       , 0.28571429])}\n",
      "8.845399777094523\n",
      "746.4896306991577\n",
      "0.5277777777777778\n",
      "0.13398692810457516\n",
      "0.2119047619047619\n"
     ]
    }
   ],
   "source": [
    "knn=KNeighborsClassifier(n_neighbors=1)\n",
    "print(\"For n_neighbors=1 for y_williams\") \n",
    "stratified_cv_results_1=cross_validate(knn, X_pca, y_williams, cv=StratifiedKFold(n_splits=3, shuffle=True, random_state=8401),\n",
    "                                     scoring=('precision','recall','f1'), return_train_score=False)\n",
    "print(stratified_cv_results_1)\n",
    "print(np.mean(stratified_cv_results_1['fit_time']))\n",
    "print(np.mean(stratified_cv_results_1['score_time']))\n",
    "print(np.mean(stratified_cv_results_1['test_precision']))\n",
    "print(np.mean(stratified_cv_results_1['test_recall']))\n",
    "print(np.mean(stratified_cv_results_1['test_f1']))"
   ]
  },
  {
   "cell_type": "markdown",
   "metadata": {},
   "source": [
    "<h2> svc after 2000 </h2>"
   ]
  },
  {
   "cell_type": "code",
   "execution_count": 6,
   "metadata": {},
   "outputs": [
    {
     "name": "stdout",
     "output_type": "stream",
     "text": [
      "(13233, 3000)\n",
      "[[-6.17302394e+00 -1.83102506e+00 -6.82618249e-01 ...  3.00789756e-02\n",
      "  -1.67128854e-04 -7.23349873e-02]\n",
      " [-8.74472615e+00 -1.06152081e+00  4.39499342e+00 ... -1.22648287e-02\n",
      "  -1.38704533e-02  4.14826193e-02]\n",
      " [-5.58314778e+00  3.12191247e+00 -1.73468030e+00 ...  3.12979220e-02\n",
      "   2.53491689e-02  5.28938637e-02]\n",
      " ...\n",
      " [-1.15627879e+01 -3.03118032e+00 -1.31590288e+00 ... -7.11274481e-03\n",
      "  -2.44784440e-03  1.57480541e-02]\n",
      " [-1.29620813e+01 -3.61012008e+00  2.00276782e+00 ... -4.90334944e-02\n",
      "  -1.63126067e-02  1.77979147e-02]\n",
      " [-3.23516636e+00 -4.68425394e+00 -1.80796164e+00 ...  7.70900173e-03\n",
      "   1.88324588e-02  3.07645234e-02]]\n",
      "0.001095111688195249\n"
     ]
    }
   ],
   "source": [
    "pca = PCA(n_components=3000)\n",
    "X_pca = pca.fit_transform(X)\n",
    "print(X_pca.shape)\n",
    "print(X_pca)\n",
    "value=(1/(X_pca.shape[1]*X_pca.std()))\n",
    "print(value)"
   ]
  },
  {
   "cell_type": "code",
   "execution_count": 7,
   "metadata": {},
   "outputs": [
    {
     "name": "stdout",
     "output_type": "stream",
     "text": [
      "{'fit_time': array([9.10066509, 8.59601569, 9.58836055]), 'score_time': array([ 9.95837092,  9.80677438, 10.66647911]), 'test_precision': array([0.54545455, 0.6       , 0.72727273]), 'test_recall': array([0.33333333, 0.35294118, 0.47058824]), 'test_f1': array([0.4137931 , 0.44444444, 0.57142857])}\n",
      "0.4765553731070972\n"
     ]
    }
   ],
   "source": [
    "svc_s=svm.SVC(C=1,kernel='linear')\n",
    "stratified_cv_results_d=cross_validate(svc_s, X_pca, y_williams, cv=StratifiedKFold(n_splits=3, shuffle=True, random_state=8401),\n",
    "                                     scoring=('precision','recall','f1'), return_train_score=False)\n",
    "print(stratified_cv_results_d)\n",
    "print(np.mean(stratified_cv_results_d['test_f1']))\n"
   ]
  },
  {
   "cell_type": "code",
   "execution_count": 8,
   "metadata": {},
   "outputs": [
    {
     "name": "stdout",
     "output_type": "stream",
     "text": [
      "{'fit_time': array([9.18653727, 8.98893905, 9.63622928]), 'score_time': array([ 9.88360167,  9.64522314, 10.38423228]), 'test_precision': array([0.54545455, 0.6       , 0.72727273]), 'test_recall': array([0.33333333, 0.35294118, 0.47058824]), 'test_f1': array([0.4137931 , 0.44444444, 0.57142857])}\n",
      "0.4765553731070972\n"
     ]
    }
   ],
   "source": [
    "svc_s=svm.SVC(C=100,kernel='linear')\n",
    "stratified_cv_results_d=cross_validate(svc_s, X_pca, y_williams, cv=StratifiedKFold(n_splits=3, shuffle=True, random_state=8401),\n",
    "                                     scoring=('precision','recall','f1'), return_train_score=False)\n",
    "print(stratified_cv_results_d)\n",
    "print(np.mean(stratified_cv_results_d['test_f1']))\n"
   ]
  },
  {
   "cell_type": "code",
   "execution_count": 11,
   "metadata": {},
   "outputs": [
    {
     "name": "stdout",
     "output_type": "stream",
     "text": [
      "{'fit_time': array([8.41515779, 8.86735082, 9.42339706]), 'score_time': array([10.01551628, 10.60185933, 11.17034149]), 'test_precision': array([0.6       , 0.54545455, 0.88888889]), 'test_recall': array([0.33333333, 0.35294118, 0.47058824]), 'test_f1': array([0.42857143, 0.42857143, 0.61538462])}\n",
      "0.4908424908424908\n"
     ]
    }
   ],
   "source": [
    "svc_poly_1=svm.SVC(C=10,kernel='poly',degree=10,coef0=10)\n",
    "stratified_cv_results_poly_1=cross_validate(svc_poly_1, X_pca, y_williams, cv=StratifiedKFold(n_splits=3, shuffle=True, random_state=8401),\n",
    "                                     scoring=('precision','recall','f1'), return_train_score=False)\n",
    "print(stratified_cv_results_poly_1)\n",
    "print(np.mean(stratified_cv_results_poly_1['test_f1']))"
   ]
  },
  {
   "cell_type": "code",
   "execution_count": 12,
   "metadata": {},
   "outputs": [
    {
     "name": "stdout",
     "output_type": "stream",
     "text": [
      "{'fit_time': array([ 9.92047167, 12.77121758, 10.33724141]), 'score_time': array([13.64867401, 13.31793809, 13.69405818]), 'test_precision': array([0.5       , 0.83333333, 1.        ]), 'test_recall': array([0.16666667, 0.29411765, 0.35294118]), 'test_f1': array([0.25      , 0.43478261, 0.52173913])}\n",
      "0.40217391304347827\n"
     ]
    }
   ],
   "source": [
    "svc_rbf_s=svm.SVC(C=1000,kernel='rbf',gamma=value)\n",
    "stratified_cv_results_rbf_s=cross_validate(svc_rbf_s, X_pca, y_williams, cv=StratifiedKFold(n_splits=3, shuffle=True, random_state=8401),\n",
    "                                     scoring=('precision','recall','f1'), return_train_score=False)\n",
    "print(stratified_cv_results_rbf_s)\n",
    "print(np.mean(stratified_cv_results_rbf_s['test_f1']))"
   ]
  },
  {
   "cell_type": "code",
   "execution_count": 13,
   "metadata": {},
   "outputs": [
    {
     "name": "stdout",
     "output_type": "stream",
     "text": [
      "(13233, 3500)\n",
      "[[-6.17302394e+00 -1.83102506e+00 -6.82618249e-01 ...  2.52270120e-02\n",
      "  -5.75151482e-02  7.55118463e-03]\n",
      " [-8.74472615e+00 -1.06152081e+00  4.39499342e+00 ...  1.53474950e-02\n",
      "  -5.31334157e-03 -4.51271585e-03]\n",
      " [-5.58314778e+00  3.12191247e+00 -1.73468030e+00 ... -1.14426704e-02\n",
      "   8.12944816e-03 -6.77246258e-03]\n",
      " ...\n",
      " [-1.15627879e+01 -3.03118032e+00 -1.31590288e+00 ...  2.23716514e-02\n",
      "  -2.12756644e-02  1.67714912e-02]\n",
      " [-1.29620813e+01 -3.61012008e+00  2.00276782e+00 ... -3.53253779e-03\n",
      "  -1.40937732e-02 -1.90537466e-02]\n",
      " [-3.23516636e+00 -4.68425394e+00 -1.80796164e+00 ...  9.09757154e-03\n",
      "  -8.84298771e-03  3.65583705e-03]]\n",
      "0.0010132383558846682\n"
     ]
    }
   ],
   "source": [
    "pca = PCA(n_components=3500)\n",
    "X_pca = pca.fit_transform(X)\n",
    "print(X_pca.shape)\n",
    "print(X_pca)\n",
    "value=(1/(X_pca.shape[1]*X_pca.std()))\n",
    "print(value)"
   ]
  },
  {
   "cell_type": "code",
   "execution_count": 14,
   "metadata": {},
   "outputs": [
    {
     "name": "stdout",
     "output_type": "stream",
     "text": [
      "{'fit_time': array([11.54050779, 10.61663723, 11.93807721]), 'score_time': array([12.01112032, 11.5263319 , 13.02584171]), 'test_precision': array([0.6       , 0.6       , 0.72727273]), 'test_recall': array([0.33333333, 0.35294118, 0.47058824]), 'test_f1': array([0.42857143, 0.44444444, 0.57142857])}\n",
      "0.48148148148148145\n"
     ]
    }
   ],
   "source": [
    "svc_s=svm.SVC(C=1,kernel='linear')\n",
    "stratified_cv_results_d=cross_validate(svc_s, X_pca, y_williams, cv=StratifiedKFold(n_splits=3, shuffle=True, random_state=8401),\n",
    "                                     scoring=('precision','recall','f1'), return_train_score=False)\n",
    "print(stratified_cv_results_d)\n",
    "print(np.mean(stratified_cv_results_d['test_f1']))\n"
   ]
  },
  {
   "cell_type": "code",
   "execution_count": 15,
   "metadata": {},
   "outputs": [
    {
     "name": "stdout",
     "output_type": "stream",
     "text": [
      "{'fit_time': array([12.07551956, 10.51932693, 11.80995035]), 'score_time': array([12.75131583, 11.38319302, 12.25610566]), 'test_precision': array([0.6       , 0.6       , 0.72727273]), 'test_recall': array([0.33333333, 0.35294118, 0.47058824]), 'test_f1': array([0.42857143, 0.44444444, 0.57142857])}\n",
      "0.48148148148148145\n"
     ]
    }
   ],
   "source": [
    "svc_s=svm.SVC(C=0.1,kernel='linear')\n",
    "stratified_cv_results_d=cross_validate(svc_s, X_pca, y_williams, cv=StratifiedKFold(n_splits=3, shuffle=True, random_state=8401),\n",
    "                                     scoring=('precision','recall','f1'), return_train_score=False)\n",
    "print(stratified_cv_results_d)\n",
    "print(np.mean(stratified_cv_results_d['test_f1']))\n"
   ]
  },
  {
   "cell_type": "code",
   "execution_count": 16,
   "metadata": {},
   "outputs": [
    {
     "name": "stdout",
     "output_type": "stream",
     "text": [
      "{'fit_time': array([12.07182503, 11.74686909, 11.89001656]), 'score_time': array([12.90049815, 12.42253113, 12.14069748]), 'test_precision': array([0.6       , 0.6       , 0.72727273]), 'test_recall': array([0.33333333, 0.35294118, 0.47058824]), 'test_f1': array([0.42857143, 0.44444444, 0.57142857])}\n",
      "0.48148148148148145\n"
     ]
    }
   ],
   "source": [
    "svc_s=svm.SVC(C=10,kernel='linear')\n",
    "stratified_cv_results_d=cross_validate(svc_s, X_pca, y_williams, cv=StratifiedKFold(n_splits=3, shuffle=True, random_state=8401),\n",
    "                                     scoring=('precision','recall','f1'), return_train_score=False)\n",
    "print(stratified_cv_results_d)\n",
    "print(np.mean(stratified_cv_results_d['test_f1']))\n"
   ]
  },
  {
   "cell_type": "code",
   "execution_count": 17,
   "metadata": {},
   "outputs": [
    {
     "name": "stdout",
     "output_type": "stream",
     "text": [
      "{'fit_time': array([12.0950098 , 12.24388957, 12.58456826]), 'score_time': array([14.26761293, 15.14171243, 15.81274223]), 'test_precision': array([0.5       , 0.83333333, 1.        ]), 'test_recall': array([0.16666667, 0.29411765, 0.35294118]), 'test_f1': array([0.25      , 0.43478261, 0.52173913])}\n",
      "0.40217391304347827\n"
     ]
    }
   ],
   "source": [
    "svc_rbf_s=svm.SVC(C=1000,kernel='rbf',gamma=value)\n",
    "stratified_cv_results_rbf_s=cross_validate(svc_rbf_s, X_pca, y_williams, cv=StratifiedKFold(n_splits=3, shuffle=True, random_state=8401),\n",
    "                                     scoring=('precision','recall','f1'), return_train_score=False)\n",
    "print(stratified_cv_results_rbf_s)\n",
    "print(np.mean(stratified_cv_results_rbf_s['test_f1']))"
   ]
  },
  {
   "cell_type": "code",
   "execution_count": 20,
   "metadata": {},
   "outputs": [
    {
     "name": "stdout",
     "output_type": "stream",
     "text": [
      "{'fit_time': array([10.21961093,  9.89167643, 10.57226038]), 'score_time': array([12.27940369, 10.96896148, 12.36908293]), 'test_precision': array([0.33333333, 1.        , 1.        ]), 'test_recall': array([0.05555556, 0.17647059, 0.17647059]), 'test_f1': array([0.0952381, 0.3      , 0.3      ])}\n",
      "0.23174603174603173\n"
     ]
    }
   ],
   "source": [
    "svc_poly_1=svm.SVC(C=10,kernel='poly',degree=3,coef0=1)\n",
    "stratified_cv_results_poly_1=cross_validate(svc_poly_1, X_pca, y_williams, cv=StratifiedKFold(n_splits=3, shuffle=True, random_state=8401),\n",
    "                                     scoring=('precision','recall','f1'), return_train_score=False)\n",
    "print(stratified_cv_results_poly_1)\n",
    "print(np.mean(stratified_cv_results_poly_1['test_f1']))"
   ]
  },
  {
   "cell_type": "code",
   "execution_count": 4,
   "metadata": {},
   "outputs": [
    {
     "name": "stdout",
     "output_type": "stream",
     "text": [
      "(13233, 1752)\n"
     ]
    }
   ],
   "source": [
    "pca=PCA(0.99)\n",
    "X_pca = pca.fit_transform(X)\n",
    "print(X_pca.shape)"
   ]
  },
  {
   "cell_type": "code",
   "execution_count": 5,
   "metadata": {},
   "outputs": [
    {
     "name": "stdout",
     "output_type": "stream",
     "text": [
      "(13233, 1752)\n"
     ]
    }
   ],
   "source": [
    "pca=PCA(n_components=1752)\n",
    "X_pca = pca.fit_transform(X)\n",
    "print(X_pca.shape)"
   ]
  },
  {
   "cell_type": "code",
   "execution_count": 6,
   "metadata": {},
   "outputs": [
    {
     "name": "stdout",
     "output_type": "stream",
     "text": [
      "{'fit_time': array([27.02026892, 26.67359543, 27.11789846]), 'score_time': array([30.98174596, 29.2418685 , 31.60289121]), 'test_precision': array([0.5       , 0.6       , 0.72727273]), 'test_recall': array([0.33333333, 0.35294118, 0.47058824]), 'test_f1': array([0.4       , 0.44444444, 0.57142857])}\n",
      "0.47195767195767196\n"
     ]
    }
   ],
   "source": [
    "svc_s=svm.SVC(C=1,kernel='linear')\n",
    "stratified_cv_results_d=cross_validate(svc_s, X_pca, y_williams, cv=StratifiedKFold(n_splits=3, shuffle=True, random_state=8401),\n",
    "                                     scoring=('precision','recall','f1'), return_train_score=False)\n",
    "print(stratified_cv_results_d)\n",
    "print(np.mean(stratified_cv_results_d['test_f1']))\n"
   ]
  },
  {
   "cell_type": "code",
   "execution_count": 7,
   "metadata": {},
   "outputs": [
    {
     "name": "stdout",
     "output_type": "stream",
     "text": [
      "{'fit_time': array([26.59652519, 25.54483199, 16.74249291]), 'score_time': array([28.91037583, 28.75181317,  7.90563726]), 'test_precision': array([0.5       , 0.6       , 0.72727273]), 'test_recall': array([0.33333333, 0.35294118, 0.47058824]), 'test_f1': array([0.4       , 0.44444444, 0.57142857])}\n",
      "0.47195767195767196\n"
     ]
    }
   ],
   "source": [
    "svc_s=svm.SVC(C=10,kernel='linear')\n",
    "stratified_cv_results_d=cross_validate(svc_s, X_pca, y_williams, cv=StratifiedKFold(n_splits=3, shuffle=True, random_state=8401),\n",
    "                                     scoring=('precision','recall','f1'), return_train_score=False)\n",
    "print(stratified_cv_results_d)\n",
    "print(np.mean(stratified_cv_results_d['test_f1']))\n"
   ]
  },
  {
   "cell_type": "code",
   "execution_count": 8,
   "metadata": {},
   "outputs": [
    {
     "name": "stdout",
     "output_type": "stream",
     "text": [
      "{'fit_time': array([6.79967642, 6.31438231, 6.6851244 ]), 'score_time': array([6.66321635, 6.51530099, 7.04136205]), 'test_precision': array([0.5       , 0.6       , 0.72727273]), 'test_recall': array([0.33333333, 0.35294118, 0.47058824]), 'test_f1': array([0.4       , 0.44444444, 0.57142857])}\n",
      "0.47195767195767196\n"
     ]
    }
   ],
   "source": [
    "svc_s=svm.SVC(C=0.1,kernel='linear')\n",
    "stratified_cv_results_d=cross_validate(svc_s, X_pca, y_williams, cv=StratifiedKFold(n_splits=3, shuffle=True, random_state=8401),\n",
    "                                     scoring=('precision','recall','f1'), return_train_score=False)\n",
    "print(stratified_cv_results_d)\n",
    "print(np.mean(stratified_cv_results_d['test_f1']))\n"
   ]
  },
  {
   "cell_type": "code",
   "execution_count": 9,
   "metadata": {},
   "outputs": [
    {
     "name": "stdout",
     "output_type": "stream",
     "text": [
      "{'fit_time': array([ 6.52484918,  8.02734995, 35.83287907]), 'score_time': array([ 6.56091571, 41.09918666, 29.20006204]), 'test_precision': array([0.5       , 0.6       , 0.72727273]), 'test_recall': array([0.33333333, 0.35294118, 0.47058824]), 'test_f1': array([0.4       , 0.44444444, 0.57142857])}\n",
      "0.47195767195767196\n"
     ]
    }
   ],
   "source": [
    "svc_s=svm.SVC(C=0.5,kernel='linear')\n",
    "stratified_cv_results_d=cross_validate(svc_s, X_pca, y_williams, cv=StratifiedKFold(n_splits=3, shuffle=True, random_state=8401),\n",
    "                                     scoring=('precision','recall','f1'), return_train_score=False)\n",
    "print(stratified_cv_results_d)\n",
    "print(np.mean(stratified_cv_results_d['test_f1']))\n"
   ]
  },
  {
   "cell_type": "code",
   "execution_count": 11,
   "metadata": {},
   "outputs": [
    {
     "name": "stdout",
     "output_type": "stream",
     "text": [
      "{'fit_time': array([5.66226649, 5.73139453, 6.1006031 ]), 'score_time': array([6.57117152, 7.04169369, 7.29794335]), 'test_precision': array([0.66666667, 0.54545455, 0.88888889]), 'test_recall': array([0.33333333, 0.35294118, 0.47058824]), 'test_f1': array([0.44444444, 0.42857143, 0.61538462])}\n",
      "0.49613349613349617\n"
     ]
    }
   ],
   "source": [
    "svc_poly_1=svm.SVC(C=10,kernel='poly',degree=5,coef0=5)\n",
    "stratified_cv_results_poly_1=cross_validate(svc_poly_1, X_pca, y_williams, cv=StratifiedKFold(n_splits=3, shuffle=True, random_state=8401),\n",
    "                                     scoring=('precision','recall','f1'), return_train_score=False)\n",
    "print(stratified_cv_results_poly_1)\n",
    "print(np.mean(stratified_cv_results_poly_1['test_f1']))"
   ]
  },
  {
   "cell_type": "code",
   "execution_count": 12,
   "metadata": {},
   "outputs": [
    {
     "name": "stdout",
     "output_type": "stream",
     "text": [
      "(13233, 207)\n"
     ]
    }
   ],
   "source": [
    "pca=PCA(0.9)\n",
    "X_pca = pca.fit_transform(X)\n",
    "print(X_pca.shape)\n",
    "# pca=PCA(n_components=1752)\n",
    "# X_pca = pca.fit_transform(X)\n",
    "# print(X_pca.shape)"
   ]
  },
  {
   "cell_type": "code",
   "execution_count": 13,
   "metadata": {},
   "outputs": [
    {
     "name": "stdout",
     "output_type": "stream",
     "text": [
      "{'fit_time': array([0.63030052, 0.55516624, 0.59752893]), 'score_time': array([0.45608115, 0.42486429, 0.41888022]), 'test_precision': array([0.42857143, 0.31578947, 0.46666667]), 'test_recall': array([0.33333333, 0.35294118, 0.41176471]), 'test_f1': array([0.375     , 0.33333333, 0.4375    ])}\n",
      "0.3819444444444444\n"
     ]
    }
   ],
   "source": [
    "svc_s=svm.SVC(C=0.1,kernel='linear')\n",
    "stratified_cv_results_d=cross_validate(svc_s, X_pca, y_williams, cv=StratifiedKFold(n_splits=3, shuffle=True, random_state=8401),\n",
    "                                     scoring=('precision','recall','f1'), return_train_score=False)\n",
    "print(stratified_cv_results_d)\n",
    "print(np.mean(stratified_cv_results_d['test_f1']))\n"
   ]
  },
  {
   "cell_type": "code",
   "execution_count": 14,
   "metadata": {},
   "outputs": [
    {
     "name": "stdout",
     "output_type": "stream",
     "text": [
      "{'fit_time': array([0.61175489, 0.53158188, 0.60937166]), 'score_time': array([0.42286658, 0.39766216, 0.44580817]), 'test_precision': array([0.22727273, 0.22222222, 0.46666667]), 'test_recall': array([0.27777778, 0.35294118, 0.41176471]), 'test_f1': array([0.25      , 0.27272727, 0.4375    ])}\n",
      "0.32007575757575757\n"
     ]
    }
   ],
   "source": [
    "svc_s=svm.SVC(C=1,kernel='linear')\n",
    "stratified_cv_results_d=cross_validate(svc_s, X_pca, y_williams, cv=StratifiedKFold(n_splits=3, shuffle=True, random_state=8401),\n",
    "                                     scoring=('precision','recall','f1'), return_train_score=False)\n",
    "print(stratified_cv_results_d)\n",
    "print(np.mean(stratified_cv_results_d['test_f1']))\n"
   ]
  },
  {
   "cell_type": "code",
   "execution_count": 19,
   "metadata": {},
   "outputs": [
    {
     "name": "stdout",
     "output_type": "stream",
     "text": [
      "{'fit_time': array([0.77257681, 0.74939752, 0.77067471]), 'score_time': array([0.86867785, 0.8632834 , 0.88500237]), 'test_precision': array([0.25      , 0.61538462, 0.71428571]), 'test_recall': array([0.11111111, 0.47058824, 0.29411765]), 'test_f1': array([0.15384615, 0.53333333, 0.41666667])}\n",
      "0.367948717948718\n"
     ]
    }
   ],
   "source": [
    "svc_poly_1=svm.SVC(C=10,kernel='poly',degree=10,coef0=10)\n",
    "stratified_cv_results_poly_1=cross_validate(svc_poly_1, X_pca, y_williams, cv=StratifiedKFold(n_splits=3, shuffle=True, random_state=8401),\n",
    "                                     scoring=('precision','recall','f1'), return_train_score=False)\n",
    "print(stratified_cv_results_poly_1)\n",
    "print(np.mean(stratified_cv_results_poly_1['test_f1']))"
   ]
  },
  {
   "cell_type": "code",
   "execution_count": 15,
   "metadata": {},
   "outputs": [
    {
     "name": "stdout",
     "output_type": "stream",
     "text": [
      "(13233, 1800)\n"
     ]
    }
   ],
   "source": [
    "pca=PCA(n_components=1800)\n",
    "X_pca = pca.fit_transform(X)\n",
    "print(X_pca.shape)"
   ]
  },
  {
   "cell_type": "code",
   "execution_count": 32,
   "metadata": {},
   "outputs": [
    {
     "name": "stdout",
     "output_type": "stream",
     "text": [
      "{'fit_time': array([5.69196248, 5.27988195, 5.9101975 ]), 'score_time': array([5.86332107, 5.62795162, 6.25327921]), 'test_precision': array([0.54545455, 0.6       , 0.72727273]), 'test_recall': array([0.33333333, 0.35294118, 0.47058824]), 'test_f1': array([0.4137931 , 0.44444444, 0.57142857])}\n",
      "0.4765553731070972\n"
     ]
    }
   ],
   "source": [
    "svc_s=svm.SVC(C=1,kernel='linear')\n",
    "stratified_cv_results_d=cross_validate(svc_s, X_pca, y_williams, cv=StratifiedKFold(n_splits=3, shuffle=True, random_state=8401),\n",
    "                                     scoring=('precision','recall','f1'), return_train_score=False)\n",
    "print(stratified_cv_results_d)\n",
    "print(np.mean(stratified_cv_results_d['test_f1']))\n"
   ]
  },
  {
   "cell_type": "code",
   "execution_count": 33,
   "metadata": {},
   "outputs": [
    {
     "name": "stdout",
     "output_type": "stream",
     "text": [
      "{'fit_time': array([5.80647397, 5.5628314 , 5.84994102]), 'score_time': array([6.16884065, 5.99141335, 6.03068876]), 'test_precision': array([0.54545455, 0.6       , 0.72727273]), 'test_recall': array([0.33333333, 0.35294118, 0.47058824]), 'test_f1': array([0.4137931 , 0.44444444, 0.57142857])}\n",
      "0.4765553731070972\n"
     ]
    }
   ],
   "source": [
    "svc_s=svm.SVC(C=0.1,kernel='linear')\n",
    "stratified_cv_results_d=cross_validate(svc_s, X_pca, y_williams, cv=StratifiedKFold(n_splits=3, shuffle=True, random_state=8401),\n",
    "                                     scoring=('precision','recall','f1'), return_train_score=False)\n",
    "print(stratified_cv_results_d)\n",
    "print(np.mean(stratified_cv_results_d['test_f1']))\n"
   ]
  },
  {
   "cell_type": "code",
   "execution_count": 16,
   "metadata": {},
   "outputs": [
    {
     "name": "stdout",
     "output_type": "stream",
     "text": [
      "{'fit_time': array([8.22229481, 8.6628685 , 9.42317724]), 'score_time': array([ 9.73879218, 10.38068914, 11.4817946 ]), 'test_precision': array([0.6       , 0.54545455, 0.88888889]), 'test_recall': array([0.33333333, 0.35294118, 0.47058824]), 'test_f1': array([0.42857143, 0.42857143, 0.61538462])}\n",
      "0.4908424908424908\n"
     ]
    }
   ],
   "source": [
    "svc_poly_1=svm.SVC(C=10,kernel='poly',degree=5,coef0=5)\n",
    "stratified_cv_results_poly_1=cross_validate(svc_poly_1, X_pca, y_williams, cv=StratifiedKFold(n_splits=3, shuffle=True, random_state=8401),\n",
    "                                     scoring=('precision','recall','f1'), return_train_score=False)\n",
    "print(stratified_cv_results_poly_1)\n",
    "print(np.mean(stratified_cv_results_poly_1['test_f1']))"
   ]
  },
  {
   "cell_type": "code",
   "execution_count": 13,
   "metadata": {},
   "outputs": [
    {
     "name": "stdout",
     "output_type": "stream",
     "text": [
      "(13233, 1600)\n"
     ]
    }
   ],
   "source": [
    "pca=PCA(n_components=1600)\n",
    "X_pca = pca.fit_transform(X)\n",
    "print(X_pca.shape)"
   ]
  },
  {
   "cell_type": "code",
   "execution_count": 14,
   "metadata": {},
   "outputs": [
    {
     "name": "stdout",
     "output_type": "stream",
     "text": [
      "{'fit_time': array([6.9762466 , 7.05399442, 7.72712755]), 'score_time': array([7.96645451, 8.67608714, 8.48672628]), 'test_precision': array([0.6       , 0.54545455, 0.88888889]), 'test_recall': array([0.33333333, 0.35294118, 0.47058824]), 'test_f1': array([0.42857143, 0.42857143, 0.61538462])}\n",
      "0.4908424908424908\n"
     ]
    }
   ],
   "source": [
    "svc_poly_1=svm.SVC(C=10,kernel='poly',degree=5,coef0=5)\n",
    "stratified_cv_results_poly_1=cross_validate(svc_poly_1, X_pca, y_williams, cv=StratifiedKFold(n_splits=3, shuffle=True, random_state=8401),\n",
    "                                     scoring=('precision','recall','f1'), return_train_score=False)\n",
    "print(stratified_cv_results_poly_1)\n",
    "print(np.mean(stratified_cv_results_poly_1['test_f1']))"
   ]
  },
  {
   "cell_type": "code",
   "execution_count": 4,
   "metadata": {},
   "outputs": [
    {
     "name": "stdout",
     "output_type": "stream",
     "text": [
      "(13233, 207)\n",
      "For n_neighbors=1 for y_williams\n",
      "{'fit_time': array([0.14161921, 0.15458608, 0.14464283]), 'score_time': array([39.42290092, 39.85496426, 40.18850589]), 'test_precision': array([0.33333333, 0.        , 0.75      ]), 'test_recall': array([0.22222222, 0.        , 0.17647059]), 'test_f1': array([0.26666667, 0.        , 0.28571429])}\n",
      "0.14694937070210776\n",
      "39.82212368647257\n",
      "0.3611111111111111\n",
      "0.1328976034858388\n",
      "0.18412698412698414\n"
     ]
    }
   ],
   "source": [
    "pca=PCA(0.9)\n",
    "X_pca = pca.fit_transform(X)\n",
    "print(X_pca.shape)\n",
    "knn=KNeighborsClassifier(n_neighbors=1)\n",
    "print(\"For n_neighbors=1 for y_williams\") \n",
    "stratified_cv_results_1=cross_validate(knn, X_pca, y_williams, cv=StratifiedKFold(n_splits=3, shuffle=True, random_state=8401),\n",
    "                                     scoring=('precision','recall','f1'), return_train_score=False)\n",
    "print(stratified_cv_results_1)\n",
    "print(np.mean(stratified_cv_results_1['fit_time']))\n",
    "print(np.mean(stratified_cv_results_1['score_time']))\n",
    "print(np.mean(stratified_cv_results_1['test_precision']))\n",
    "print(np.mean(stratified_cv_results_1['test_recall']))\n",
    "print(np.mean(stratified_cv_results_1['test_f1']))"
   ]
  },
  {
   "cell_type": "code",
   "execution_count": 5,
   "metadata": {},
   "outputs": [
    {
     "name": "stdout",
     "output_type": "stream",
     "text": [
      "(13233, 107)\n",
      "For n_neighbors=1 for y_williams\n",
      "{'fit_time': array([0.08377528, 0.06984472, 0.07380366]), 'score_time': array([20.75956249, 20.56825447, 20.90426898]), 'test_precision': array([0.28571429, 0.14285714, 0.75      ]), 'test_recall': array([0.22222222, 0.05882353, 0.17647059]), 'test_f1': array([0.25      , 0.08333333, 0.28571429])}\n",
      "0.07580788930257161\n",
      "20.74402864774068\n",
      "0.39285714285714285\n",
      "0.1525054466230937\n",
      "0.20634920634920637\n"
     ]
    }
   ],
   "source": [
    "pca=PCA(0.85)\n",
    "X_pca = pca.fit_transform(X)\n",
    "print(X_pca.shape)\n",
    "knn=KNeighborsClassifier(n_neighbors=1)\n",
    "print(\"For n_neighbors=1 for y_williams\") \n",
    "stratified_cv_results_1=cross_validate(knn, X_pca, y_williams, cv=StratifiedKFold(n_splits=3, shuffle=True, random_state=8401),\n",
    "                                     scoring=('precision','recall','f1'), return_train_score=False)\n",
    "print(stratified_cv_results_1)\n",
    "print(np.mean(stratified_cv_results_1['fit_time']))\n",
    "print(np.mean(stratified_cv_results_1['score_time']))\n",
    "print(np.mean(stratified_cv_results_1['test_precision']))\n",
    "print(np.mean(stratified_cv_results_1['test_recall']))\n",
    "print(np.mean(stratified_cv_results_1['test_f1']))"
   ]
  },
  {
   "cell_type": "code",
   "execution_count": 6,
   "metadata": {},
   "outputs": [
    {
     "name": "stdout",
     "output_type": "stream",
     "text": [
      "(13233, 63)\n",
      "For n_neighbors=1 for y_williams\n",
      "{'fit_time': array([0.06582332, 0.04192376, 0.04191852]), 'score_time': array([11.78089738, 10.83885527, 11.19242263]), 'test_precision': array([0.36363636, 0.125     , 0.75      ]), 'test_recall': array([0.22222222, 0.05882353, 0.17647059]), 'test_f1': array([0.27586207, 0.08      , 0.28571429])}\n",
      "0.04988853136698405\n",
      "11.270725091298422\n",
      "0.4128787878787879\n",
      "0.1525054466230937\n",
      "0.21385878489326762\n"
     ]
    }
   ],
   "source": [
    "pca=PCA(0.80)\n",
    "X_pca = pca.fit_transform(X)\n",
    "print(X_pca.shape)\n",
    "knn=KNeighborsClassifier(n_neighbors=1)\n",
    "print(\"For n_neighbors=1 for y_williams\") \n",
    "stratified_cv_results_1=cross_validate(knn, X_pca, y_williams, cv=StratifiedKFold(n_splits=3, shuffle=True, random_state=8401),\n",
    "                                     scoring=('precision','recall','f1'), return_train_score=False)\n",
    "print(stratified_cv_results_1)\n",
    "print(np.mean(stratified_cv_results_1['fit_time']))\n",
    "print(np.mean(stratified_cv_results_1['score_time']))\n",
    "print(np.mean(stratified_cv_results_1['test_precision']))\n",
    "print(np.mean(stratified_cv_results_1['test_recall']))\n",
    "print(np.mean(stratified_cv_results_1['test_f1']))"
   ]
  },
  {
   "cell_type": "code",
   "execution_count": 7,
   "metadata": {},
   "outputs": [
    {
     "name": "stdout",
     "output_type": "stream",
     "text": [
      "(13233, 57)\n",
      "For n_neighbors=1 for y_williams\n",
      "{'fit_time': array([0.046875  , 0.0419209 , 0.03992414]), 'score_time': array([9.76758122, 9.95231485, 9.69953775]), 'test_precision': array([0.4       , 0.14285714, 0.8       ]), 'test_recall': array([0.22222222, 0.05882353, 0.23529412]), 'test_f1': array([0.28571429, 0.08333333, 0.36363636])}\n",
      "0.04290668169657389\n",
      "9.806477944056192\n",
      "0.44761904761904764\n",
      "0.17211328976034856\n",
      "0.2442279942279942\n"
     ]
    }
   ],
   "source": [
    "pca=PCA(0.79)\n",
    "X_pca = pca.fit_transform(X)\n",
    "print(X_pca.shape)\n",
    "knn=KNeighborsClassifier(n_neighbors=1)\n",
    "print(\"For n_neighbors=1 for y_williams\") \n",
    "stratified_cv_results_1=cross_validate(knn, X_pca, y_williams, cv=StratifiedKFold(n_splits=3, shuffle=True, random_state=8401),\n",
    "                                     scoring=('precision','recall','f1'), return_train_score=False)\n",
    "print(stratified_cv_results_1)\n",
    "print(np.mean(stratified_cv_results_1['fit_time']))\n",
    "print(np.mean(stratified_cv_results_1['score_time']))\n",
    "print(np.mean(stratified_cv_results_1['test_precision']))\n",
    "print(np.mean(stratified_cv_results_1['test_recall']))\n",
    "print(np.mean(stratified_cv_results_1['test_f1']))"
   ]
  },
  {
   "cell_type": "code",
   "execution_count": 8,
   "metadata": {},
   "outputs": [
    {
     "name": "stdout",
     "output_type": "stream",
     "text": [
      "(13233, 40)\n",
      "For n_neighbors=1 for y_williams\n",
      "{'fit_time': array([0.08976197, 0.04089117, 0.03690481]), 'score_time': array([18.15046358,  9.43314719,  8.92413568]), 'test_precision': array([0.36363636, 0.14285714, 0.375     ]), 'test_recall': array([0.22222222, 0.05882353, 0.17647059]), 'test_f1': array([0.27586207, 0.08333333, 0.24      ])}\n",
      "0.055852651596069336\n",
      "12.169248819351196\n",
      "0.29383116883116883\n",
      "0.1525054466230937\n",
      "0.19973180076628352\n"
     ]
    }
   ],
   "source": [
    "pca=PCA(0.75)\n",
    "X_pca = pca.fit_transform(X)\n",
    "print(X_pca.shape)\n",
    "knn=KNeighborsClassifier(n_neighbors=1)\n",
    "print(\"For n_neighbors=1 for y_williams\") \n",
    "stratified_cv_results_1=cross_validate(knn, X_pca, y_williams, cv=StratifiedKFold(n_splits=3, shuffle=True, random_state=8401),\n",
    "                                     scoring=('precision','recall','f1'), return_train_score=False)\n",
    "print(stratified_cv_results_1)\n",
    "print(np.mean(stratified_cv_results_1['fit_time']))\n",
    "print(np.mean(stratified_cv_results_1['score_time']))\n",
    "print(np.mean(stratified_cv_results_1['test_precision']))\n",
    "print(np.mean(stratified_cv_results_1['test_recall']))\n",
    "print(np.mean(stratified_cv_results_1['test_f1']))"
   ]
  },
  {
   "cell_type": "code",
   "execution_count": null,
   "metadata": {},
   "outputs": [],
   "source": []
  }
 ],
 "metadata": {
  "kernelspec": {
   "display_name": "Python 3",
   "language": "python",
   "name": "python3"
  },
  "language_info": {
   "codemirror_mode": {
    "name": "ipython",
    "version": 3
   },
   "file_extension": ".py",
   "mimetype": "text/x-python",
   "name": "python",
   "nbconvert_exporter": "python",
   "pygments_lexer": "ipython3",
   "version": "3.6.6"
  }
 },
 "nbformat": 4,
 "nbformat_minor": 2
}
