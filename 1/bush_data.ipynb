{
 "cells": [
  {
   "cell_type": "code",
   "execution_count": 2,
   "metadata": {},
   "outputs": [
    {
     "name": "stdout",
     "output_type": "stream",
     "text": [
      "(13233, 4096)\n",
      "530\n"
     ]
    }
   ],
   "source": [
    "import pandas as pd\n",
    "import pickle\n",
    "import numpy as np\n",
    "import matplotlib.pyplot as plt\n",
    "from sklearn.neighbors import KNeighborsClassifier\n",
    "from sklearn.model_selection import cross_validate,StratifiedKFold\n",
    "from sklearn import svm\n",
    "\n",
    "X=pd.read_csv(\"data\\X.csv\", sep=' ',header=None, dtype=float)\n",
    "X=X.values\n",
    "Y=pd.read_csv(\"data\\y_bush_vs_others.csv\", header=None)\n",
    "y_bush = Y.values.ravel()\n",
    "print(X.shape)\n",
    "print(np.sum(y_bush))\n"
   ]
  },
  {
   "cell_type": "code",
   "execution_count": 2,
   "metadata": {},
   "outputs": [
    {
     "name": "stdout",
     "output_type": "stream",
     "text": [
      "For n_neighbors=1 for y_bush\n",
      "{'fit_time': array([9.25239635, 9.57517409, 9.35650802]), 'score_time': array([1876.15384054, 1882.94802284, 1874.15018916]), 'test_precision': array([0.14054054, 0.17006803, 0.11111111]), 'test_recall': array([0.14689266, 0.14124294, 0.09090909]), 'test_f1': array([0.14364641, 0.15432099, 0.1       ])}\n"
     ]
    }
   ],
   "source": [
    "knn=KNeighborsClassifier(n_neighbors=1)\n",
    "print(\"For n_neighbors=1 for y_bush\") \n",
    "stratified_cv_results_1=cross_validate(knn, X, y_bush, cv=StratifiedKFold(n_splits=3, shuffle=True, random_state=8401),\n",
    "                                     scoring=('precision','recall','f1'), return_train_score=False)\n",
    "\n",
    "print(stratified_cv_results_1)\n"
   ]
  },
  {
   "cell_type": "code",
   "execution_count": 4,
   "metadata": {
    "scrolled": true
   },
   "outputs": [
    {
     "name": "stdout",
     "output_type": "stream",
     "text": [
      "9.39469281832377\n",
      "1877.7506841818492\n",
      "0.14057322628751198\n",
      "0.1263482280431433\n",
      "0.13265579883136666\n"
     ]
    }
   ],
   "source": [
    "print(np.mean(stratified_cv_results_1['fit_time']))\n",
    "print(np.mean(stratified_cv_results_1['score_time']))\n",
    "print(np.mean(stratified_cv_results_1['test_precision']))\n",
    "print(np.mean(stratified_cv_results_1['test_recall']))\n",
    "print(np.mean(stratified_cv_results_1['test_f1']))"
   ]
  },
  {
   "cell_type": "code",
   "execution_count": 3,
   "metadata": {},
   "outputs": [
    {
     "name": "stdout",
     "output_type": "stream",
     "text": [
      "For n_neighbors=3 for y_bush\n",
      "{'fit_time': array([9.36895394, 9.34142351, 9.30476785]), 'score_time': array([1891.83503747, 1882.01343822, 1878.18998122]), 'test_precision': array([0.11764706, 0.25      , 0.16666667]), 'test_recall': array([0.02259887, 0.03389831, 0.02840909]), 'test_f1': array([0.03791469, 0.05970149, 0.04854369])}\n"
     ]
    }
   ],
   "source": [
    "knn3=KNeighborsClassifier(n_neighbors=3)\n",
    "print(\"For n_neighbors=3 for y_bush\") \n",
    "stratified_cv_results_3=cross_validate(knn3, X, y_bush, cv=StratifiedKFold(n_splits=3, shuffle=True, random_state=8401),\n",
    "                                     scoring=('precision','recall','f1'), return_train_score=False)\n",
    "\n",
    "print(stratified_cv_results_3)\n"
   ]
  },
  {
   "cell_type": "code",
   "execution_count": 5,
   "metadata": {},
   "outputs": [
    {
     "name": "stdout",
     "output_type": "stream",
     "text": [
      "9.33838176727295\n",
      "1884.0128189722698\n",
      "0.1781045751633987\n",
      "0.028302088683444613\n",
      "0.04871995793360991\n"
     ]
    }
   ],
   "source": [
    "print(np.mean(stratified_cv_results_3['fit_time']))\n",
    "print(np.mean(stratified_cv_results_3['score_time']))\n",
    "print(np.mean(stratified_cv_results_3['test_precision']))\n",
    "print(np.mean(stratified_cv_results_3['test_recall']))\n",
    "print(np.mean(stratified_cv_results_3['test_f1']))"
   ]
  },
  {
   "cell_type": "code",
   "execution_count": 2,
   "metadata": {},
   "outputs": [
    {
     "name": "stdout",
     "output_type": "stream",
     "text": [
      "For n_neighbors=5 for y_bush\n",
      "{'fit_time': array([6.05281353, 6.09672713, 6.01990318]), 'score_time': array([911.26829457, 910.29386902, 907.62303996]), 'test_precision': array([0.25      , 0.22222222, 0.14285714]), 'test_recall': array([0.01129944, 0.01129944, 0.00568182]), 'test_f1': array([0.02162162, 0.02150538, 0.01092896])}\n"
     ]
    }
   ],
   "source": [
    "knn5=KNeighborsClassifier(n_neighbors=5)\n",
    "print(\"For n_neighbors=5 for y_bush\") \n",
    "stratified_cv_results_5=cross_validate(knn5, X, y_bush, cv=StratifiedKFold(n_splits=3, shuffle=True, random_state=8401),\n",
    "                                     scoring=('precision','recall','f1'), return_train_score=False)\n",
    "\n",
    "print(stratified_cv_results_5)"
   ]
  },
  {
   "cell_type": "code",
   "execution_count": 4,
   "metadata": {},
   "outputs": [
    {
     "name": "stdout",
     "output_type": "stream",
     "text": [
      "6.056481281916301\n",
      "909.728401184082\n",
      "0.20502645502645503\n",
      "0.009426896079438453\n",
      "0.01801865323811384\n"
     ]
    }
   ],
   "source": [
    "print(np.mean(stratified_cv_results_5['fit_time']))\n",
    "print(np.mean(stratified_cv_results_5['score_time']))\n",
    "print(np.mean(stratified_cv_results_5['test_precision']))\n",
    "print(np.mean(stratified_cv_results_5['test_recall']))\n",
    "print(np.mean(stratified_cv_results_5['test_f1']))"
   ]
  },
  {
   "cell_type": "code",
   "execution_count": 5,
   "metadata": {},
   "outputs": [
    {
     "ename": "NameError",
     "evalue": "name 'stratified_cv_results_1' is not defined",
     "output_type": "error",
     "traceback": [
      "\u001b[1;31m---------------------------------------------------------------------------\u001b[0m",
      "\u001b[1;31mNameError\u001b[0m                                 Traceback (most recent call last)",
      "\u001b[1;32m<ipython-input-5-70941b2a023b>\u001b[0m in \u001b[0;36m<module>\u001b[1;34m\u001b[0m\n\u001b[1;32m----> 1\u001b[1;33m \u001b[0mscv_results_1\u001b[0m\u001b[1;33m=\u001b[0m\u001b[0mtuple\u001b[0m\u001b[1;33m(\u001b[0m\u001b[0mstratified_cv_results_1\u001b[0m\u001b[1;33m)\u001b[0m\u001b[1;33m\u001b[0m\u001b[0m\n\u001b[0m\u001b[0;32m      2\u001b[0m \u001b[0mscv_results_3\u001b[0m\u001b[1;33m=\u001b[0m\u001b[0mtuple\u001b[0m\u001b[1;33m(\u001b[0m\u001b[0mstratified_cv_results_3\u001b[0m\u001b[1;33m)\u001b[0m\u001b[1;33m\u001b[0m\u001b[0m\n\u001b[0;32m      3\u001b[0m \u001b[0mscv_results_5\u001b[0m\u001b[1;33m=\u001b[0m\u001b[0mtuple\u001b[0m\u001b[1;33m(\u001b[0m\u001b[0mstratified_cv_results_5\u001b[0m\u001b[1;33m)\u001b[0m\u001b[1;33m\u001b[0m\u001b[0m\n\u001b[0;32m      4\u001b[0m \u001b[0mpickle\u001b[0m\u001b[1;33m.\u001b[0m\u001b[0mdump\u001b[0m\u001b[1;33m(\u001b[0m\u001b[1;33m(\u001b[0m\u001b[0mscv_results_1\u001b[0m\u001b[1;33m,\u001b[0m\u001b[0mscv_results_3\u001b[0m\u001b[1;33m,\u001b[0m\u001b[0mscv_results_5\u001b[0m\u001b[1;33m)\u001b[0m\u001b[1;33m,\u001b[0m\u001b[0mopen\u001b[0m\u001b[1;33m(\u001b[0m\u001b[1;34m'bush.pkl'\u001b[0m\u001b[1;33m,\u001b[0m \u001b[1;34m'wb'\u001b[0m\u001b[1;33m)\u001b[0m\u001b[1;33m)\u001b[0m\u001b[1;33m\u001b[0m\u001b[0m\n",
      "\u001b[1;31mNameError\u001b[0m: name 'stratified_cv_results_1' is not defined"
     ]
    }
   ],
   "source": [
    "scv_results_1=tuple(stratified_cv_results_1)\n",
    "scv_results_3=tuple(stratified_cv_results_3)\n",
    "scv_results_5=tuple(stratified_cv_results_5)\n",
    "svc_best_results=tuple()\n",
    "pickle.dump((scv_results_1,scv_results_3,scv_results_5,svc_best_results),open('bush.pkl', 'wb'))"
   ]
  },
  {
   "cell_type": "code",
   "execution_count": 3,
   "metadata": {},
   "outputs": [],
   "source": [
    "svc=svm.SVC(C=1,kernel='linear')"
   ]
  },
  {
   "cell_type": "code",
   "execution_count": 5,
   "metadata": {},
   "outputs": [
    {
     "name": "stdout",
     "output_type": "stream",
     "text": [
      "{'fit_time': array([120.22036505, 120.86266947, 149.81148863]), 'score_time': array([123.23411918, 139.02906919, 147.765939  ]), 'test_precision': array([0.62251656, 0.7027027 , 0.62790698]), 'test_recall': array([0.53107345, 0.58757062, 0.61363636]), 'test_f1': array([0.57317073, 0.64      , 0.62068966])}\n"
     ]
    }
   ],
   "source": [
    "stratified_cv_results_a=cross_validate(svc, X, y_bush, cv=StratifiedKFold(n_splits=3, shuffle=True, random_state=8401),\n",
    "                                     scoring=('precision','recall','f1'), return_train_score=False)\n",
    "print(stratified_cv_results_a)"
   ]
  },
  {
   "cell_type": "code",
   "execution_count": 6,
   "metadata": {},
   "outputs": [],
   "source": [
    "svc_10=svm.SVC(C=10,kernel='linear')"
   ]
  },
  {
   "cell_type": "code",
   "execution_count": 7,
   "metadata": {},
   "outputs": [
    {
     "name": "stdout",
     "output_type": "stream",
     "text": [
      "{'fit_time': array([129.46933913, 119.29040217, 131.27071714]), 'score_time': array([142.41907811, 124.79533315, 140.88204217]), 'test_precision': array([0.62251656, 0.7027027 , 0.62790698]), 'test_recall': array([0.53107345, 0.58757062, 0.61363636]), 'test_f1': array([0.57317073, 0.64      , 0.62068966])}\n"
     ]
    }
   ],
   "source": [
    "stratified_cv_results_b=cross_validate(svc_10, X, y_bush, cv=StratifiedKFold(n_splits=3, shuffle=True, random_state=8401),\n",
    "                                     scoring=('precision','recall','f1'), return_train_score=False)\n",
    "print(stratified_cv_results_b)"
   ]
  },
  {
   "cell_type": "code",
   "execution_count": null,
   "metadata": {},
   "outputs": [],
   "source": [
    "svc_100=svm.SVC(C=100,kernel='linear')"
   ]
  },
  {
   "cell_type": "code",
   "execution_count": null,
   "metadata": {},
   "outputs": [],
   "source": [
    "stratified_cv_results_c=cross_validate(svc_100, X, y_bush, cv=StratifiedKFold(n_splits=3, shuffle=True, random_state=8401),\n",
    "                                     scoring=('precision','recall','f1'), return_train_score=False)\n",
    "print(stratified_cv_results_c)"
   ]
  },
  {
   "cell_type": "code",
   "execution_count": 8,
   "metadata": {},
   "outputs": [],
   "source": [
    "svc_s=svm.SVC(C=0.1,kernel='linear')"
   ]
  },
  {
   "cell_type": "code",
   "execution_count": 9,
   "metadata": {},
   "outputs": [
    {
     "name": "stdout",
     "output_type": "stream",
     "text": [
      "{'fit_time': array([132.34637952, 128.476789  , 139.36766386]), 'score_time': array([135.28151512, 129.56954789, 139.01716423]), 'test_precision': array([0.7480315 , 0.76296296, 0.76190476]), 'test_recall': array([0.53672316, 0.5819209 , 0.63636364]), 'test_f1': array([0.625     , 0.66025641, 0.69349845])}\n"
     ]
    }
   ],
   "source": [
    "stratified_cv_results_d=cross_validate(svc_s, X, y_bush, cv=StratifiedKFold(n_splits=3, shuffle=True, random_state=8401),\n",
    "                                     scoring=('precision','recall','f1'), return_train_score=False)\n",
    "print(stratified_cv_results_d)"
   ]
  },
  {
   "cell_type": "code",
   "execution_count": 31,
   "metadata": {},
   "outputs": [
    {
     "name": "stdout",
     "output_type": "stream",
     "text": [
      "0.659584954089598\n"
     ]
    }
   ],
   "source": [
    "print(np.mean(stratified_cv_results_d['test_f1']))"
   ]
  },
  {
   "cell_type": "code",
   "execution_count": 13,
   "metadata": {},
   "outputs": [],
   "source": [
    "svc_s1=svm.SVC(C=0.5,kernel='linear')"
   ]
  },
  {
   "cell_type": "code",
   "execution_count": 15,
   "metadata": {},
   "outputs": [
    {
     "name": "stdout",
     "output_type": "stream",
     "text": [
      "{'fit_time': array([119.39828157, 123.8834784 , 121.44076324]), 'score_time': array([128.4289217 , 128.06710052, 132.63972878]), 'test_precision': array([0.62416107, 0.70547945, 0.63583815]), 'test_recall': array([0.52542373, 0.5819209 , 0.625     ]), 'test_f1': array([0.57055215, 0.6377709 , 0.63037249])}\n"
     ]
    }
   ],
   "source": [
    "stratified_cv_results_s1=cross_validate(svc_s1, X, y_bush, cv=StratifiedKFold(n_splits=3, shuffle=True, random_state=8401),\n",
    "                                     scoring=('precision','recall','f1'), return_train_score=False)\n",
    "print(stratified_cv_results_s1)"
   ]
  },
  {
   "cell_type": "code",
   "execution_count": 10,
   "metadata": {},
   "outputs": [],
   "source": [
    "svc_s2=svm.SVC(C=0.01,kernel='linear')"
   ]
  },
  {
   "cell_type": "code",
   "execution_count": 11,
   "metadata": {},
   "outputs": [],
   "source": [
    "stratified_cv_results_s2=cross_validate(svc_s2, X, y_bush, cv=StratifiedKFold(n_splits=3, shuffle=True, random_state=8401),\n",
    "                                     scoring=('precision','recall','f1'), return_train_score=False)"
   ]
  },
  {
   "cell_type": "code",
   "execution_count": 12,
   "metadata": {},
   "outputs": [
    {
     "name": "stdout",
     "output_type": "stream",
     "text": [
      "{'fit_time': array([128.65096807, 116.86750746, 115.25199413]), 'score_time': array([144.57249737, 131.43549037, 146.86963463]), 'test_precision': array([1.        , 1.        , 0.92307692]), 'test_recall': array([0.09039548, 0.10169492, 0.06818182]), 'test_f1': array([0.16580311, 0.18461538, 0.12698413])}\n"
     ]
    }
   ],
   "source": [
    "print(stratified_cv_results_s2)"
   ]
  },
  {
   "cell_type": "code",
   "execution_count": 19,
   "metadata": {},
   "outputs": [
    {
     "data": {
      "text/plain": [
       "0.0008848321288178395"
      ]
     },
     "execution_count": 19,
     "metadata": {},
     "output_type": "execute_result"
    }
   ],
   "source": [
    "value=(1/(X.shape[1]*X.std()))\n",
    "value\n"
   ]
  },
  {
   "cell_type": "code",
   "execution_count": 20,
   "metadata": {},
   "outputs": [],
   "source": [
    "svc_rbf_1=svm.SVC(C=1,kernel='rbf',gamma=value)"
   ]
  },
  {
   "cell_type": "code",
   "execution_count": 21,
   "metadata": {},
   "outputs": [
    {
     "name": "stderr",
     "output_type": "stream",
     "text": [
      "c:\\users\\spver\\appdata\\local\\programs\\python\\python36\\lib\\site-packages\\sklearn\\metrics\\classification.py:1135: UndefinedMetricWarning: Precision is ill-defined and being set to 0.0 due to no predicted samples.\n",
      "  'precision', 'predicted', average, warn_for)\n",
      "c:\\users\\spver\\appdata\\local\\programs\\python\\python36\\lib\\site-packages\\sklearn\\metrics\\classification.py:1135: UndefinedMetricWarning: F-score is ill-defined and being set to 0.0 due to no predicted samples.\n",
      "  'precision', 'predicted', average, warn_for)\n",
      "c:\\users\\spver\\appdata\\local\\programs\\python\\python36\\lib\\site-packages\\sklearn\\metrics\\classification.py:1135: UndefinedMetricWarning: Precision is ill-defined and being set to 0.0 due to no predicted samples.\n",
      "  'precision', 'predicted', average, warn_for)\n",
      "c:\\users\\spver\\appdata\\local\\programs\\python\\python36\\lib\\site-packages\\sklearn\\metrics\\classification.py:1135: UndefinedMetricWarning: F-score is ill-defined and being set to 0.0 due to no predicted samples.\n",
      "  'precision', 'predicted', average, warn_for)\n",
      "c:\\users\\spver\\appdata\\local\\programs\\python\\python36\\lib\\site-packages\\sklearn\\metrics\\classification.py:1135: UndefinedMetricWarning: Precision is ill-defined and being set to 0.0 due to no predicted samples.\n",
      "  'precision', 'predicted', average, warn_for)\n"
     ]
    },
    {
     "name": "stdout",
     "output_type": "stream",
     "text": [
      "{'fit_time': array([71.0520401 , 70.23123527, 73.65405226]), 'score_time': array([ 94.63092899,  95.57739806, 100.09435081]), 'test_precision': array([0., 0., 0.]), 'test_recall': array([0., 0., 0.]), 'test_f1': array([0., 0., 0.])}\n"
     ]
    },
    {
     "name": "stderr",
     "output_type": "stream",
     "text": [
      "c:\\users\\spver\\appdata\\local\\programs\\python\\python36\\lib\\site-packages\\sklearn\\metrics\\classification.py:1135: UndefinedMetricWarning: F-score is ill-defined and being set to 0.0 due to no predicted samples.\n",
      "  'precision', 'predicted', average, warn_for)\n"
     ]
    }
   ],
   "source": [
    "stratified_cv_results_rbf_a=cross_validate(svc_rbf_1, X, y_bush, cv=StratifiedKFold(n_splits=3, shuffle=True, random_state=8401),\n",
    "                                     scoring=('precision','recall','f1'), return_train_score=False)\n",
    "print(stratified_cv_results_rbf_a)"
   ]
  },
  {
   "cell_type": "code",
   "execution_count": 25,
   "metadata": {},
   "outputs": [],
   "source": [
    "svc_rbf_10000=svm.SVC(C=10000,kernel='rbf',gamma=value)"
   ]
  },
  {
   "cell_type": "code",
   "execution_count": 26,
   "metadata": {},
   "outputs": [
    {
     "name": "stdout",
     "output_type": "stream",
     "text": [
      "{'fit_time': array([79.33761239, 76.18361759, 81.87522435]), 'score_time': array([106.38163042, 102.86319566, 109.82372308]), 'test_precision': array([0.86734694, 0.84313725, 0.83185841]), 'test_recall': array([0.48022599, 0.48587571, 0.53409091]), 'test_f1': array([0.61818182, 0.61648746, 0.65051903])}\n"
     ]
    }
   ],
   "source": [
    "stratified_cv_results_rbf_b=cross_validate(svc_rbf_10000, X, y_bush, cv=StratifiedKFold(n_splits=3, shuffle=True, random_state=8401),\n",
    "                                     scoring=('precision','recall','f1'), return_train_score=False)\n",
    "print(stratified_cv_results_rbf_b)"
   ]
  },
  {
   "cell_type": "code",
   "execution_count": 22,
   "metadata": {},
   "outputs": [],
   "source": [
    "svc_rbf_100=svm.SVC(C=100,kernel='rbf',gamma=value)"
   ]
  },
  {
   "cell_type": "code",
   "execution_count": 24,
   "metadata": {},
   "outputs": [
    {
     "name": "stdout",
     "output_type": "stream",
     "text": [
      "{'fit_time': array([81.81362367, 79.13307691, 78.19300556]), 'score_time': array([107.96438241, 108.96217322, 105.57839394]), 'test_precision': array([0.87755102, 0.83495146, 0.83185841]), 'test_recall': array([0.48587571, 0.48587571, 0.53409091]), 'test_f1': array([0.62545455, 0.61428571, 0.65051903])}\n"
     ]
    }
   ],
   "source": [
    "stratified_cv_results_rbf_c=cross_validate(svc_rbf_100, X, y_bush, cv=StratifiedKFold(n_splits=3, shuffle=True, random_state=8401),\n",
    "                                     scoring=('precision','recall','f1'), return_train_score=False)\n",
    "print(stratified_cv_results_rbf_c)"
   ]
  },
  {
   "cell_type": "code",
   "execution_count": 30,
   "metadata": {},
   "outputs": [
    {
     "name": "stdout",
     "output_type": "stream",
     "text": [
      "0.6300864302940428\n"
     ]
    }
   ],
   "source": [
    "print(np.mean(stratified_cv_results_rbf_c['test_f1']))"
   ]
  },
  {
   "cell_type": "code",
   "execution_count": 27,
   "metadata": {},
   "outputs": [],
   "source": [
    "svc_rbf_100000=svm.SVC(C=100000,kernel='rbf',gamma=value)"
   ]
  },
  {
   "cell_type": "code",
   "execution_count": 28,
   "metadata": {},
   "outputs": [
    {
     "name": "stdout",
     "output_type": "stream",
     "text": [
      "{'fit_time': array([ 79.43196702,  78.25842404, 163.90035653]), 'score_time': array([111.95335197, 104.75442314, 224.1262784 ]), 'test_precision': array([0.86734694, 0.84313725, 0.83185841]), 'test_recall': array([0.48022599, 0.48587571, 0.53409091]), 'test_f1': array([0.61818182, 0.61648746, 0.65051903])}\n"
     ]
    }
   ],
   "source": [
    "stratified_cv_results_rbf_b1=cross_validate(svc_rbf_100000, X, y_bush, cv=StratifiedKFold(n_splits=3, shuffle=True, random_state=8401),\n",
    "                                     scoring=('precision','recall','f1'), return_train_score=False)\n",
    "print(stratified_cv_results_rbf_b1)"
   ]
  },
  {
   "cell_type": "code",
   "execution_count": 33,
   "metadata": {},
   "outputs": [
    {
     "name": "stdout",
     "output_type": "stream",
     "text": [
      "0.6283961015069398\n"
     ]
    }
   ],
   "source": [
    "print(np.mean(stratified_cv_results_rbf_b1['test_f1']))"
   ]
  },
  {
   "cell_type": "code",
   "execution_count": 49,
   "metadata": {},
   "outputs": [],
   "source": [
    "svc_poly_1=svm.SVC(C=100,kernel='poly',degree=300,coef0=1)"
   ]
  },
  {
   "cell_type": "code",
   "execution_count": null,
   "metadata": {},
   "outputs": [],
   "source": [
    "stratified_cv_results_poly_1=cross_validate(svc_poly_1, X, y_bush, cv=StratifiedKFold(n_splits=3, shuffle=True, random_state=8401),\n",
    "                                     scoring=('precision','recall','f1'), return_train_score=False)\n",
    "print(stratified_cv_results_poly_1)\n"
   ]
  },
  {
   "cell_type": "code",
   "execution_count": 48,
   "metadata": {},
   "outputs": [
    {
     "name": "stdout",
     "output_type": "stream",
     "text": [
      "64.67339897155762\n",
      "68.40111804008484\n",
      "0.6779781113666781\n",
      "0.581236089710666\n",
      "0.6247272530970457\n"
     ]
    }
   ],
   "source": [
    "print(np.mean(stratified_cv_results_poly_1['fit_time']))\n",
    "print(np.mean(stratified_cv_results_poly_1['score_time']))\n",
    "print(np.mean(stratified_cv_results_poly_1['test_precision']))\n",
    "print(np.mean(stratified_cv_results_poly_1['test_recall']))\n",
    "print(np.mean(stratified_cv_results_poly_1['test_f1']))"
   ]
  },
  {
   "cell_type": "code",
   "execution_count": null,
   "metadata": {},
   "outputs": [],
   "source": [
    "svc_poly_2=svm.SVC(C=1,kernel='poly',degree=30)"
   ]
  },
  {
   "cell_type": "code",
   "execution_count": null,
   "metadata": {},
   "outputs": [],
   "source": [
    "stratified_cv_results_poly_2=cross_validate(svc_poly_2, X, y_bush, cv=StratifiedKFold(n_splits=3, shuffle=True, random_state=8401),\n",
    "                                     scoring=('precision','recall','f1'), return_train_score=False)\n",
    "print(stratified_cv_results_poly_2)"
   ]
  },
  {
   "cell_type": "code",
   "execution_count": null,
   "metadata": {},
   "outputs": [],
   "source": [
    "svc_poly_3=svm.SVC(C=1,kernel='poly',degree=300)"
   ]
  },
  {
   "cell_type": "code",
   "execution_count": null,
   "metadata": {},
   "outputs": [],
   "source": [
    "stratified_cv_results_poly_3=cross_validate(svc_poly_3, X, y_bush, cv=StratifiedKFold(n_splits=3, shuffle=True, random_state=8401),\n",
    "                                     scoring=('precision','recall','f1'), return_train_score=False)\n",
    "print(stratified_cv_results_poly_3)"
   ]
  },
  {
   "cell_type": "code",
   "execution_count": null,
   "metadata": {},
   "outputs": [],
   "source": [
    "svc_poly_4=svm.SVC(C=1,kernel='poly',degree=3000)"
   ]
  },
  {
   "cell_type": "code",
   "execution_count": null,
   "metadata": {},
   "outputs": [],
   "source": [
    "stratified_cv_results_poly_4=cross_validate(svc_poly_4, X, y_bush, cv=StratifiedKFold(n_splits=3, shuffle=True, random_state=8401),\n",
    "                                     scoring=('precision','recall','f1'), return_train_score=False)\n",
    "print(stratified_cv_results_poly_4)"
   ]
  }
 ],
 "metadata": {
  "kernelspec": {
   "display_name": "Python 3",
   "language": "python",
   "name": "python3"
  },
  "language_info": {
   "codemirror_mode": {
    "name": "ipython",
    "version": 3
   },
   "file_extension": ".py",
   "mimetype": "text/x-python",
   "name": "python",
   "nbconvert_exporter": "python",
   "pygments_lexer": "ipython3",
   "version": "3.6.6"
  }
 },
 "nbformat": 4,
 "nbformat_minor": 2
}
