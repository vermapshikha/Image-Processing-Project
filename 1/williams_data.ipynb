{
 "cells": [
  {
   "cell_type": "code",
   "execution_count": 2,
   "metadata": {},
   "outputs": [],
   "source": [
    "import scipy as sp\n",
    "import numpy as np\n",
    "import pandas as pd\n",
    "from sklearn.neighbors import KNeighborsClassifier\n",
    "from sklearn.model_selection import cross_validate,StratifiedKFold\n",
    "from sklearn import svm\n",
    "from sklearn.model_selection import GridSearchCV"
   ]
  },
  {
   "cell_type": "code",
   "execution_count": 3,
   "metadata": {},
   "outputs": [
    {
     "name": "stdout",
     "output_type": "stream",
     "text": [
      "(13233, 4096)\n",
      "52\n"
     ]
    }
   ],
   "source": [
    "X=pd.read_csv(\"data\\X.csv\", sep=' ',header=None, dtype=float)\n",
    "X=X.values\n",
    "Y=pd.read_csv(\"data\\y_williams_vs_others.csv\",header=None)\n",
    "y_williams = Y.values.ravel()\n",
    "print(X.shape)\n",
    "print(np.sum(y_williams))\n"
   ]
  },
  {
   "cell_type": "code",
   "execution_count": 4,
   "metadata": {},
   "outputs": [
    {
     "name": "stdout",
     "output_type": "stream",
     "text": [
      "For n_neighbors=1 for y_williams\n",
      "{'fit_time': array([ 9.80150533, 10.94568229, 10.60962105]), 'score_time': array([1891.52947474, 1991.60182166, 1965.62572074]), 'test_precision': array([0.5       , 0.33333333, 0.75      ]), 'test_recall': array([0.16666667, 0.05882353, 0.17647059]), 'test_f1': array([0.25      , 0.1       , 0.28571429])}\n"
     ]
    }
   ],
   "source": [
    "knn=KNeighborsClassifier(n_neighbors=1)\n",
    "print(\"For n_neighbors=1 for y_williams\") \n",
    "stratified_cv_results_1=cross_validate(knn, X, y_williams, cv=StratifiedKFold(n_splits=3, shuffle=True, random_state=8401),\n",
    "                                     scoring=('precision','recall','f1'), return_train_score=False)\n",
    "print(stratified_cv_results_1)\n",
    "\n"
   ]
  },
  {
   "cell_type": "code",
   "execution_count": 5,
   "metadata": {},
   "outputs": [
    {
     "name": "stdout",
     "output_type": "stream",
     "text": [
      "10.452269554138184\n",
      "1949.58567237854\n",
      "0.5277777777777778\n",
      "0.13398692810457516\n",
      "0.2119047619047619\n"
     ]
    }
   ],
   "source": [
    "print(np.mean(stratified_cv_results_1['fit_time']))\n",
    "print(np.mean(stratified_cv_results_1['score_time']))\n",
    "print(np.mean(stratified_cv_results_1['test_precision']))\n",
    "print(np.mean(stratified_cv_results_1['test_recall']))\n",
    "print(np.mean(stratified_cv_results_1['test_f1']))"
   ]
  },
  {
   "cell_type": "code",
   "execution_count": 26,
   "metadata": {},
   "outputs": [
    {
     "name": "stdout",
     "output_type": "stream",
     "text": [
      "For n_neighbors=3 for y_williams\n"
     ]
    },
    {
     "name": "stderr",
     "output_type": "stream",
     "text": [
      "c:\\users\\spver\\appdata\\local\\programs\\python\\python36\\lib\\site-packages\\sklearn\\metrics\\classification.py:1135: UndefinedMetricWarning: Precision is ill-defined and being set to 0.0 due to no predicted samples.\n",
      "  'precision', 'predicted', average, warn_for)\n"
     ]
    },
    {
     "name": "stdout",
     "output_type": "stream",
     "text": [
      "{'fit_time': array([7.55080795, 6.31212354, 6.23433137]), 'score_time': array([920.08952069, 908.86700749, 908.64832687]), 'test_precision': array([0., 0., 0.]), 'test_recall': array([0., 0., 0.]), 'test_f1': array([0., 0., 0.])}\n"
     ]
    },
    {
     "name": "stderr",
     "output_type": "stream",
     "text": [
      "c:\\users\\spver\\appdata\\local\\programs\\python\\python36\\lib\\site-packages\\sklearn\\metrics\\classification.py:1135: UndefinedMetricWarning: F-score is ill-defined and being set to 0.0 due to no predicted samples.\n",
      "  'precision', 'predicted', average, warn_for)\n"
     ]
    }
   ],
   "source": [
    "knn3=KNeighborsClassifier(n_neighbors=3)\n",
    "print(\"For n_neighbors=3 for y_williams\") \n",
    "stratified_cv_results_3=cross_validate(knn3, X, y_williams, cv=StratifiedKFold(n_splits=3, shuffle=True, random_state=8401),\n",
    "                                     scoring=('precision','recall','f1'), return_train_score=False)\n",
    "print(stratified_cv_results_3)\n",
    "\n"
   ]
  },
  {
   "cell_type": "code",
   "execution_count": 28,
   "metadata": {},
   "outputs": [
    {
     "name": "stdout",
     "output_type": "stream",
     "text": [
      "6.699087619781494\n",
      "912.5349516868591\n",
      "0.0\n",
      "0.0\n",
      "0.0\n"
     ]
    }
   ],
   "source": [
    "print(np.mean(stratified_cv_results_3['fit_time']))\n",
    "print(np.mean(stratified_cv_results_3['score_time']))\n",
    "print(np.mean(stratified_cv_results_3['test_precision']))\n",
    "print(np.mean(stratified_cv_results_3['test_recall']))\n",
    "print(np.mean(stratified_cv_results_3['test_f1']))"
   ]
  },
  {
   "cell_type": "code",
   "execution_count": 33,
   "metadata": {},
   "outputs": [
    {
     "name": "stdout",
     "output_type": "stream",
     "text": [
      "For n_neighbors=5 for y_williams\n"
     ]
    },
    {
     "name": "stderr",
     "output_type": "stream",
     "text": [
      "c:\\users\\spver\\appdata\\local\\programs\\python\\python36\\lib\\site-packages\\sklearn\\metrics\\classification.py:1135: UndefinedMetricWarning: Precision is ill-defined and being set to 0.0 due to no predicted samples.\n",
      "  'precision', 'predicted', average, warn_for)\n",
      "c:\\users\\spver\\appdata\\local\\programs\\python\\python36\\lib\\site-packages\\sklearn\\metrics\\classification.py:1135: UndefinedMetricWarning: F-score is ill-defined and being set to 0.0 due to no predicted samples.\n",
      "  'precision', 'predicted', average, warn_for)\n",
      "c:\\users\\spver\\appdata\\local\\programs\\python\\python36\\lib\\site-packages\\sklearn\\metrics\\classification.py:1135: UndefinedMetricWarning: Precision is ill-defined and being set to 0.0 due to no predicted samples.\n",
      "  'precision', 'predicted', average, warn_for)\n"
     ]
    },
    {
     "name": "stdout",
     "output_type": "stream",
     "text": [
      "{'fit_time': array([10.20854616, 10.04882407,  9.17715669]), 'score_time': array([1833.33520126, 1830.08850217, 1833.01201868]), 'test_precision': array([0., 0., 0.]), 'test_recall': array([0., 0., 0.]), 'test_f1': array([0., 0., 0.])}\n"
     ]
    },
    {
     "name": "stderr",
     "output_type": "stream",
     "text": [
      "c:\\users\\spver\\appdata\\local\\programs\\python\\python36\\lib\\site-packages\\sklearn\\metrics\\classification.py:1135: UndefinedMetricWarning: F-score is ill-defined and being set to 0.0 due to no predicted samples.\n",
      "  'precision', 'predicted', average, warn_for)\n"
     ]
    }
   ],
   "source": [
    "knn5=KNeighborsClassifier(n_neighbors=5)\n",
    "print(\"For n_neighbors=5 for y_williams\") \n",
    "stratified_cv_results_5=cross_validate(knn5, X, y_williams, cv=StratifiedKFold(n_splits=3, shuffle=True, random_state=8401),\n",
    "                                     scoring=('precision','recall','f1'), return_train_score=False)\n",
    "print(stratified_cv_results_5)\n"
   ]
  },
  {
   "cell_type": "code",
   "execution_count": 35,
   "metadata": {},
   "outputs": [
    {
     "name": "stdout",
     "output_type": "stream",
     "text": [
      "9.811508973439535\n",
      "1832.1452407042186\n",
      "0.0\n",
      "0.0\n",
      "0.0\n"
     ]
    }
   ],
   "source": [
    "print(np.mean(stratified_cv_results_5['fit_time']))\n",
    "print(np.mean(stratified_cv_results_5['score_time']))\n",
    "print(np.mean(stratified_cv_results_5['test_precision']))\n",
    "print(np.mean(stratified_cv_results_5['test_recall']))\n",
    "print(np.mean(stratified_cv_results_5['test_f1']))"
   ]
  },
  {
   "cell_type": "code",
   "execution_count": null,
   "metadata": {},
   "outputs": [],
   "source": [
    "scv_results_1=tuple(stratified_cv_results_1)\n",
    "scv_results_3=tuple(stratified_cv_results_3)\n",
    "scv_results_5=tuple(stratified_cv_results_5)\n",
    "svc_best_results=tuple()\n",
    "pickle.dump((scv_results_1,scv_results_3,scv_results_5,svc_best_results),open('williams.pkl', 'wb'))"
   ]
  },
  {
   "cell_type": "code",
   "execution_count": null,
   "metadata": {},
   "outputs": [],
   "source": []
  },
  {
   "cell_type": "code",
   "execution_count": null,
   "metadata": {},
   "outputs": [],
   "source": []
  },
  {
   "cell_type": "code",
   "execution_count": null,
   "metadata": {},
   "outputs": [],
   "source": []
  },
  {
   "cell_type": "code",
   "execution_count": 6,
   "metadata": {},
   "outputs": [],
   "source": [
    "svc=svm.SVC(C=1,kernel='linear')"
   ]
  },
  {
   "cell_type": "code",
   "execution_count": 7,
   "metadata": {},
   "outputs": [
    {
     "name": "stdout",
     "output_type": "stream",
     "text": [
      "{'fit_time': array([25.80657268, 24.64823556, 26.29670453]), 'score_time': array([26.84471703, 25.68049312, 27.13464499]), 'test_precision': array([0.6       , 0.6       , 0.72727273]), 'test_recall': array([0.33333333, 0.35294118, 0.47058824]), 'test_f1': array([0.42857143, 0.44444444, 0.57142857])}\n"
     ]
    }
   ],
   "source": [
    "stratified_cv_results_a=cross_validate(svc, X, y_williams, cv=StratifiedKFold(n_splits=3, shuffle=True, random_state=8401),\n",
    "                                     scoring=('precision','recall','f1'), return_train_score=False)\n",
    "print(stratified_cv_results_a)"
   ]
  },
  {
   "cell_type": "code",
   "execution_count": 8,
   "metadata": {},
   "outputs": [],
   "source": [
    "svc_10=svm.SVC(C=10,kernel='linear')"
   ]
  },
  {
   "cell_type": "code",
   "execution_count": 9,
   "metadata": {},
   "outputs": [
    {
     "name": "stdout",
     "output_type": "stream",
     "text": [
      "{'fit_time': array([25.80657268, 24.64823556, 26.29670453]), 'score_time': array([26.84471703, 25.68049312, 27.13464499]), 'test_precision': array([0.6       , 0.6       , 0.72727273]), 'test_recall': array([0.33333333, 0.35294118, 0.47058824]), 'test_f1': array([0.42857143, 0.44444444, 0.57142857])}\n"
     ]
    }
   ],
   "source": [
    "stratified_cv_results_b=cross_validate(svc_10, X, y_williams, cv=StratifiedKFold(n_splits=3, shuffle=True, random_state=8401),\n",
    "                                     scoring=('precision','recall','f1'), return_train_score=False)\n",
    "print(stratified_cv_results_a)"
   ]
  },
  {
   "cell_type": "code",
   "execution_count": 14,
   "metadata": {},
   "outputs": [],
   "source": [
    "svc_100=svm.SVC(C=100000,kernel='linear')"
   ]
  },
  {
   "cell_type": "code",
   "execution_count": 15,
   "metadata": {},
   "outputs": [
    {
     "name": "stdout",
     "output_type": "stream",
     "text": [
      "{'fit_time': array([14.2569077 , 12.43777418, 13.67642999]), 'score_time': array([14.41741681, 13.39215922, 14.64786148]), 'test_precision': array([0.6       , 0.6       , 0.72727273]), 'test_recall': array([0.33333333, 0.35294118, 0.47058824]), 'test_f1': array([0.42857143, 0.44444444, 0.57142857])}\n"
     ]
    }
   ],
   "source": [
    "stratified_cv_results_c=cross_validate(svc_100, X, y_williams, cv=StratifiedKFold(n_splits=3, shuffle=True, random_state=8401),\n",
    "                                     scoring=('precision','recall','f1'), return_train_score=False)\n",
    "print(stratified_cv_results_c)"
   ]
  },
  {
   "cell_type": "code",
   "execution_count": 59,
   "metadata": {},
   "outputs": [
    {
     "name": "stdout",
     "output_type": "stream",
     "text": [
      "13.457037289937338\n",
      "14.15247917175293\n",
      "0.6424242424242425\n",
      "0.3856209150326797\n",
      "0.48148148148148145\n"
     ]
    }
   ],
   "source": [
    "print(np.mean(stratified_cv_results_c['fit_time']))\n",
    "print(np.mean(stratified_cv_results_c['score_time']))\n",
    "print(np.mean(stratified_cv_results_c['test_precision']))\n",
    "print(np.mean(stratified_cv_results_c['test_recall']))\n",
    "print(np.mean(stratified_cv_results_c['test_f1']))"
   ]
  },
  {
   "cell_type": "code",
   "execution_count": 10,
   "metadata": {},
   "outputs": [],
   "source": [
    "svc_s=svm.SVC(C=0.1,kernel='linear')"
   ]
  },
  {
   "cell_type": "code",
   "execution_count": 11,
   "metadata": {},
   "outputs": [
    {
     "name": "stdout",
     "output_type": "stream",
     "text": [
      "{'fit_time': array([25.49989676, 22.89078784, 23.91870308]), 'score_time': array([24.22725391, 25.92110872, 26.99209595]), 'test_precision': array([0.6       , 0.6       , 0.72727273]), 'test_recall': array([0.33333333, 0.35294118, 0.47058824]), 'test_f1': array([0.42857143, 0.44444444, 0.57142857])}\n"
     ]
    }
   ],
   "source": [
    "stratified_cv_results_d=cross_validate(svc_s, X, y_williams, cv=StratifiedKFold(n_splits=3, shuffle=True, random_state=8401),\n",
    "                                     scoring=('precision','recall','f1'), return_train_score=False)\n",
    "print(stratified_cv_results_d)"
   ]
  },
  {
   "cell_type": "code",
   "execution_count": 16,
   "metadata": {},
   "outputs": [],
   "source": [
    "svc_s1=svm.SVC(C=0.5,kernel='linear')"
   ]
  },
  {
   "cell_type": "code",
   "execution_count": 17,
   "metadata": {},
   "outputs": [
    {
     "name": "stdout",
     "output_type": "stream",
     "text": [
      "{'fit_time': array([12.93737769, 11.99990129, 13.53563762]), 'score_time': array([13.52075934, 12.99976015, 14.07621646]), 'test_precision': array([0.6       , 0.6       , 0.72727273]), 'test_recall': array([0.33333333, 0.35294118, 0.47058824]), 'test_f1': array([0.42857143, 0.44444444, 0.57142857])}\n"
     ]
    }
   ],
   "source": [
    "stratified_cv_results_s1=cross_validate(svc_s1, X, y_williams, cv=StratifiedKFold(n_splits=3, shuffle=True, random_state=8401),\n",
    "                                     scoring=('precision','recall','f1'), return_train_score=False)\n",
    "print(np.mean(stratified_cv_results_s1['fit_time']))\n",
    "print(np.mean(stratified_cv_results_s1['score_time']))\n",
    "print(np.mean(stratified_cv_results_s1['test_precision']))\n",
    "print(np.mean(stratified_cv_results_s1['test_recall']))\n",
    "print(np.mean(stratified_cv_results_s1['test_f1']))"
   ]
  },
  {
   "cell_type": "code",
   "execution_count": 12,
   "metadata": {},
   "outputs": [],
   "source": [
    "svc_s2=svm.SVC(C=0.0001,kernel='linear')"
   ]
  },
  {
   "cell_type": "code",
   "execution_count": 13,
   "metadata": {},
   "outputs": [
    {
     "name": "stdout",
     "output_type": "stream",
     "text": [
      "{'fit_time': array([11.52717566, 10.9078567 , 11.30879402]), 'score_time': array([12.06177807, 11.08533359, 11.92511201]), 'test_precision': array([0.5, 1. , 1. ]), 'test_recall': array([0.05555556, 0.17647059, 0.23529412]), 'test_f1': array([0.1       , 0.3       , 0.38095238])}\n"
     ]
    }
   ],
   "source": [
    "stratified_cv_results_s2=cross_validate(svc_s2, X, y_williams, cv=StratifiedKFold(n_splits=3, shuffle=True, random_state=8401),\n",
    "                                     scoring=('precision','recall','f1'), return_train_score=False)\n",
    "print(stratified_cv_results_s2)"
   ]
  },
  {
   "cell_type": "code",
   "execution_count": 30,
   "metadata": {},
   "outputs": [
    {
     "name": "stdout",
     "output_type": "stream",
     "text": [
      "0.2603174603174603\n"
     ]
    }
   ],
   "source": [
    "print(np.mean(stratified_cv_results_s2['test_f1']))"
   ]
  },
  {
   "cell_type": "code",
   "execution_count": 20,
   "metadata": {},
   "outputs": [
    {
     "name": "stdout",
     "output_type": "stream",
     "text": [
      "{'fit_time': array([12.9623692 , 12.66510129, 12.5404675 ]), 'score_time': array([15.62920904, 15.30710363, 15.04978633]), 'test_precision': array([0.6       , 0.83333333, 1.        ]), 'test_recall': array([0.16666667, 0.29411765, 0.35294118]), 'test_f1': array([0.26086957, 0.43478261, 0.52173913])}\n"
     ]
    }
   ],
   "source": [
    "value=(1/(X.shape[1]*X.std()))\n",
    "value\n",
    "svc_rbf_10=svm.SVC(C=10,kernel='rbf',gamma=value)\n",
    "stratified_cv_results_rbf_b=cross_validate(svc_rbf_10, X, y_williams, cv=StratifiedKFold(n_splits=3, shuffle=True, random_state=8401),\n",
    "                                     scoring=('precision','recall','f1'), return_train_score=False)\n",
    "print(stratified_cv_results_rbf_b)"
   ]
  },
  {
   "cell_type": "code",
   "execution_count": 21,
   "metadata": {},
   "outputs": [
    {
     "name": "stderr",
     "output_type": "stream",
     "text": [
      "c:\\users\\spver\\appdata\\local\\programs\\python\\python36\\lib\\site-packages\\sklearn\\metrics\\classification.py:1135: UndefinedMetricWarning: Precision is ill-defined and being set to 0.0 due to no predicted samples.\n",
      "  'precision', 'predicted', average, warn_for)\n",
      "c:\\users\\spver\\appdata\\local\\programs\\python\\python36\\lib\\site-packages\\sklearn\\metrics\\classification.py:1135: UndefinedMetricWarning: F-score is ill-defined and being set to 0.0 due to no predicted samples.\n",
      "  'precision', 'predicted', average, warn_for)\n",
      "c:\\users\\spver\\appdata\\local\\programs\\python\\python36\\lib\\site-packages\\sklearn\\metrics\\classification.py:1135: UndefinedMetricWarning: Precision is ill-defined and being set to 0.0 due to no predicted samples.\n",
      "  'precision', 'predicted', average, warn_for)\n",
      "c:\\users\\spver\\appdata\\local\\programs\\python\\python36\\lib\\site-packages\\sklearn\\metrics\\classification.py:1135: UndefinedMetricWarning: F-score is ill-defined and being set to 0.0 due to no predicted samples.\n",
      "  'precision', 'predicted', average, warn_for)\n",
      "c:\\users\\spver\\appdata\\local\\programs\\python\\python36\\lib\\site-packages\\sklearn\\metrics\\classification.py:1135: UndefinedMetricWarning: Precision is ill-defined and being set to 0.0 due to no predicted samples.\n",
      "  'precision', 'predicted', average, warn_for)\n"
     ]
    },
    {
     "name": "stdout",
     "output_type": "stream",
     "text": [
      "{'fit_time': array([11.88407636, 12.52750325, 11.63489127]), 'score_time': array([15.19786811, 14.67276597, 13.93074918]), 'test_precision': array([0., 0., 0.]), 'test_recall': array([0., 0., 0.]), 'test_f1': array([0., 0., 0.])}\n"
     ]
    },
    {
     "name": "stderr",
     "output_type": "stream",
     "text": [
      "c:\\users\\spver\\appdata\\local\\programs\\python\\python36\\lib\\site-packages\\sklearn\\metrics\\classification.py:1135: UndefinedMetricWarning: F-score is ill-defined and being set to 0.0 due to no predicted samples.\n",
      "  'precision', 'predicted', average, warn_for)\n"
     ]
    }
   ],
   "source": [
    "svc_rbf_1=svm.SVC(C=1,kernel='rbf',gamma=value)\n",
    "stratified_cv_results_rbf_a=cross_validate(svc_rbf_1, X, y_williams, cv=StratifiedKFold(n_splits=3, shuffle=True, random_state=8401),\n",
    "                                     scoring=('precision','recall','f1'), return_train_score=False)\n",
    "print(stratified_cv_results_rbf_a)"
   ]
  },
  {
   "cell_type": "code",
   "execution_count": 22,
   "metadata": {},
   "outputs": [
    {
     "name": "stdout",
     "output_type": "stream",
     "text": [
      "{'fit_time': array([13.02718902, 13.58271575, 14.39140821]), 'score_time': array([16.03609467, 16.90577531, 17.63188386]), 'test_precision': array([0.5       , 0.85714286, 1.        ]), 'test_recall': array([0.16666667, 0.35294118, 0.35294118]), 'test_f1': array([0.25      , 0.5       , 0.52173913])}\n"
     ]
    }
   ],
   "source": [
    "svc_rbf_100=svm.SVC(C=100,kernel='rbf',gamma=value)\n",
    "stratified_cv_results_rbf_c=cross_validate(svc_rbf_100, X, y_williams, cv=StratifiedKFold(n_splits=3, shuffle=True, random_state=8401),\n",
    "                                     scoring=('precision','recall','f1'), return_train_score=False)\n",
    "print(stratified_cv_results_rbf_c)"
   ]
  },
  {
   "cell_type": "code",
   "execution_count": 23,
   "metadata": {},
   "outputs": [
    {
     "name": "stdout",
     "output_type": "stream",
     "text": [
      "{'fit_time': array([13.06110048, 13.85797548, 15.00223613]), 'score_time': array([15.96229029, 16.72527647, 18.51106095]), 'test_precision': array([0.5       , 0.85714286, 1.        ]), 'test_recall': array([0.16666667, 0.35294118, 0.35294118]), 'test_f1': array([0.25      , 0.5       , 0.52173913])}\n"
     ]
    }
   ],
   "source": [
    "svc_rbf_10000=svm.SVC(C=10000,kernel='rbf',gamma=value)\n",
    "stratified_cv_results_rbf_b1=cross_validate(svc_rbf_10000, X, y_williams, cv=StratifiedKFold(n_splits=3, shuffle=True, random_state=8401),\n",
    "                                     scoring=('precision','recall','f1'), return_train_score=False)\n",
    "print(stratified_cv_results_rbf_b1)"
   ]
  },
  {
   "cell_type": "code",
   "execution_count": 24,
   "metadata": {},
   "outputs": [
    {
     "name": "stdout",
     "output_type": "stream",
     "text": [
      "{'fit_time': array([13.06808257, 14.23396444, 14.40148997]), 'score_time': array([16.35224748, 17.42637587, 17.75153232]), 'test_precision': array([0.5       , 0.85714286, 1.        ]), 'test_recall': array([0.16666667, 0.35294118, 0.35294118]), 'test_f1': array([0.25      , 0.5       , 0.52173913])}\n"
     ]
    }
   ],
   "source": [
    "svc_rbf_100000=svm.SVC(C=100000,kernel='rbf',gamma=value)\n",
    "stratified_cv_results_rbf_b2=cross_validate(svc_rbf_100000, X, y_williams, cv=StratifiedKFold(n_splits=3, shuffle=True, random_state=8401),\n",
    "                                     scoring=('precision','recall','f1'), return_train_score=False)\n",
    "print(stratified_cv_results_rbf_b2)"
   ]
  },
  {
   "cell_type": "code",
   "execution_count": 32,
   "metadata": {},
   "outputs": [
    {
     "name": "stdout",
     "output_type": "stream",
     "text": [
      "0.4239130434782609\n"
     ]
    }
   ],
   "source": [
    "print(np.mean(stratified_cv_results_rbf_b2['test_f1']))"
   ]
  },
  {
   "cell_type": "code",
   "execution_count": 25,
   "metadata": {},
   "outputs": [
    {
     "name": "stderr",
     "output_type": "stream",
     "text": [
      "c:\\users\\spver\\appdata\\local\\programs\\python\\python36\\lib\\site-packages\\sklearn\\metrics\\classification.py:1135: UndefinedMetricWarning: Precision is ill-defined and being set to 0.0 due to no predicted samples.\n",
      "  'precision', 'predicted', average, warn_for)\n",
      "c:\\users\\spver\\appdata\\local\\programs\\python\\python36\\lib\\site-packages\\sklearn\\metrics\\classification.py:1135: UndefinedMetricWarning: F-score is ill-defined and being set to 0.0 due to no predicted samples.\n",
      "  'precision', 'predicted', average, warn_for)\n",
      "c:\\users\\spver\\appdata\\local\\programs\\python\\python36\\lib\\site-packages\\sklearn\\metrics\\classification.py:1135: UndefinedMetricWarning: Precision is ill-defined and being set to 0.0 due to no predicted samples.\n",
      "  'precision', 'predicted', average, warn_for)\n",
      "c:\\users\\spver\\appdata\\local\\programs\\python\\python36\\lib\\site-packages\\sklearn\\metrics\\classification.py:1135: UndefinedMetricWarning: F-score is ill-defined and being set to 0.0 due to no predicted samples.\n",
      "  'precision', 'predicted', average, warn_for)\n",
      "c:\\users\\spver\\appdata\\local\\programs\\python\\python36\\lib\\site-packages\\sklearn\\metrics\\classification.py:1135: UndefinedMetricWarning: Precision is ill-defined and being set to 0.0 due to no predicted samples.\n",
      "  'precision', 'predicted', average, warn_for)\n"
     ]
    },
    {
     "name": "stdout",
     "output_type": "stream",
     "text": [
      "{'fit_time': array([10.87391567, 12.00290489, 11.04845762]), 'score_time': array([12.92845869, 14.22599077, 13.62955356]), 'test_precision': array([0., 0., 0.]), 'test_recall': array([0., 0., 0.]), 'test_f1': array([0., 0., 0.])}\n"
     ]
    },
    {
     "name": "stderr",
     "output_type": "stream",
     "text": [
      "c:\\users\\spver\\appdata\\local\\programs\\python\\python36\\lib\\site-packages\\sklearn\\metrics\\classification.py:1135: UndefinedMetricWarning: F-score is ill-defined and being set to 0.0 due to no predicted samples.\n",
      "  'precision', 'predicted', average, warn_for)\n"
     ]
    }
   ],
   "source": [
    "svc_rbf_s=svm.SVC(C=0.1,kernel='rbf',gamma=value)\n",
    "stratified_cv_results_rbf_s=cross_validate(svc_rbf_s, X, y_williams, cv=StratifiedKFold(n_splits=3, shuffle=True, random_state=8401),\n",
    "                                     scoring=('precision','recall','f1'), return_train_score=False)\n",
    "print(stratified_cv_results_rbf_s)"
   ]
  },
  {
   "cell_type": "code",
   "execution_count": 1,
   "metadata": {},
   "outputs": [
    {
     "name": "stdout",
     "output_type": "stream",
     "text": [
      "hi\n"
     ]
    }
   ],
   "source": [
    "print(\"hi\")"
   ]
  },
  {
   "cell_type": "code",
   "execution_count": 60,
   "metadata": {},
   "outputs": [
    {
     "name": "stdout",
     "output_type": "stream",
     "text": [
      "22.044558842976887\n",
      "26.703447580337524\n",
      "0.7380952380952381\n",
      "0.32679738562091504\n",
      "0.4527350427350427\n"
     ]
    }
   ],
   "source": [
    "print(np.mean(stratified_cv_results_poly_1['fit_time']))\n",
    "print(np.mean(stratified_cv_results_poly_1['score_time']))\n",
    "print(np.mean(stratified_cv_results_poly_1['test_precision']))\n",
    "print(np.mean(stratified_cv_results_poly_1['test_recall']))\n",
    "print(np.mean(stratified_cv_results_poly_1['test_f1']))"
   ]
  },
  {
   "cell_type": "code",
   "execution_count": 57,
   "metadata": {},
   "outputs": [],
   "source": [
    "svc_poly_2=svm.SVC(C=10,kernel='poly',degree=10,coef0=100)"
   ]
  },
  {
   "cell_type": "code",
   "execution_count": 58,
   "metadata": {},
   "outputs": [
    {
     "name": "stdout",
     "output_type": "stream",
     "text": [
      "{'fit_time': array([24.94022012, 25.09431982, 26.65649462]), 'score_time': array([28.10349035, 27.00484109, 29.16359234]), 'test_precision': array([0.6       , 0.54545455, 0.72727273]), 'test_recall': array([0.33333333, 0.35294118, 0.47058824]), 'test_f1': array([0.42857143, 0.42857143, 0.57142857])}\n",
      "25.56367818514506\n",
      "28.090641260147095\n",
      "0.6242424242424243\n",
      "0.3856209150326797\n",
      "0.4761904761904761\n"
     ]
    }
   ],
   "source": [
    "stratified_cv_results_poly_2=cross_validate(svc_poly_2, X, y_williams, cv=StratifiedKFold(n_splits=3, shuffle=True, random_state=8401),\n",
    "                                     scoring=('precision','recall','f1'), return_train_score=False)\n",
    "print(stratified_cv_results_poly_2)\n",
    "print(np.mean(stratified_cv_results_poly_2['fit_time']))\n",
    "print(np.mean(stratified_cv_results_poly_2['score_time']))\n",
    "print(np.mean(stratified_cv_results_poly_2['test_precision']))\n",
    "print(np.mean(stratified_cv_results_poly_2['test_recall']))\n",
    "print(np.mean(stratified_cv_results_poly_2['test_f1']))"
   ]
  },
  {
   "cell_type": "code",
   "execution_count": null,
   "metadata": {},
   "outputs": [],
   "source": [
    "svc_poly_3=svm.SVC(C=1,kernel='poly',degree=300)"
   ]
  },
  {
   "cell_type": "code",
   "execution_count": null,
   "metadata": {},
   "outputs": [],
   "source": [
    "stratified_cv_results_poly_3=cross_validate(svc_poly_3, X, y_williams, cv=StratifiedKFold(n_splits=3, shuffle=True, random_state=8401),\n",
    "                                     scoring=('precision','recall','f1'), return_train_score=False)\n",
    "print(stratified_cv_results_poly_3)"
   ]
  }
 ],
 "metadata": {
  "kernelspec": {
   "display_name": "Python 3",
   "language": "python",
   "name": "python3"
  },
  "language_info": {
   "codemirror_mode": {
    "name": "ipython",
    "version": 3
   },
   "file_extension": ".py",
   "mimetype": "text/x-python",
   "name": "python",
   "nbconvert_exporter": "python",
   "pygments_lexer": "ipython3",
   "version": "3.6.6"
  }
 },
 "nbformat": 4,
 "nbformat_minor": 2
}
